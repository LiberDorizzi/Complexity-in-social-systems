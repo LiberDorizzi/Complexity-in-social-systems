{
 "cells": [
  {
   "cell_type": "markdown",
   "metadata": {},
   "source": [
    "# Visualing Spatial Data in Python: An Overview \n",
    "\n",
    "#### Contact: Rossano Schifanella, schifane@di.unito.it"
   ]
  },
  {
   "cell_type": "markdown",
   "metadata": {},
   "source": [
    "## Mapping in Python with geopandas"
   ]
  },
  {
   "cell_type": "code",
   "execution_count": null,
   "metadata": {},
   "outputs": [],
   "source": [
    "%matplotlib inline\n",
    "\n",
    "import matplotlib\n",
    "import matplotlib.pyplot as plt\n",
    "\n",
    "from IPython.display import set_matplotlib_formats\n",
    "set_matplotlib_formats('retina')\n",
    "\n",
    "import geopandas as gpd\n",
    "import pysal as ps\n",
    "\n",
    "import palettable as pltt\n",
    "import seaborn as sns\n",
    "from seaborn import palplot\n",
    "import numpy as np\n",
    "\n",
    "\n"
   ]
  },
  {
   "cell_type": "markdown",
   "metadata": {},
   "source": [
    "## Loading up spatial data "
   ]
  },
  {
   "cell_type": "markdown",
   "metadata": {},
   "source": [
    "The easiest way to get from a file to a quick visualization of the data is by loading it as a `GeoDataFrame` and calling the `plot` command. The main library employed for all of this is `geopandas` which is a geospatial extension of the `pandas` library, already introduced before. `geopandas` supports exactly the same functionality that `pandas` does (in fact since it is built on top of it, so most of the underlying machinery is pure `pandas`), plus a wide range of spatial counterparts that make manipulation and general \"munging\" of spatial data as easy as non-spatial tables.\n",
    "\n",
    "In two lines of code, we will obtain a graphical representation of the spatial data contained in a file that can be in many formats; actually, since it uses the same drivers under the hood, you can load pretty much the same kind of vector files that QGIS permits. Let us start by plotting single layers in a crude but quick form, and we will build style and sophistication into our plots later on.\n",
    "\n",
    "* Polygons\n",
    "\n",
    "Let us begin with the most common type of spatial data in the social science: polygons. For example, we can load the geography of MSOAs in London with the following lines of code:"
   ]
  },
  {
   "cell_type": "code",
   "execution_count": null,
   "metadata": {},
   "outputs": [],
   "source": [
    "msoas_london_link = 'data/shp/MSOA_London.shp'\n",
    "msoas_london = gpd.read_file(msoas_london_link)\n",
    "msoas_london.head()"
   ]
  },
  {
   "cell_type": "code",
   "execution_count": null,
   "metadata": {},
   "outputs": [],
   "source": [
    "msoas_london.plot()"
   ]
  },
  {
   "cell_type": "markdown",
   "metadata": {},
   "source": [
    "This might not be the most aesthetically pleasant visual representation of the MSOAs geography, but it is hard to argue it is not quick to produce. We will work on styling and customizing spatial plots later on."
   ]
  },
  {
   "cell_type": "markdown",
   "metadata": {},
   "source": [
    "If you call a single row of the `geometry` column, it'll return a small plot ith the shape:"
   ]
  },
  {
   "cell_type": "code",
   "execution_count": null,
   "metadata": {},
   "outputs": [],
   "source": [
    "msoas_london.loc[10, 'geometry']"
   ]
  },
  {
   "cell_type": "markdown",
   "metadata": {},
   "source": [
    "* Lines\n",
    "\n",
    "Displaying lines is as straight-forward as polygons. To load tube lines in London:"
   ]
  },
  {
   "cell_type": "code",
   "execution_count": null,
   "metadata": {},
   "outputs": [],
   "source": [
    "london_tube_link = 'data/shp/tublines.shp'\n",
    "london_tube = gpd.read_file(london_tube_link)"
   ]
  },
  {
   "cell_type": "code",
   "execution_count": null,
   "metadata": {},
   "outputs": [],
   "source": [
    "london_tube.plot()"
   ]
  },
  {
   "cell_type": "markdown",
   "metadata": {},
   "source": [
    "* Points\n",
    "\n",
    "Finally, points follow a similar structure. If we want to represent named places in London:"
   ]
  },
  {
   "cell_type": "code",
   "execution_count": null,
   "metadata": {},
   "outputs": [],
   "source": [
    "london_pois_link = 'data/shp/osm_pois_london.shp'\n",
    "london_pois = gpd.read_file(london_pois_link)"
   ]
  },
  {
   "cell_type": "code",
   "execution_count": null,
   "metadata": {},
   "outputs": [],
   "source": [
    "london_pois.plot()"
   ]
  },
  {
   "cell_type": "code",
   "execution_count": null,
   "metadata": {},
   "outputs": [],
   "source": [
    "london_pois = london_pois.to_crs({'datum': 'OSGB36',\n",
    "    'k': 0.999601272,\n",
    "    'lat_0': 49,\n",
    "    'lon_0': -2,\n",
    "    'no_defs': True,\n",
    "    'proj': 'tmerc',\n",
    "    'units': 'm',\n",
    "    'x_0': 400000,\n",
    "    'y_0': -100000\n",
    "})"
   ]
  },
  {
   "cell_type": "code",
   "execution_count": null,
   "metadata": {},
   "outputs": [],
   "source": [
    "london_pois['fclass'].unique()"
   ]
  },
  {
   "cell_type": "code",
   "execution_count": null,
   "metadata": {},
   "outputs": [],
   "source": [
    "london_pubs = london_pois.loc[london_pois['fclass']==\"pub\"]\n",
    "london_pubs.info()"
   ]
  },
  {
   "cell_type": "code",
   "execution_count": null,
   "metadata": {},
   "outputs": [],
   "source": [
    "london_pubs.plot()"
   ]
  },
  {
   "cell_type": "markdown",
   "metadata": {},
   "source": [
    "## Styling plots"
   ]
  },
  {
   "cell_type": "markdown",
   "metadata": {},
   "source": [
    "It is possible to tweak several aspects of a plot to customize if to particular needs. In this section, we will explore some of the basic elements that will allow us to obtain more compelling maps."
   ]
  },
  {
   "cell_type": "markdown",
   "metadata": {},
   "source": [
    "* Remove axis\n",
    "* Set title\n",
    "* Customizing colors, lines, alpha\n",
    "* Customizing size"
   ]
  },
  {
   "cell_type": "markdown",
   "metadata": {},
   "source": [
    "These are styling options. Omit them or alter them to suit."
   ]
  },
  {
   "cell_type": "code",
   "execution_count": null,
   "metadata": {},
   "outputs": [],
   "source": [
    "# from matplotlib import rc\n",
    "\n",
    "# rc('font', **{'family':'DejaVu Sans',\n",
    "#     'sans-serif':['Helvetica'],\n",
    "#     'monospace': ['Inconsolata'],\n",
    "#     'serif': ['Adobe Garamond Pro']}\n",
    "#   )"
   ]
  },
  {
   "cell_type": "code",
   "execution_count": null,
   "metadata": {},
   "outputs": [],
   "source": [
    "# Setup figure and axis\n",
    "f, ax = plt.subplots(\n",
    "    1, \n",
    "    figsize=(12., 8.),\n",
    "    dpi=200,\n",
    "    subplot_kw=dict(aspect='equal'))\n",
    "\n",
    "# Remove axis frames\n",
    "ax.axis('off')\n",
    "\n",
    "# Plot layer of polygons on the axis\n",
    "msoas_london.plot(ax=ax, linewidth=0.1, facecolor='#999999', edgecolor='#111111', alpha=0.8)\n",
    "# Display\n",
    "plt.title('Greater London MSOAs')\n",
    "plt.tight_layout()\n",
    "plt.show()    "
   ]
  },
  {
   "cell_type": "markdown",
   "metadata": {},
   "source": [
    "## Composing multi-layer maps"
   ]
  },
  {
   "cell_type": "markdown",
   "metadata": {},
   "source": [
    "So far we have considered many aspects of plotting a single layer of data. However, in many cases, an effective map will require more than one: for example we might want to display streets on top of the polygons of neighborhoods, and add a few points for specific locations we want to highlight. At the very heart of GIS is the possibility to combine spatial information from different sources by overlaying it on top of each other, and this is fully supported in Python.\n",
    "\n",
    "Essentially, combining different layers on a single map boils down to adding each of them to the same axis in a sequential way, as if we were literally overlaying one on top of the previous one. For example, let us get the simplest possible plot, one with the polygons from the MSOAs and the tube lines on top of them:"
   ]
  },
  {
   "cell_type": "code",
   "execution_count": null,
   "metadata": {},
   "outputs": [],
   "source": [
    "\n",
    "# Setup figure and axis\n",
    "f, ax = plt.subplots(\n",
    "    1, \n",
    "    figsize=(12., 8.),\n",
    "    dpi=200,\n",
    "    subplot_kw=dict(aspect='equal'))\n",
    "\n",
    "# Remove axis frames\n",
    "ax.axis('off')\n",
    "\n",
    "# Plot layer of polygons on the axis\n",
    "msoas_london.plot(ax=ax, linewidth=0.05, facecolor='#999999', edgecolor='#111111', alpha=0.8)\n",
    "london_tube.plot(ax=ax, linewidth=0.5, edgecolor='red', alpha=0.6)\n",
    "london_pubs.plot(ax=ax, linewidth=0.1, facecolor='blue', alpha=0.8, markersize=1)\n",
    "# Display\n",
    "plt.title('Greater London MSOAs+tube+pubs')\n",
    "plt.tight_layout()\n",
    "plt.show()    "
   ]
  },
  {
   "cell_type": "markdown",
   "metadata": {},
   "source": [
    "## Using palettes to create aesthetically pleasant maps\n",
    "\n",
    "The choice of colors can influence the look and, ultimately, the effectiveness of a map. Although in some cases picking colors that simply allow you to distinguish the different elements might suffice, sometimes, you want to convey certain feelings (warmth, safety, etc.). In those cases, using preexisting palettes can be useful.\n",
    "\n",
    "In this section, we will learn how to use pre-existent palettes to style your maps. We will be using the library [`palettable`](https://jiffyclub.github.io/palettable/), which provides many \"canned\" palettes. We will also use the handy function `palplot` (from the library `seaborn`) to examine the colors quickly.\n",
    "\n",
    "For the sake of the example, let us use a palette based on one of Wes Anderson's movies, Darjeeling Limited:\n",
    "\n",
    "<img src='http://66.media.tumblr.com/2815b755b493555dd4a74fc9f7c84bdb/tumblr_nj7cclt9qb1tvvqeko1_500.jpg'></img>\n",
    "\n",
    "Here is how you can pull out those colors:"
   ]
  },
  {
   "cell_type": "code",
   "execution_count": null,
   "metadata": {},
   "outputs": [],
   "source": [
    "wes = pltt.wesanderson.Darjeeling2_5.hex_colors\n",
    "palplot(wes)"
   ]
  },
  {
   "cell_type": "markdown",
   "metadata": {},
   "source": [
    "Now, note how the object `wes` simply contains a list of colors in the hex standard:"
   ]
  },
  {
   "cell_type": "code",
   "execution_count": null,
   "metadata": {},
   "outputs": [],
   "source": [
    "wes"
   ]
  },
  {
   "cell_type": "code",
   "execution_count": null,
   "metadata": {},
   "outputs": [],
   "source": [
    "# Setup figure and axis\n",
    "f, ax = plt.subplots(\n",
    "    1, \n",
    "    figsize=(12., 8.),\n",
    "    dpi=200,\n",
    "    subplot_kw=dict(aspect='equal'))\n",
    "\n",
    "# Remove axis frames\n",
    "ax.axis('off')\n",
    "ax.set_title('Greater London MSOAs+tube+pubs')\n",
    "\n",
    "# Plot layer of polygons on the axis\n",
    "msoas_london.plot(ax=ax, linewidth=0.05, facecolor='#D5E3D8', edgecolor='#D5E3D8', alpha=0.8)\n",
    "london_tube.plot(ax=ax, linewidth=0.5, edgecolor='#618A98', alpha=0.4)\n",
    "london_pubs.plot(ax=ax, linewidth=0.1, facecolor='#F9DA95', alpha=1.0, edgecolor='#AE4B16', markersize=2)\n",
    "# Display\n",
    "plt.tight_layout()\n",
    "plt.show()    "
   ]
  },
  {
   "cell_type": "markdown",
   "metadata": {},
   "source": [
    "## Saving maps to figures \n",
    "\n",
    "Once we have produced a map we are content with, we might want to save it to a file so we can include it into a report, article, website, etc. Exporting maps in Python is as simple as replacing `plt.show` by `plt.savefig` at the end of the code block to specify where and how to save it. For example to save the previous map into a `png` file in the same folder where the notebook is hosted:"
   ]
  },
  {
   "cell_type": "code",
   "execution_count": null,
   "metadata": {},
   "outputs": [],
   "source": [
    "# Setup figure and axis\n",
    "f, ax = plt.subplots(\n",
    "    1, \n",
    "    figsize=(12., 8.),\n",
    "    dpi=200,\n",
    "    subplot_kw=dict(aspect='equal'))\n",
    "\n",
    "# Remove axis frames\n",
    "ax.axis('off')\n",
    "ax.set_title('Greater London MSOAs+tube+pubs')\n",
    "\n",
    "# Plot layer of polygons on the axis\n",
    "msoas_london.plot(ax=ax, linewidth=0.05, facecolor='#D5E3D8', edgecolor='#D5E3D8', alpha=0.8)\n",
    "london_tube.plot(ax=ax, linewidth=0.6, edgecolor='#618A98', alpha=0.4)\n",
    "london_pubs.plot(ax=ax, linewidth=0.1, facecolor='#F9DA95', alpha=1.0, edgecolor='#AE4B16', markersize=2)\n",
    "# Save to file\n",
    "plt.savefig('figs/london_tube_pubs.png', dpi=500, transparent=True, tight_layout=True)"
   ]
  },
  {
   "cell_type": "markdown",
   "metadata": {},
   "source": [
    "# Choropleths"
   ]
  },
  {
   "cell_type": "markdown",
   "metadata": {},
   "source": [
    "## Unique values\n",
    "\n",
    "A choropleth for categorical variables simply assigns a different color to every potential value in the series. The main requirement in this case is then for the color scheme to reflect the fact that different values are not ordered or follow a particular scale.\n",
    "\n",
    "In Python, thanks to `geopandas`, creating categorical choropleths is possible with one line of code. To demonstrate this, we can plot the spatial distribution of MSOAs with a more white population than other races and viceversa:"
   ]
  },
  {
   "cell_type": "code",
   "execution_count": null,
   "metadata": {},
   "outputs": [],
   "source": [
    "msoas_london['majority_race'] = np.where(msoas_london.eval(\"white_p > 50\"), \"White\", \"Other\")"
   ]
  },
  {
   "cell_type": "code",
   "execution_count": null,
   "metadata": {},
   "outputs": [],
   "source": [
    "f, ax = plt.subplots(\n",
    "    1, \n",
    "    figsize=(12., 8.),\n",
    "    dpi=200,\n",
    "    subplot_kw=dict(aspect='equal'))\n",
    "\n",
    "ax.axis('off')\n",
    "\n",
    "msoas_london.plot(\n",
    "    ax=ax,\n",
    "    column='majority_race',\n",
    "    categorical=True,\n",
    "    alpha=1, \n",
    "    edgecolor='w', \n",
    "    linewidth=0.1, \n",
    "    legend=True, \n",
    "    antialiased=True\n",
    ")\n",
    "\n",
    "plt.tight_layout()\n",
    "plt.show()"
   ]
  },
  {
   "cell_type": "markdown",
   "metadata": {},
   "source": [
    "Let us stop for a second in a few crucial aspects:\n",
    "\n",
    "* Note how we are using the same approach as for basic maps, the command `plot`, but we now need to add the argument `column` to specify which column in particular is to be represented.\n",
    "* Since the variable is categorical we need to make that explicit by setting the argument `categorical` to `True`.\n",
    "* As an optional argument, we can set `legend` to `True` and the resulting figure will include a legend with the names of all the values in the map.\n",
    "* Unless we specify a different colormap, the selected one respects the categorical nature of the data by not implying a gradient or scale but a qualitative structure."
   ]
  },
  {
   "cell_type": "markdown",
   "metadata": {},
   "source": [
    "## Equal intervals"
   ]
  },
  {
   "cell_type": "markdown",
   "metadata": {},
   "source": [
    "If, instead of categorical variables, we want to display the geographical distribution of a continuous phenomenon, we need to select a way to encode each value into a color. One potential solution is applying what is usually called \"equal intervals\". The intuition of this method is to split the *range* of the distribution, the difference between the minimum and maximum value, into equally large segments and to assign a different color to each of them according to a palette that reflects the fact that values are ordered.\n",
    "\n",
    "Using the example of the position of a MSOA in the national ranking of the IMD (`imd_rank`), we can calculate these segments, also called bins or buckets, using the library `PySAL`:"
   ]
  },
  {
   "cell_type": "code",
   "execution_count": null,
   "metadata": {},
   "outputs": [],
   "source": [
    "imd_attribute = 'crime'"
   ]
  },
  {
   "cell_type": "code",
   "execution_count": null,
   "metadata": {},
   "outputs": [],
   "source": [
    "classes = ps.Equal_Interval(msoas_london[imd_attribute], k=7)\n",
    "classes"
   ]
  },
  {
   "cell_type": "markdown",
   "metadata": {},
   "source": [
    "The only additional argument to pass to `Equal_Interval`, other than the actual variable we would like to classify is the number of segments we want to create, `k`, which we are arbitrarily setting to seven in this case. This will be the number of colors that will be plotted on the map so, although having several can give more detail, at some point the marginal value of an additional one is fairly limited, given the ability of the brain to tell any differences.\n",
    "\n",
    "Once we have classified the variable, we can check the actual break points where values stop being in one class and become part of the next one:"
   ]
  },
  {
   "cell_type": "code",
   "execution_count": null,
   "metadata": {},
   "outputs": [],
   "source": [
    "classes.bins"
   ]
  },
  {
   "cell_type": "code",
   "execution_count": null,
   "metadata": {},
   "outputs": [],
   "source": [
    "def draw_bins(geodf, attribute, scheme):\n",
    "\n",
    "    schemes = {'equal_interval': ps.Equal_Interval, \\\n",
    "               'quantiles': ps.Quantiles, \\\n",
    "               'fisher_jenks': ps.Fisher_Jenks}\n",
    "    \n",
    "    classi = schemes[scheme](geodf[attribute], k=7)\n",
    "    \n",
    "    # Set up the figure\n",
    "    f, ax = plt.subplots(1)\n",
    "    # Plot the kernel density estimation (KDE)\n",
    "    sns.kdeplot(geodf[attribute], shade=True)\n",
    "    # Add a blue tick for every value at the bottom of the plot (rugs)\n",
    "    sns.rugplot(geodf[attribute], alpha=0.5)\n",
    "    # Loop over each break point and plot a vertical red line\n",
    "    for cut in classi.bins:\n",
    "        plt.axvline(cut, color='red', linewidth=0.75)\n",
    "    # Display image\n",
    "    plt.show()\n",
    "\n",
    "draw_bins(msoas_london, imd_attribute, 'equal_interval')"
   ]
  },
  {
   "cell_type": "markdown",
   "metadata": {},
   "source": [
    "Technically speaking, the figure is created by overlaying a KDE plot with vertical bars for each of the break points. This makes much more explicit the issue highlighed by which the first bin contains a large amount of observations while the one with top values only encompasses a handful of them.\n",
    "\n",
    "To create a map that displays the colors assigned by the equal interval classification algorithm, we use a similar approach as with unique values but with some key differences:"
   ]
  },
  {
   "cell_type": "code",
   "execution_count": null,
   "metadata": {},
   "outputs": [],
   "source": [
    "f, ax = plt.subplots(\n",
    "    1, \n",
    "    figsize=(12., 8.),\n",
    "    dpi=200,\n",
    "    subplot_kw=dict(aspect='equal'))\n",
    "\n",
    "ax.axis('off')\n",
    "ax.set_title(\"London IMD 2015\")\n",
    "\n",
    "msoas_london.plot(\n",
    "    ax=ax,\n",
    "    column=imd_attribute, \n",
    "    scheme='equal_interval', k=7, \n",
    "    cmap=plt.cm.Blues, \n",
    "    alpha=1, \n",
    "    edgecolor='w', \n",
    "    linewidth=0.1, \n",
    "    legend=True, \n",
    "    antialiased=True\n",
    ")\n",
    "\n",
    "plt.tight_layout()\n",
    "plt.show()"
   ]
  },
  {
   "cell_type": "markdown",
   "metadata": {},
   "source": [
    "We can use the parameter `legend_kwds` to customize the legend appearance (make sure you install geopandas directly from the github repository otherwise the `legend_kwds` parameter will not work properly as of now):"
   ]
  },
  {
   "cell_type": "code",
   "execution_count": null,
   "metadata": {},
   "outputs": [],
   "source": [
    "f, ax = plt.subplots(\n",
    "    1, \n",
    "    figsize=(12., 8.),\n",
    "    dpi=200,\n",
    "    subplot_kw=dict(aspect='equal'))\n",
    "\n",
    "ax.axis('off')\n",
    "ax.set_title(\"London IMD 2015\")\n",
    "\n",
    "msoas_london.plot(\n",
    "    ax=ax,\n",
    "    column=imd_attribute, \n",
    "    scheme='equal_interval', k=7, \n",
    "    cmap=plt.cm.Blues, \n",
    "    alpha=1, \n",
    "    edgecolor='w', \n",
    "    linewidth=0.1, \n",
    "    legend=True\n",
    ")\n",
    "\n",
    "# Display data sources\n",
    "smallprint = ax.text(\n",
    "    .995, 0,\n",
    "    'Classification Method: Equal Interval\\n \\\n",
    "    Contains National Statistics data\\n \\\n",
    "    Contains Ordnance Survey data on %d MSOAs\\n \\\n",
    "    $\\copyright$ eurosys 2018' % int(msoas_london[imd_attribute].count()),\n",
    "    ha='right', va='bottom',\n",
    "    size=10,\n",
    "    color='#555555',\n",
    "    transform=ax.transAxes)\n",
    "\n",
    "plt.tight_layout()\n",
    "plt.show()\n"
   ]
  },
  {
   "cell_type": "markdown",
   "metadata": {},
   "source": [
    "The custom class CustomGeoDataFrame has been introduced to solve an inconsistency (i.e., the impossibility of use the parameter legend_kwds) in the current geopandas pip package implementation. The issue is likely to be solved in the next realeses, however, in this tutorial we will make use - when necessary - of the modified version. "
   ]
  },
  {
   "cell_type": "code",
   "execution_count": null,
   "metadata": {},
   "outputs": [],
   "source": [
    "from geopandas import GeoDataFrame\n",
    "from geopandas.plotting import __pysal_choro\n",
    "from geopandas.plotting import plot_polygon_collection\n",
    "from geopandas.plotting import plot_linestring_collection\n",
    "from geopandas.plotting import plot_point_collection\n",
    "from geopandas.plotting import plot_series\n",
    "\n",
    "class CustomGeoDataFrame(GeoDataFrame):\n",
    "    \n",
    "        def plot(self, *args, **kwargs):\n",
    "            \"\"\"Generate a plot of the geometries in the ``GeoDataFrame``.\n",
    "\n",
    "            If the ``column`` parameter is given, colors plot according to values\n",
    "            in that column, otherwise calls ``GeoSeries.plot()`` on the\n",
    "            ``geometry`` column.\n",
    "\n",
    "            Wraps the ``plot_dataframe()`` function, and documentation is copied\n",
    "            from there.\n",
    "            \"\"\"\n",
    "            \n",
    "            return plot_dataframe(self, *args, **kwargs)"
   ]
  },
  {
   "cell_type": "code",
   "execution_count": null,
   "metadata": {},
   "outputs": [],
   "source": [
    "def plot_dataframe(df, column=None, cmap=None, color=None, ax=None,\n",
    "                   categorical=False, legend=False, scheme=None, k=5, breaks=None, \n",
    "                   vmin=None, vmax=None, markersize=None, figsize=None,\n",
    "                   legend_kwds=None, **style_kwds):\n",
    "   \n",
    "        \n",
    "    if 'colormap' in style_kwds:\n",
    "        warnings.warn(\"'colormap' is deprecated, please use 'cmap' instead \"\n",
    "                      \"(for consistency with matplotlib)\", FutureWarning)\n",
    "        cmap = style_kwds.pop('colormap')\n",
    "    if 'axes' in style_kwds:\n",
    "        warnings.warn(\"'axes' is deprecated, please use 'ax' instead \"\n",
    "                      \"(for consistency with pandas)\", FutureWarning)\n",
    "        ax = style_kwds.pop('axes')\n",
    "    if column and color:\n",
    "        warnings.warn(\"Only specify one of 'column' or 'color'. Using \"\n",
    "                      \"'color'.\", UserWarning)\n",
    "        column = None\n",
    "\n",
    "    import matplotlib\n",
    "    import matplotlib.pyplot as plt\n",
    "\n",
    "    if ax is None:\n",
    "        fig, ax = plt.subplots(figsize=figsize)\n",
    "        ax.set_aspect('equal')\n",
    "\n",
    "    if df.empty:\n",
    "        warnings.warn(\"The GeoDataFrame you are attempting to plot is \"\n",
    "                      \"empty. Nothing has been displayed.\", UserWarning)\n",
    "        return ax\n",
    "\n",
    "    if isinstance(markersize, str):\n",
    "        markersize = df[markersize].values\n",
    "\n",
    "    if column is None:\n",
    "        return plot_series(df.geometry, cmap=cmap, color=color, ax=ax,\n",
    "                           figsize=figsize, markersize=markersize,\n",
    "                           **style_kwds)\n",
    "\n",
    "    if df[column].dtype is np.dtype('O'):\n",
    "        categorical = True\n",
    "\n",
    "    # Define `values` as a Series\n",
    "    if categorical:\n",
    "        if cmap is None:\n",
    "            if LooseVersion(matplotlib.__version__) >= '2.0.1':\n",
    "                cmap = 'tab10'\n",
    "            elif LooseVersion(matplotlib.__version__) >= '2.0.0':\n",
    "                # Erroneous name.\n",
    "                cmap = 'Vega10'\n",
    "            else:\n",
    "                cmap = 'Set1'\n",
    "        categories = list(set(df[column].values))\n",
    "        categories.sort()\n",
    "        valuemap = dict([(k, v) for (v, k) in enumerate(categories)])\n",
    "        values = np.array([valuemap[k] for k in df[column]])\n",
    "    else:\n",
    "        values = df[column]\n",
    "    \n",
    "    \n",
    "    if scheme is not None:\n",
    "    \n",
    "        binning = __pysal_choro(values, scheme, k=k)\n",
    "        # set categorical to True for creating the legend\n",
    "        categorical = True\n",
    "        binedges = [values.min()] + binning.bins.tolist()\n",
    "        categories = ['{0:.2f} - {1:.2f}'.format(binedges[i], binedges[i+1])\n",
    "                      for i in range(len(binedges)-1)]\n",
    "        values = np.array(binning.yb)\n",
    "\n",
    "    mn = values.min() if vmin is None else vmin\n",
    "    mx = values.max() if vmax is None else vmax\n",
    "    \n",
    "    geom_types = df.geometry.type\n",
    "    poly_idx = np.asarray((geom_types == 'Polygon')\n",
    "                          | (geom_types == 'MultiPolygon'))\n",
    "    line_idx = np.asarray((geom_types == 'LineString')\n",
    "                          | (geom_types == 'MultiLineString'))\n",
    "    point_idx = np.asarray((geom_types == 'Point')\n",
    "                          | (geom_types == 'MultiPoint'))\n",
    "\n",
    "    # plot all Polygons and all MultiPolygon components in the same collection\n",
    "    polys = df.geometry[poly_idx]\n",
    "    if not polys.empty:\n",
    "        plot_polygon_collection(ax, polys, values[poly_idx],\n",
    "                                vmin=mn, vmax=mx, cmap=cmap, **style_kwds)\n",
    "\n",
    "    # plot all LineStrings and MultiLineString components in same collection\n",
    "    lines = df.geometry[line_idx]\n",
    "    if not lines.empty:\n",
    "        plot_linestring_collection(ax, lines, values[line_idx],\n",
    "                                   vmin=mn, vmax=mx, cmap=cmap, **style_kwds)\n",
    "\n",
    "    # plot all Points in the same collection\n",
    "    points = df.geometry[point_idx]\n",
    "    if not points.empty:\n",
    "        if isinstance(markersize, np.ndarray):\n",
    "            markersize = markersize[point_idx]\n",
    "        plot_point_collection(ax, points, values[point_idx], vmin=mn, vmax=mx,\n",
    "                              markersize=markersize, cmap=cmap,\n",
    "                              **style_kwds)\n",
    "\n",
    "    if legend and not color:\n",
    "        from matplotlib.lines import Line2D\n",
    "        from matplotlib.colors import Normalize\n",
    "        from matplotlib import cm\n",
    "\n",
    "        norm = Normalize(vmin=mn, vmax=mx)\n",
    "        n_cmap = cm.ScalarMappable(norm=norm, cmap=cmap)\n",
    "        if categorical:\n",
    "            patches = []\n",
    "            for value, cat in enumerate(categories):\n",
    "                patches.append(\n",
    "                    Line2D([0], [0], linestyle=\"none\", marker=\"o\",\n",
    "                           alpha=style_kwds.get('alpha', 1), markersize=10,\n",
    "                           markerfacecolor=n_cmap.to_rgba(value)))\n",
    "            if legend_kwds is None:\n",
    "                legend_kwds = {}\n",
    "            legend_kwds.setdefault('numpoints', 1)\n",
    "            legend_kwds.setdefault('loc', 'best')\n",
    "            ax.legend(patches, categories, **legend_kwds)\n",
    "        else:\n",
    "            n_cmap.set_array([])\n",
    "            ax.get_figure().colorbar(n_cmap, ax=ax)\n",
    "\n",
    "    plt.draw()\n",
    "    return ax"
   ]
  },
  {
   "cell_type": "code",
   "execution_count": null,
   "metadata": {},
   "outputs": [],
   "source": [
    "msoas_london = CustomGeoDataFrame(msoas_london)"
   ]
  },
  {
   "cell_type": "code",
   "execution_count": null,
   "metadata": {},
   "outputs": [],
   "source": [
    "legend_kwds_default = {\n",
    "    'loc':'lower right', \n",
    "    'fontsize':10, \n",
    "    'shadow':True, \n",
    "    'fancybox':True, \n",
    "    'frameon':True,\n",
    "    'framealpha':1.0,\n",
    "    'edgecolor':'#999999',\n",
    "    'facecolor':'#FFFFFF',\n",
    "    'bbox_to_anchor':(1, 0.1)\n",
    "}\n",
    "\n",
    "def draw_choropleth(geodf, attribute, scheme, cmap=plt.cm.viridis_r, dpi=200, width=12., \n",
    "                    height=8., title=None,legend_kwds=legend_kwds_default, smallprint=None):\n",
    "    f, ax = plt.subplots(\n",
    "    1, \n",
    "    figsize=(width, height),\n",
    "    dpi=dpi,\n",
    "    subplot_kw=dict(aspect='equal'))\n",
    "\n",
    "    ax.axis('off')\n",
    "    \n",
    "    if title:\n",
    "        ax.set_title(title)\n",
    "\n",
    "    geodf.plot(\n",
    "        ax=ax,\n",
    "        column=attribute, \n",
    "        scheme=scheme, \n",
    "        k=7, \n",
    "        cmap=cmap, \n",
    "        alpha=1, \n",
    "        edgecolor='w', \n",
    "        linewidth=0.1, \n",
    "        legend=True, \n",
    "        antialiased=True,\n",
    "        legend_kwds=legend_kwds\n",
    "    )\n",
    "\n",
    "    # Display data sources\n",
    "    if smallprint:\n",
    "        ax.text(smallprint,\n",
    "            ha='right', va='bottom',\n",
    "            size=10,\n",
    "            color='#555555',\n",
    "            transform=ax.transAxes)\n",
    "\n",
    "    plt.tight_layout()\n",
    "    plt.show()\n",
    "    \n",
    "    \n",
    "    "
   ]
  },
  {
   "cell_type": "markdown",
   "metadata": {},
   "source": [
    "## Quantiles \n",
    "\n",
    "One solution to obtain a more balanced classification scheme is using quantiles. This, by definition, assigns the same amount of values to each bin: the entire series is laid out in order and break points are assigned in a way that leaves exactly the same amount of observations between each of them. This \"observation-based\" approach contrasts with the \"value-based\" method of equal intervals and, although it can obscure the magnitude of extreme values, it can be more informative in cases with skewed distributions.\n",
    "\n",
    "Calculating a quantiles classification with `PySAL` can be done with the following line of code:"
   ]
  },
  {
   "cell_type": "code",
   "execution_count": null,
   "metadata": {},
   "outputs": [],
   "source": [
    "classes = ps.Quantiles(msoas_london[imd_attribute], k=7)\n",
    "classes"
   ]
  },
  {
   "cell_type": "markdown",
   "metadata": {},
   "source": [
    "And, similarly, the bins can also be inspected:"
   ]
  },
  {
   "cell_type": "code",
   "execution_count": null,
   "metadata": {},
   "outputs": [],
   "source": [
    "classes.bins"
   ]
  },
  {
   "cell_type": "markdown",
   "metadata": {},
   "source": [
    "The visualization of the distribution can be generated in a similar way as well:"
   ]
  },
  {
   "cell_type": "code",
   "execution_count": null,
   "metadata": {},
   "outputs": [],
   "source": [
    "draw_bins(msoas_london, imd_attribute, 'quantiles')"
   ]
  },
  {
   "cell_type": "markdown",
   "metadata": {},
   "source": [
    "And the choropleth also follows a similar pattern, with the difference that we are now using the scheme \"quantiles\", instead of \"equal interval\":"
   ]
  },
  {
   "cell_type": "code",
   "execution_count": null,
   "metadata": {},
   "outputs": [],
   "source": [
    "draw_choropleth(msoas_london, imd_attribute, 'quantiles', title=\"London IMD 2015\")"
   ]
  },
  {
   "cell_type": "markdown",
   "metadata": {},
   "source": [
    "## Fisher-Jenks\n",
    "\n",
    "Equal interval and quantiles are only two examples of very many classification schemes to encode values into colors. Although not all of them are integrated into `geopandas`, `PySAL` includes several other classification schemes (for a detailed list, have a look at this [link](http://pysal.readthedocs.org/en/latest/library/esda/mapclassify.html)). As an example of a more sophisticated one, let us create a Fisher-Jenks choropleth:"
   ]
  },
  {
   "cell_type": "code",
   "execution_count": null,
   "metadata": {},
   "outputs": [],
   "source": [
    "classes = ps.Fisher_Jenks(msoas_london[imd_attribute], k=7)\n",
    "classes"
   ]
  },
  {
   "cell_type": "code",
   "execution_count": null,
   "metadata": {},
   "outputs": [],
   "source": [
    "classes.bins"
   ]
  },
  {
   "cell_type": "code",
   "execution_count": null,
   "metadata": {},
   "outputs": [],
   "source": [
    "draw_bins(msoas_london, imd_attribute, 'fisher_jenks')"
   ]
  },
  {
   "cell_type": "markdown",
   "metadata": {},
   "source": [
    "Technically, however, the way to create a Fisher-Jenks map is exactly the same as before (it takes time!):"
   ]
  },
  {
   "cell_type": "code",
   "execution_count": null,
   "metadata": {},
   "outputs": [],
   "source": [
    "draw_choropleth(msoas_london, imd_attribute, 'fisher_jenks', title=\"London IMD 2015\")"
   ]
  },
  {
   "cell_type": "code",
   "execution_count": null,
   "metadata": {},
   "outputs": [],
   "source": [
    "def plot_scheme(scheme, var, db, figsize=(16, 6), saveto=None):\n",
    "    '''\n",
    "    Plot the distribution over value and geographical space of variable `var` using scheme `scheme\n",
    "    ...\n",
    "    \n",
    "    Arguments\n",
    "    ---------\n",
    "    scheme   : str\n",
    "               Name of the classification scheme to use \n",
    "    var      : str\n",
    "               Variable name \n",
    "    db       : GeoDataFrame\n",
    "               Table with input data\n",
    "    figsize  : Tuple\n",
    "               [Optional. Default = (16, 8)] Size of the figure to be created.\n",
    "    saveto   : None/str\n",
    "               [Optional. Default = None] Path for file to save the plot.\n",
    "    '''\n",
    "    schemes = {'equal_interval': ps.Equal_Interval, \\\n",
    "               'quantiles': ps.Quantiles, \\\n",
    "               'fisher_jenks': ps.Fisher_Jenks}\n",
    "    classi = schemes[scheme](db[var], k=7)\n",
    "    f, (ax1, ax2) = plt.subplots(1, 2, figsize=figsize, dpi=300)\n",
    "    # KDE\n",
    "    sns.kdeplot(db[var], shade=True, color='#26828E', ax=ax1)\n",
    "    sns.rugplot(db[var], alpha=0.5, color='#26828E', ax=ax1)\n",
    "    for cut in classi.bins:\n",
    "        ax1.axvline(cut, color='#31688E', linewidth=0.75)\n",
    "    ax1.set_title('Value distribution')\n",
    "    # Map\n",
    "    p = db.plot(column=var, scheme=scheme, alpha=0.75, k=7, \\\n",
    "             cmap='viridis_r', ax=ax2, linewidth=0.1)\n",
    "    ax2.axis('equal')\n",
    "    ax2.set_axis_off()\n",
    "    ax2.set_title('Geographical distribution')\n",
    "    f.suptitle(scheme, size=25)\n",
    "    if saveto:\n",
    "        plt.savefig(saveto)\n",
    "    plt.show()"
   ]
  },
  {
   "cell_type": "code",
   "execution_count": null,
   "metadata": {},
   "outputs": [],
   "source": [
    "plot_scheme('equal_interval', imd_attribute, msoas_london)"
   ]
  },
  {
   "cell_type": "markdown",
   "metadata": {},
   "source": [
    "## Zooming into the map (trivial)\n",
    "\n",
    "A general map of an entire region, or urban area, can sometimes obscure particularly local patterns because they happen at a much smaller scale that cannot be perceived in the global view. One way to solve this is by providing a focus of a smaller part of the map in a separate figure. Although there are many ways to do this in Python, the most straightforward one is to reset the limits of the axes to center them in the area of interest.\n",
    "\n",
    "As an example, let us consider the quantile map produced above:"
   ]
  },
  {
   "cell_type": "code",
   "execution_count": null,
   "metadata": {},
   "outputs": [],
   "source": [
    "f, ax = plt.subplots(\n",
    "    1, \n",
    "    figsize=(4., 3.),\n",
    "    dpi=200,\n",
    "    subplot_kw=dict(aspect='equal'))\n",
    "\n",
    "ax.axis('off')\n",
    "\n",
    "msoas_london.plot(\n",
    "    ax=ax,\n",
    "    column=imd_attribute, \n",
    "    scheme='quantiles', k=7, \n",
    "    cmap=plt.cm.Blues, \n",
    "    edgecolor='black',\n",
    "    lw=0.05,\n",
    "    alpha=1.0\n",
    ")\n",
    "\n",
    "# Redimensionate X and Y axes to desired bounds\n",
    "ax.set_ylim(175000, 185000)\n",
    "ax.set_xlim(530000, 540000)\n",
    "plt.tight_layout()\n",
    "plt.show()\n"
   ]
  },
  {
   "cell_type": "markdown",
   "metadata": {},
   "source": [
    "## Zooming into the map (advanced)"
   ]
  },
  {
   "cell_type": "code",
   "execution_count": null,
   "metadata": {},
   "outputs": [],
   "source": [
    "from mpl_toolkits.axes_grid1.inset_locator import inset_axes\n",
    "\n",
    "boroughs_selected = ['E09000007', 'E09000033','E09000019','E09000020','E09000001']\n",
    "scheme = 'Quantiles'\n",
    "\n",
    "# Load London boroughs\n",
    "boroughs_df = gpd.read_file(\"data/shp/London_Borough.shp\")\n",
    "boroughs_df = boroughs_df.loc[boroughs_df['GSS_CODE'].isin(boroughs_selected)]\n",
    "boroughs_df.head()"
   ]
  },
  {
   "cell_type": "code",
   "execution_count": null,
   "metadata": {},
   "outputs": [],
   "source": [
    "fig, ax = plt.subplots(\n",
    "    1,\n",
    "    figsize=(16., 12.),\n",
    "    dpi=200,\n",
    "    subplot_kw=dict(aspect='equal'),\n",
    ")\n",
    "\n",
    "msoas_london.loc[msoas_london['LAD11CD'].isin(boroughs_selected)].plot(\n",
    "#     categorical=True,\n",
    "    ax=ax,\n",
    "    alpha=1.,\n",
    "    column=imd_attribute,\n",
    "    k=7,\n",
    "    cmap=\"viridis_r\",\n",
    "    linewidth=0.1,\n",
    "    edgecolor='black',\n",
    "    legend=True, \n",
    "    scheme=scheme,\n",
    ")\n",
    "\n",
    "# Plot boroughs boundaries\n",
    "boroughs_df.plot(ax=ax, lw=2, color=\"none\", edgecolor=\"#555555\")\n",
    "\n",
    "_ = ax.axis('off')\n",
    "\n",
    "ax.set_title(\"%s rates in %s London Boroughs\" % (imd_attribute, len(boroughs_selected)), color='#555555')\n",
    "\n",
    "smallprint = ax.text(\n",
    "    .995, 0,\n",
    "    'Classification Method: %s\\n \\\n",
    "    Contains National Statistics data\\n \\\n",
    "    Contains Ordnance Survey data on %d MSOAs\\n \\\n",
    "    $\\copyright$ eurosys 2017' % (scheme, msoas_london['LAD11CD'].isin(boroughs_selected).sum()),\n",
    "    ha='right', va='bottom',\n",
    "    size=10,\n",
    "    color='#555555',\n",
    "    transform=ax.transAxes)\n",
    "\n",
    "axins = inset_axes(\n",
    "    ax,\n",
    "    width=\"20%\", # width = % of parent_bbox\n",
    "    height=2.0,\n",
    "    loc=2,\n",
    "    axes_kwargs={'aspect': 'equal', 'facecolor': '#555555'}\n",
    ")\n",
    "\n",
    "inset= msoas_london.plot(\n",
    "    ax=axins,\n",
    "    color='#555555',\n",
    "    facecolor='#555555',\n",
    "    edgecolor='#555555',\n",
    "    legend=False,\n",
    ")\n",
    "\n",
    "union = boroughs_df.unary_union\n",
    "union_gdf = gpd.GeoDataFrame(geometry=[union])\n",
    "union_gdf.plot(ax=axins, linewidth=1, edgecolor='red', color='none')\n",
    "\n",
    "_ = axins.axis('off')\n",
    "plt.show()\n",
    "\n",
    "\n"
   ]
  },
  {
   "cell_type": "markdown",
   "metadata": {},
   "source": [
    "## Conditional maps\n",
    "\n",
    "Conditional maps are an attempt to explore multivariate relationships within a choropleth mapping context. In essence, they are figures composed by several choropleths in which the layout of each of them provides information about the subset of the original dataset represented. The idea is that a dataset can be subset based on one or two conditional variables, usually categorical, and only the observations that meet each characteristic are displayed in a given submap. Since they are combinations of choropleths, they build on everything we have learned about their creation. As an example, let us create a conditional map of IMD scores based on the dominating gender and marital status of each area.\n",
    "From a Python perspective, creating conditional maps is a bit more intricate than simple choropleths because of the conditioning of the data and the arranging of the layout that needs to occur for the final figure to be produced. To be able to use the facetting machinery available in seaborn, we need to define a function that generates a choropleth with a given subset of the dataset:"
   ]
  },
  {
   "cell_type": "code",
   "execution_count": null,
   "metadata": {},
   "outputs": [],
   "source": [
    "msoas_london['Status_Majority'] = np.where(msoas_london.eval(\"p_couple_h+p_couple_1+p_other_mu>50\"), \"Couple\", \"Single\")\n",
    "msoas_london['Race_Majority'] = np.where(msoas_london.eval(\"white_p>50\"), \"White\", \"Other\")\n",
    "msoas_london.head()"
   ]
  },
  {
   "cell_type": "code",
   "execution_count": null,
   "metadata": {},
   "outputs": [],
   "source": [
    "def map_subset(vals, db, color=None, norm=True):\n",
    "    '''\n",
    "    Internal function to pass to `FaceGrid` to build a single map\n",
    "    ...\n",
    "    \n",
    "    Arguments\n",
    "    ---------\n",
    "    vals     : Series\n",
    "               Values of the subplot to be mapped\n",
    "    db       : GeoDataFrame\n",
    "               Table with geometries\n",
    "    color    : None\n",
    "    '''\n",
    "\n",
    "    ax = plt.gca()\n",
    "    db.plot(color='0.8', edgecolor='0.8', linewidth=1., ax=ax)\n",
    "    vari = vals.name\n",
    "    if norm:\n",
    "        db.reindex(vals.index).plot(column=vari, ax=ax, cmap='viridis', linewidth=0., \\\n",
    "                               vmin=db[vari].min(), vmax=db[vari].max(), legend=False)\n",
    "    else:\n",
    "        db.reindex(vals.index).plot(column=vari, ax=ax, cmap='viridis', linewidth=0.)\n",
    "    \n",
    "    ax.set_axis_off()\n"
   ]
  },
  {
   "cell_type": "markdown",
   "metadata": {},
   "source": [
    "With this function in hand, we can use it to pass it on to the facetting functionality in `seaborn`, which then takes care of the actual subsetting of the data and proper alignment of the output figures:"
   ]
  },
  {
   "cell_type": "code",
   "execution_count": null,
   "metadata": {},
   "outputs": [],
   "source": [
    "g = sns.FacetGrid(msoas_london, row=\"Race_Majority\", col=\"Status_Majority\", \\\n",
    "                  margin_titles=True, size=4, aspect=1.2)\n",
    "g.map(map_subset, imd_attribute, db=msoas_london)\n",
    "plt.tight_layout()\n",
    "plt.show()"
   ]
  },
  {
   "cell_type": "markdown",
   "metadata": {},
   "source": [
    "The figure contains a few interesting elements:\n",
    "\n",
    "* The distribution of areas with different characteristics is not random over space but rather follows a specific pattern. For example, the majority of married/female areas are located in the periphery of the city, while most of the single/male MSOAs can be found in the city centre. \n",
    "* Since the color scale is common across maps, we can compare the degree of deprivation for different combinations. For example, areas with a more married population display consistently lower levels of deprivation than those where singles prevail.\n",
    "\n",
    "Although conditional maps are a powerful tool to explore a dataset and generate hypotheses about multivariate relationships, it is important to keep in mind these can only be suggestive. A more formal analysis, such as one based on regression, would be required to establish more robust conclusions, as several confounding factors can be at play."
   ]
  },
  {
   "cell_type": "markdown",
   "metadata": {},
   "source": [
    "### Exercise\n",
    "\n",
    "Imagine some of the MSOAs do not have a value for the property crime. Try to plot the corresponding choropleth dealing with missing values visually. "
   ]
  },
  {
   "cell_type": "code",
   "execution_count": null,
   "metadata": {},
   "outputs": [],
   "source": [
    "msoas_london_missing = msoas_london.sample(frac=0.8)\n",
    "msoas_london_missing.plot()"
   ]
  },
  {
   "cell_type": "code",
   "execution_count": null,
   "metadata": {},
   "outputs": [],
   "source": []
  }
 ],
 "metadata": {
  "kernelspec": {
   "display_name": "Python 3",
   "language": "python",
   "name": "python3"
  },
  "language_info": {
   "codemirror_mode": {
    "name": "ipython",
    "version": 3
   },
   "file_extension": ".py",
   "mimetype": "text/x-python",
   "name": "python",
   "nbconvert_exporter": "python",
   "pygments_lexer": "ipython3",
   "version": "3.6.4"
  }
 },
 "nbformat": 4,
 "nbformat_minor": 2
}
