{
 "cells": [
  {
   "cell_type": "markdown",
   "metadata": {},
   "source": [
    "<center>\n",
    "<hr>\n",
    "<h1>Complessità nei sistemi sociali</h1>\n",
    "<h3>Laurea Magistrale in Fisica Dei Sistemi Complessi</h3> \n",
    "<h3>A.A. 2019/20</h3>\n",
    "<h3>Daniela Paolotti & Michele Tizzoni</h3>\n",
    "<h2>Notebook 2 - Data import and network representation</h2>\n",
    "<hr>\n",
    "</center>"
   ]
  },
  {
   "cell_type": "markdown",
   "metadata": {},
   "source": [
    "Here, we play a bit with some network datasets."
   ]
  },
  {
   "cell_type": "markdown",
   "metadata": {},
   "source": [
    "We analyze the dataset 'cit-HepTh' available from the SNAP repository: http://snap.stanford.edu/data/index.html\n",
    "\n",
    "There are several other repositories of network datasets, for instance:\n",
    "- http://konect.uni-koblenz.de/\n",
    "- http://www-personal.umich.edu/~mejn/netdata/\n",
    "- http://networkrepository.com/\n",
    "- http://cnets.indiana.edu/resources/data-repository/\n",
    "- http://www.sociopatterns.org/datasets/"
   ]
  },
  {
   "cell_type": "code",
   "execution_count": 1,
   "metadata": {},
   "outputs": [],
   "source": [
    "import sys, math"
   ]
  },
  {
   "cell_type": "code",
   "execution_count": 2,
   "metadata": {},
   "outputs": [
    {
     "name": "stderr",
     "output_type": "stream",
     "text": [
      "\n",
      "Bad key \"axes.titlelocation\" on line 298 in\n",
      "/Users/Michele/anaconda3/lib/python3.7/site-packages/matplotlib/mpl-data/matplotlibrc.\n",
      "You probably need to get an updated matplotlibrc file from\n",
      "https://github.com/matplotlib/matplotlib/blob/v3.1.3/matplotlibrc.template\n",
      "or from the matplotlib source distribution\n"
     ]
    },
    {
     "name": "stdout",
     "output_type": "stream",
     "text": [
      "Populating the interactive namespace from numpy and matplotlib\n"
     ]
    }
   ],
   "source": [
    "%pylab inline"
   ]
  },
  {
   "cell_type": "markdown",
   "metadata": {},
   "source": [
    "# Basic network import and representation"
   ]
  },
  {
   "cell_type": "code",
   "execution_count": 3,
   "metadata": {},
   "outputs": [],
   "source": [
    "import collections as col"
   ]
  },
  {
   "cell_type": "markdown",
   "metadata": {},
   "source": [
    "We use a dictionary that associates a key (node) to a list of nodes (neighbours)"
   ]
  },
  {
   "cell_type": "code",
   "execution_count": 4,
   "metadata": {},
   "outputs": [
    {
     "name": "stdout",
     "output_type": "stream",
     "text": [
      "defaultdict(<class 'list'>, {})\n"
     ]
    }
   ],
   "source": [
    "links_out=col.defaultdict(list)\n",
    "print(links_out)"
   ]
  },
  {
   "cell_type": "markdown",
   "metadata": {},
   "source": [
    "We open the file containing the network and read each line"
   ]
  },
  {
   "cell_type": "code",
   "execution_count": 5,
   "metadata": {},
   "outputs": [],
   "source": [
    "filepath='./../network_data/cit-HepTh.txt'"
   ]
  },
  {
   "cell_type": "code",
   "execution_count": 6,
   "metadata": {},
   "outputs": [],
   "source": [
    "fh=open(filepath,'r')"
   ]
  },
  {
   "cell_type": "code",
   "execution_count": 7,
   "metadata": {},
   "outputs": [],
   "source": [
    "s=fh.readlines()"
   ]
  },
  {
   "cell_type": "code",
   "execution_count": 8,
   "metadata": {},
   "outputs": [
    {
     "data": {
      "text/plain": [
       "['# Directed graph (each unordered pair of nodes is saved once): Cit-HepTh.txt \\n',\n",
       " '# Paper citation network of Arxiv High Energy Physics Theory category\\n',\n",
       " '# Nodes: 27770 Edges: 352807\\n',\n",
       " '# FromNodeId\\tToNodeId\\n']"
      ]
     },
     "execution_count": 8,
     "metadata": {},
     "output_type": "execute_result"
    }
   ],
   "source": [
    "s[:4]"
   ]
  },
  {
   "cell_type": "code",
   "execution_count": 9,
   "metadata": {},
   "outputs": [
    {
     "data": {
      "text/plain": [
       "['# Directed graph (each unordered pair of nodes is saved once)',\n",
       " ' Cit-HepTh.txt']"
      ]
     },
     "execution_count": 9,
     "metadata": {},
     "output_type": "execute_result"
    }
   ],
   "source": [
    "s[0].strip().split(':')"
   ]
  },
  {
   "cell_type": "code",
   "execution_count": 10,
   "metadata": {},
   "outputs": [],
   "source": [
    "for line in s:\n",
    "    #remove \"\\n\" characters (.strip()) and split the line at blank spaces (split.())\n",
    "    t=line.strip().split()\n",
    "    if t[0]!='#':\n",
    "        #the first lines are comments\n",
    "        origin=int(t[0])\n",
    "        dest=int(t[1])\n",
    "        links_out[origin].append(dest)\n",
    "    \n",
    "#close the file\n",
    "fh.close()"
   ]
  },
  {
   "cell_type": "markdown",
   "metadata": {},
   "source": [
    "How many nodes are in the network?"
   ]
  },
  {
   "cell_type": "code",
   "execution_count": 11,
   "metadata": {},
   "outputs": [
    {
     "name": "stdout",
     "output_type": "stream",
     "text": [
      "25059\n"
     ]
    }
   ],
   "source": [
    "tot_nodes=len(links_out)\n",
    "print(tot_nodes)"
   ]
  },
  {
   "cell_type": "markdown",
   "metadata": {},
   "source": [
    "We calculate the out-degree distribution of the network."
   ]
  },
  {
   "cell_type": "code",
   "execution_count": 12,
   "metadata": {},
   "outputs": [],
   "source": [
    "degree={}\n",
    "\n",
    "for i in links_out:\n",
    "\n",
    "    deg=len(links_out[i])\n",
    "\n",
    "    if deg in degree:\n",
    "        degree[deg]+=1\n",
    "    else:\n",
    "        degree[deg]=1"
   ]
  },
  {
   "cell_type": "code",
   "execution_count": 13,
   "metadata": {},
   "outputs": [
    {
     "name": "stdout",
     "output_type": "stream",
     "text": [
      "dict_keys([83, 1, 7, 4, 2, 40, 9, 27, 10, 14, 21, 25, 17, 15, 19, 16, 29, 53, 28, 22, 37, 39, 35, 20, 26, 32, 23, 6, 11, 30, 41, 65, 24, 31, 34, 56, 18, 13, 58, 36, 8, 42, 47, 52, 38, 5, 3, 72, 121, 54, 75, 12, 55, 84, 59, 33, 51, 46, 63, 44, 50, 73, 71, 74, 45, 165, 126, 214, 562, 68, 64, 48, 57, 134, 49, 216, 154, 61, 159, 85, 359, 43, 78, 60, 62, 66, 157, 67, 98, 70, 115, 104, 86, 207, 99, 109, 81, 123, 97, 100, 167, 91, 201, 69, 125, 77, 89, 79, 87, 90, 82, 106, 263, 143, 102, 80, 158, 95, 181, 274, 76, 122, 175, 149, 212, 101, 302, 96, 120, 200, 108, 226, 142, 107, 88, 246, 160, 94, 93, 135, 146, 211, 124, 198, 177, 289, 169, 180, 170, 156, 92, 103, 139, 136, 112])\n"
     ]
    }
   ],
   "source": [
    "print(degree.keys())"
   ]
  },
  {
   "cell_type": "markdown",
   "metadata": {},
   "source": [
    "We export the degree distribution to an output file."
   ]
  },
  {
   "cell_type": "code",
   "execution_count": 14,
   "metadata": {},
   "outputs": [],
   "source": [
    "s_deg=sorted(degree.keys())"
   ]
  },
  {
   "cell_type": "code",
   "execution_count": 15,
   "metadata": {},
   "outputs": [],
   "source": [
    "fout=open('./../network_data/Cit-HepTh-degout-distri.dat','w')\n",
    "for d in s_deg:\n",
    "    deg_freq=float(degree[d])/tot_nodes \n",
    "    fout.write(str(d)+'  '+str(deg_freq)+'\\n')\n",
    "fout.close()"
   ]
  },
  {
   "cell_type": "code",
   "execution_count": 16,
   "metadata": {},
   "outputs": [
    {
     "name": "stdout",
     "output_type": "stream",
     "text": [
      "(83, 6)\n",
      "(1, 2449)\n",
      "(7, 1087)\n",
      "(4, 1405)\n",
      "(2, 1951)\n",
      "(40, 104)\n",
      "(9, 847)\n",
      "(27, 250)\n",
      "(10, 790)\n",
      "(14, 622)\n",
      "(21, 398)\n",
      "(25, 333)\n",
      "(17, 503)\n",
      "(15, 556)\n",
      "(19, 429)\n",
      "(16, 519)\n",
      "(29, 246)\n",
      "(53, 32)\n",
      "(28, 244)\n",
      "(22, 384)\n",
      "(37, 135)\n",
      "(39, 114)\n",
      "(35, 162)\n",
      "(20, 412)\n",
      "(26, 284)\n",
      "(32, 194)\n",
      "(23, 339)\n",
      "(6, 1172)\n",
      "(11, 771)\n",
      "(30, 240)\n",
      "(41, 98)\n",
      "(65, 17)\n",
      "(24, 304)\n",
      "(31, 184)\n",
      "(34, 166)\n",
      "(56, 31)\n",
      "(18, 498)\n",
      "(13, 640)\n",
      "(58, 35)\n",
      "(36, 149)\n",
      "(8, 975)\n",
      "(42, 91)\n",
      "(47, 60)\n",
      "(52, 39)\n",
      "(38, 111)\n",
      "(5, 1272)\n",
      "(3, 1657)\n",
      "(72, 6)\n",
      "(121, 4)\n",
      "(54, 34)\n",
      "(75, 8)\n",
      "(12, 651)\n",
      "(55, 37)\n",
      "(84, 4)\n",
      "(59, 23)\n",
      "(33, 160)\n",
      "(51, 45)\n",
      "(46, 55)\n",
      "(63, 23)\n",
      "(44, 77)\n",
      "(50, 45)\n",
      "(73, 11)\n",
      "(71, 13)\n",
      "(74, 7)\n",
      "(45, 61)\n",
      "(165, 1)\n",
      "(126, 2)\n",
      "(214, 1)\n",
      "(562, 1)\n",
      "(68, 10)\n",
      "(64, 17)\n",
      "(48, 51)\n",
      "(57, 33)\n",
      "(134, 3)\n",
      "(49, 48)\n",
      "(216, 1)\n",
      "(154, 3)\n",
      "(61, 10)\n",
      "(159, 1)\n",
      "(85, 3)\n",
      "(359, 1)\n",
      "(43, 81)\n",
      "(78, 7)\n",
      "(60, 14)\n",
      "(62, 16)\n",
      "(66, 15)\n",
      "(157, 1)\n",
      "(67, 14)\n",
      "(98, 1)\n",
      "(70, 14)\n",
      "(115, 2)\n",
      "(104, 4)\n",
      "(86, 5)\n",
      "(207, 1)\n",
      "(99, 4)\n",
      "(109, 2)\n",
      "(81, 5)\n",
      "(123, 1)\n",
      "(97, 2)\n",
      "(100, 1)\n",
      "(167, 1)\n",
      "(91, 2)\n",
      "(201, 1)\n",
      "(69, 13)\n",
      "(125, 1)\n",
      "(77, 8)\n",
      "(89, 4)\n",
      "(79, 6)\n",
      "(87, 1)\n",
      "(90, 5)\n",
      "(82, 5)\n",
      "(106, 4)\n",
      "(263, 1)\n",
      "(143, 1)\n",
      "(102, 1)\n",
      "(80, 5)\n",
      "(158, 1)\n",
      "(95, 3)\n",
      "(181, 1)\n",
      "(274, 1)\n",
      "(76, 4)\n",
      "(122, 2)\n",
      "(175, 1)\n",
      "(149, 1)\n",
      "(212, 1)\n",
      "(101, 2)\n",
      "(302, 1)\n",
      "(96, 3)\n",
      "(120, 2)\n",
      "(200, 1)\n",
      "(108, 2)\n",
      "(226, 1)\n",
      "(142, 1)\n",
      "(107, 1)\n",
      "(88, 3)\n",
      "(246, 1)\n",
      "(160, 1)\n",
      "(94, 1)\n",
      "(93, 4)\n",
      "(135, 1)\n",
      "(146, 1)\n",
      "(211, 1)\n",
      "(124, 1)\n",
      "(198, 1)\n",
      "(177, 1)\n",
      "(289, 1)\n",
      "(169, 1)\n",
      "(180, 1)\n",
      "(170, 1)\n",
      "(156, 1)\n",
      "(92, 1)\n",
      "(103, 1)\n",
      "(139, 1)\n",
      "(136, 1)\n",
      "(112, 1)\n"
     ]
    }
   ],
   "source": [
    "for i in degree.items():\n",
    "    print(i)"
   ]
  },
  {
   "cell_type": "code",
   "execution_count": 17,
   "metadata": {},
   "outputs": [],
   "source": [
    "from operator import itemgetter"
   ]
  },
  {
   "cell_type": "code",
   "execution_count": 18,
   "metadata": {},
   "outputs": [
    {
     "data": {
      "image/png": "[encoded data removed]",
      "text/plain": [
       "<Figure size 720x504 with 1 Axes>"
      ]
     },
     "metadata": {
      "needs_background": "light"
     },
     "output_type": "display_data"
    }
   ],
   "source": [
    "x=[]\n",
    "y=[]\n",
    "for i in sorted(degree.items(), key=itemgetter(0)):\n",
    "    x.append(i[0])\n",
    "    y.append(float(i[1])/tot_nodes)\n",
    "\n",
    "plt.figure(figsize=(10,7))   \n",
    "plt.plot(x,y)\n",
    "plt.xlabel('$k_{out}$', fontsize=24)\n",
    "plt.ylabel('$P(k_{out})$', fontsize=24)\n",
    "plt.xticks(fontsize=24)\n",
    "plt.yticks(fontsize=24)\n",
    "plt.yscale('log')\n",
    "plt.xscale('log')\n",
    "plt.show()"
   ]
  },
  {
   "cell_type": "markdown",
   "metadata": {},
   "source": [
    "Let's have a look at the degree-in distribution."
   ]
  },
  {
   "cell_type": "code",
   "execution_count": 19,
   "metadata": {},
   "outputs": [],
   "source": [
    "links_in=col.defaultdict(list)\n",
    "\n",
    "fh=open(filepath,'r')\n",
    "#reading all the file lines\n",
    "for line in fh.readlines():\n",
    "    #remove \"\\n\" characters (.strip()) and split the line at blank spaces (split.())\n",
    "    s=line.strip().split()\n",
    "    if s[0]!='#':\n",
    "        #the first lines are comments\n",
    "        origin=int(s[0])\n",
    "        dest=int(s[1])\n",
    "        links_in[dest].append(origin)\n",
    "    \n",
    "#chiudo il file\n",
    "fh.close()"
   ]
  },
  {
   "cell_type": "code",
   "execution_count": 20,
   "metadata": {},
   "outputs": [
    {
     "name": "stdout",
     "output_type": "stream",
     "text": [
      "23180\n"
     ]
    }
   ],
   "source": [
    "degree_in=col.defaultdict(int)\n",
    "for i in links_in.keys():\n",
    "    deg=len(links_in[i])\n",
    "    degree_in[deg]+=1\n",
    "\n",
    "tot_nodes_in=len(links_in)\n",
    "print(tot_nodes_in)"
   ]
  },
  {
   "cell_type": "markdown",
   "metadata": {},
   "source": [
    "What is the difference from an exponential distribution?"
   ]
  },
  {
   "cell_type": "code",
   "execution_count": 21,
   "metadata": {},
   "outputs": [
    {
     "data": {
      "image/png": "[encoded data removed]",
      "text/plain": [
       "<Figure size 720x504 with 1 Axes>"
      ]
     },
     "metadata": {
      "needs_background": "light"
     },
     "output_type": "display_data"
    }
   ],
   "source": [
    "def f(t):\n",
    "    return np.exp(-0.5*t)\n",
    "\n",
    "x=[]\n",
    "y=[]\n",
    "for i in sorted(degree_in.items(), key=itemgetter(0)):\n",
    "    x.append(i[0])\n",
    "    y.append(float(i[1])/tot_nodes_in)\n",
    "\n",
    "plt.figure(figsize=(10,7))   \n",
    "    \n",
    "plt.plot(np.array(x),np.array(y))\n",
    "plt.plot(np.array(x), f(np.array(x)), label='Exponential')\n",
    "plt.xlabel('$k_{in}$', fontsize=24)\n",
    "plt.ylabel('$P(k_{in})$', fontsize=24)\n",
    "plt.xticks(fontsize=24)\n",
    "plt.yticks(fontsize=24)\n",
    "plt.yscale('log')\n",
    "plt.xscale('log')\n",
    "plt.axis([1,10000,0.00001,1])\n",
    "plt.legend()\n",
    "plt.show()"
   ]
  },
  {
   "cell_type": "code",
   "execution_count": null,
   "metadata": {},
   "outputs": [],
   "source": []
  },
  {
   "cell_type": "code",
   "execution_count": null,
   "metadata": {},
   "outputs": [],
   "source": []
  }
 ],
 "metadata": {
  "kernelspec": {
   "display_name": "Python 3",
   "language": "python",
   "name": "python3"
  },
  "language_info": {
   "codemirror_mode": {
    "name": "ipython",
    "version": 3
   },
   "file_extension": ".py",
   "mimetype": "text/x-python",
   "name": "python",
   "nbconvert_exporter": "python",
   "pygments_lexer": "ipython3",
   "version": "3.7.1"
  }
 },
 "nbformat": 4,
 "nbformat_minor": 4
}
