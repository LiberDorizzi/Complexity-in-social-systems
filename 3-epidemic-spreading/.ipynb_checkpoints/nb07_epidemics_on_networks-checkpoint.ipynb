{
 "cells": [
  {
   "cell_type": "markdown",
   "metadata": {},
   "source": [
    "<center>\n",
    "<hr>\n",
    "<h1>Complessità nei sistemi sociali</h1>\n",
    "<h2>Laurea Magistrale in Fisica Dei Sistemi Complessi</h2>\n",
    "<h2>A.A. 2017/18</h2>\n",
    "<h2>Daniela Paolotti & Michele Tizzoni</h2>\n",
    "<h3>Notebook 7 - Epidemics on networks.</h3>\n",
    "<hr>\n",
    "</center>"
   ]
  },
  {
   "cell_type": "markdown",
   "metadata": {},
   "source": [
    "We use the Python library [\"Epidemics on Networks\" developed by Kiss, Miller & Simon](https://github.com/springer-math/Mathematics-of-Epidemics-on-Networks).\n",
    "The library documentation is [available here](http://epidemicsonnetworks.readthedocs.io/en/latest/). "
   ]
  },
  {
   "cell_type": "code",
   "execution_count": 3,
   "metadata": {},
   "outputs": [],
   "source": [
    "import EoN\n",
    "import networkx as nx\n",
    "import numpy as np\n",
    "from collections import defaultdict\n",
    "import pandas as pd\n",
    "import seaborn as sns\n",
    "import matplotlib.ticker as ticker"
   ]
  },
  {
   "cell_type": "code",
   "execution_count": 4,
   "metadata": {},
   "outputs": [
    {
     "name": "stdout",
     "output_type": "stream",
     "text": [
      "Populating the interactive namespace from numpy and matplotlib\n"
     ]
    }
   ],
   "source": [
    "%pylab inline"
   ]
  },
  {
   "cell_type": "markdown",
   "metadata": {},
   "source": [
    "# Homogeneous network"
   ]
  },
  {
   "cell_type": "markdown",
   "metadata": {},
   "source": [
    "We simulate the spread of an SIR on an Erdos-Renyi graph with constant recovery rate."
   ]
  },
  {
   "cell_type": "code",
   "execution_count": 7,
   "metadata": {},
   "outputs": [],
   "source": [
    "N=10000\n",
    "p=0.001\n",
    "G=nx.fast_gnp_random_graph(N, p)"
   ]
  },
  {
   "cell_type": "code",
   "execution_count": 8,
   "metadata": {},
   "outputs": [
    {
     "data": {
      "text/plain": [
       "True"
      ]
     },
     "execution_count": 8,
     "metadata": {},
     "output_type": "execute_result"
    }
   ],
   "source": [
    "nx.is_connected(G)"
   ]
  },
  {
   "cell_type": "code",
   "execution_count": 9,
   "metadata": {},
   "outputs": [
    {
     "name": "stdout",
     "output_type": "stream",
     "text": [
      "Name: \n",
      "Type: Graph\n",
      "Number of nodes: 10000\n",
      "Number of edges: 50131\n",
      "Average degree:  10.0262\n"
     ]
    }
   ],
   "source": [
    "print(nx.info(G))"
   ]
  },
  {
   "cell_type": "markdown",
   "metadata": {},
   "source": [
    "---\n",
    "# The epidemic threshold for this network can be approximated as $\\lambda_c = \\frac{\\mu}{\\langle k \\rangle}$"
   ]
  },
  {
   "cell_type": "code",
   "execution_count": 11,
   "metadata": {},
   "outputs": [],
   "source": [
    "mu=0.2"
   ]
  },
  {
   "cell_type": "code",
   "execution_count": 12,
   "metadata": {},
   "outputs": [
    {
     "name": "stdout",
     "output_type": "stream",
     "text": [
      "0.01994773692924538\n"
     ]
    }
   ],
   "source": [
    "avg_deg1=2*len(G.edges)/N\n",
    "lc=mu/avg_deg1\n",
    "print(lc)"
   ]
  },
  {
   "cell_type": "markdown",
   "metadata": {},
   "source": [
    "# As expected for this network, we have $\\langle k^2 \\rangle \\sim \\langle k \\rangle^2 + \\langle k \\rangle$"
   ]
  },
  {
   "cell_type": "code",
   "execution_count": 13,
   "metadata": {},
   "outputs": [
    {
     "name": "stdout",
     "output_type": "stream",
     "text": [
      "110.4506\n"
     ]
    }
   ],
   "source": [
    "sum_k2=0\n",
    "for i in G.nodes():\n",
    "    k=G.degree(i)\n",
    "    sum_k2+=k*k\n",
    "avg_k2=sum_k2/N\n",
    "print(avg_k2)  "
   ]
  },
  {
   "cell_type": "code",
   "execution_count": 15,
   "metadata": {},
   "outputs": [
    {
     "data": {
      "text/plain": [
       "110.55088643999999"
      ]
     },
     "execution_count": 15,
     "metadata": {},
     "output_type": "execute_result"
    }
   ],
   "source": [
    "avg_deg1**2 + avg_deg1"
   ]
  },
  {
   "cell_type": "markdown",
   "metadata": {},
   "source": [
    "## Simulations of an SIR process\n",
    "We simulate 100 realizations of a SIR model for increasing values of $\\lambda$."
   ]
  },
  {
   "cell_type": "code",
   "execution_count": 55,
   "metadata": {},
   "outputs": [],
   "source": [
    "final_size=defaultdict(list)\n",
    "\n",
    "for lambd in np.geomspace(0.0001, 1.0, 20):\n",
    "    for r in range(0, 100):\n",
    "        t, S, I, R = EoN.fast_SIR(G, lambd, mu, rho=0.05)\n",
    "        \n",
    "        final_size[lambd].append(R[-1]/N)"
   ]
  },
  {
   "cell_type": "code",
   "execution_count": 57,
   "metadata": {},
   "outputs": [],
   "source": [
    "homo_net_size=pd.DataFrame.from_dict(final_size)"
   ]
  },
  {
   "cell_type": "code",
   "execution_count": 58,
   "metadata": {},
   "outputs": [
    {
     "data": {
      "text/html": [
       "<div>\n",
       "<style scoped>\n",
       "    .dataframe tbody tr th:only-of-type {\n",
       "        vertical-align: middle;\n",
       "    }\n",
       "\n",
       "    .dataframe tbody tr th {\n",
       "        vertical-align: top;\n",
       "    }\n",
       "\n",
       "    .dataframe thead th {\n",
       "        text-align: right;\n",
       "    }\n",
       "</style>\n",
       "<table border=\"1\" class=\"dataframe\">\n",
       "  <thead>\n",
       "    <tr style=\"text-align: right;\">\n",
       "      <th></th>\n",
       "      <th>0.0001</th>\n",
       "      <th>0.0001623776739188721</th>\n",
       "      <th>0.00026366508987303583</th>\n",
       "      <th>0.00042813323987193956</th>\n",
       "      <th>0.0006951927961775605</th>\n",
       "      <th>0.0011288378916846883</th>\n",
       "      <th>0.0018329807108324356</th>\n",
       "      <th>0.002976351441631319</th>\n",
       "      <th>0.004832930238571752</th>\n",
       "      <th>0.007847599703514606</th>\n",
       "      <th>0.012742749857031334</th>\n",
       "      <th>0.0206913808111479</th>\n",
       "      <th>0.03359818286283781</th>\n",
       "      <th>0.05455594781168514</th>\n",
       "      <th>0.08858667904100823</th>\n",
       "      <th>0.14384498882876628</th>\n",
       "      <th>0.23357214690901212</th>\n",
       "      <th>0.3792690190732246</th>\n",
       "      <th>0.615848211066026</th>\n",
       "      <th>1.0</th>\n",
       "    </tr>\n",
       "  </thead>\n",
       "  <tbody>\n",
       "    <tr>\n",
       "      <th>0</th>\n",
       "      <td>0.0503</td>\n",
       "      <td>0.0508</td>\n",
       "      <td>0.0510</td>\n",
       "      <td>0.0511</td>\n",
       "      <td>0.0509</td>\n",
       "      <td>0.0539</td>\n",
       "      <td>0.0561</td>\n",
       "      <td>0.0588</td>\n",
       "      <td>0.0654</td>\n",
       "      <td>0.0733</td>\n",
       "      <td>0.1105</td>\n",
       "      <td>0.2418</td>\n",
       "      <td>0.5907</td>\n",
       "      <td>0.8461</td>\n",
       "      <td>0.9505</td>\n",
       "      <td>0.9866</td>\n",
       "      <td>0.9954</td>\n",
       "      <td>0.9980</td>\n",
       "      <td>0.9996</td>\n",
       "      <td>0.9999</td>\n",
       "    </tr>\n",
       "    <tr>\n",
       "      <th>1</th>\n",
       "      <td>0.0503</td>\n",
       "      <td>0.0503</td>\n",
       "      <td>0.0509</td>\n",
       "      <td>0.0506</td>\n",
       "      <td>0.0525</td>\n",
       "      <td>0.0539</td>\n",
       "      <td>0.0553</td>\n",
       "      <td>0.0566</td>\n",
       "      <td>0.0679</td>\n",
       "      <td>0.0792</td>\n",
       "      <td>0.1165</td>\n",
       "      <td>0.2273</td>\n",
       "      <td>0.6010</td>\n",
       "      <td>0.8337</td>\n",
       "      <td>0.9472</td>\n",
       "      <td>0.9850</td>\n",
       "      <td>0.9959</td>\n",
       "      <td>0.9984</td>\n",
       "      <td>0.9994</td>\n",
       "      <td>0.9998</td>\n",
       "    </tr>\n",
       "    <tr>\n",
       "      <th>2</th>\n",
       "      <td>0.0502</td>\n",
       "      <td>0.0506</td>\n",
       "      <td>0.0508</td>\n",
       "      <td>0.0510</td>\n",
       "      <td>0.0520</td>\n",
       "      <td>0.0523</td>\n",
       "      <td>0.0545</td>\n",
       "      <td>0.0580</td>\n",
       "      <td>0.0638</td>\n",
       "      <td>0.0784</td>\n",
       "      <td>0.1057</td>\n",
       "      <td>0.2809</td>\n",
       "      <td>0.6005</td>\n",
       "      <td>0.8422</td>\n",
       "      <td>0.9490</td>\n",
       "      <td>0.9857</td>\n",
       "      <td>0.9964</td>\n",
       "      <td>0.9984</td>\n",
       "      <td>0.9990</td>\n",
       "      <td>0.9996</td>\n",
       "    </tr>\n",
       "    <tr>\n",
       "      <th>3</th>\n",
       "      <td>0.0504</td>\n",
       "      <td>0.0505</td>\n",
       "      <td>0.0504</td>\n",
       "      <td>0.0517</td>\n",
       "      <td>0.0513</td>\n",
       "      <td>0.0536</td>\n",
       "      <td>0.0566</td>\n",
       "      <td>0.0597</td>\n",
       "      <td>0.0641</td>\n",
       "      <td>0.0760</td>\n",
       "      <td>0.1173</td>\n",
       "      <td>0.2506</td>\n",
       "      <td>0.6034</td>\n",
       "      <td>0.8601</td>\n",
       "      <td>0.9502</td>\n",
       "      <td>0.9832</td>\n",
       "      <td>0.9954</td>\n",
       "      <td>0.9980</td>\n",
       "      <td>0.9994</td>\n",
       "      <td>0.9995</td>\n",
       "    </tr>\n",
       "    <tr>\n",
       "      <th>4</th>\n",
       "      <td>0.0502</td>\n",
       "      <td>0.0504</td>\n",
       "      <td>0.0505</td>\n",
       "      <td>0.0507</td>\n",
       "      <td>0.0511</td>\n",
       "      <td>0.0528</td>\n",
       "      <td>0.0529</td>\n",
       "      <td>0.0594</td>\n",
       "      <td>0.0642</td>\n",
       "      <td>0.0774</td>\n",
       "      <td>0.1096</td>\n",
       "      <td>0.2266</td>\n",
       "      <td>0.5799</td>\n",
       "      <td>0.8361</td>\n",
       "      <td>0.9500</td>\n",
       "      <td>0.9840</td>\n",
       "      <td>0.9953</td>\n",
       "      <td>0.9983</td>\n",
       "      <td>0.9996</td>\n",
       "      <td>0.9997</td>\n",
       "    </tr>\n",
       "  </tbody>\n",
       "</table>\n",
       "</div>"
      ],
      "text/plain": [
       "   0.000100  0.000162  0.000264  0.000428  0.000695  0.001129  0.001833  \\\n",
       "0    0.0503    0.0508    0.0510    0.0511    0.0509    0.0539    0.0561   \n",
       "1    0.0503    0.0503    0.0509    0.0506    0.0525    0.0539    0.0553   \n",
       "2    0.0502    0.0506    0.0508    0.0510    0.0520    0.0523    0.0545   \n",
       "3    0.0504    0.0505    0.0504    0.0517    0.0513    0.0536    0.0566   \n",
       "4    0.0502    0.0504    0.0505    0.0507    0.0511    0.0528    0.0529   \n",
       "\n",
       "   0.002976  0.004833  0.007848  0.012743  0.020691  0.033598  0.054556  \\\n",
       "0    0.0588    0.0654    0.0733    0.1105    0.2418    0.5907    0.8461   \n",
       "1    0.0566    0.0679    0.0792    0.1165    0.2273    0.6010    0.8337   \n",
       "2    0.0580    0.0638    0.0784    0.1057    0.2809    0.6005    0.8422   \n",
       "3    0.0597    0.0641    0.0760    0.1173    0.2506    0.6034    0.8601   \n",
       "4    0.0594    0.0642    0.0774    0.1096    0.2266    0.5799    0.8361   \n",
       "\n",
       "   0.088587  0.143845  0.233572  0.379269  0.615848  1.000000  \n",
       "0    0.9505    0.9866    0.9954    0.9980    0.9996    0.9999  \n",
       "1    0.9472    0.9850    0.9959    0.9984    0.9994    0.9998  \n",
       "2    0.9490    0.9857    0.9964    0.9984    0.9990    0.9996  \n",
       "3    0.9502    0.9832    0.9954    0.9980    0.9994    0.9995  \n",
       "4    0.9500    0.9840    0.9953    0.9983    0.9996    0.9997  "
      ]
     },
     "execution_count": 58,
     "metadata": {},
     "output_type": "execute_result"
    }
   ],
   "source": [
    "homo_net_size.head()"
   ]
  },
  {
   "cell_type": "code",
   "execution_count": 59,
   "metadata": {},
   "outputs": [
    {
     "data": {
      "text/plain": [
       "Text(0.5,0,'$\\\\lambda$')"
      ]
     },
     "execution_count": 59,
     "metadata": {},
     "output_type": "execute_result"
    },
    {
     "data": {
      "image/png": "[encoded data removed]",
      "text/plain": [
       "<matplotlib.figure.Figure at 0x1a13626a58>"
      ]
     },
     "metadata": {},
     "output_type": "display_data"
    }
   ],
   "source": [
    "plt.figure(figsize=(12,7))\n",
    "\n",
    "homo_net_size.boxplot(positions=np.array(homo_net_size.columns), \n",
    "                      widths=np.array(homo_net_size.columns)/3)\n",
    "plt.vlines(x=lc, ymin=0.045, ymax=1.1)\n",
    "\n",
    "plt.xscale('log')\n",
    "plt.yscale('log')\n",
    "plt.xlim(0.0001, 1.0)\n",
    "plt.ylim(0.045, 1.1)\n",
    "plt.xticks(fontsize=18)\n",
    "plt.yticks(fontsize=18)\n",
    "plt.ylabel('final epidemic size', fontsize=18)\n",
    "plt.xlabel('$\\lambda$', fontsize=18)"
   ]
  },
  {
   "cell_type": "markdown",
   "metadata": {},
   "source": [
    "# Barabàsi-Albert model network"
   ]
  },
  {
   "cell_type": "code",
   "execution_count": 16,
   "metadata": {},
   "outputs": [],
   "source": [
    "N=10000\n",
    "AB=nx.barabasi_albert_graph(N, 5)"
   ]
  },
  {
   "cell_type": "code",
   "execution_count": 17,
   "metadata": {},
   "outputs": [
    {
     "data": {
      "text/plain": [
       "True"
      ]
     },
     "execution_count": 17,
     "metadata": {},
     "output_type": "execute_result"
    }
   ],
   "source": [
    "nx.is_connected(AB)"
   ]
  },
  {
   "cell_type": "code",
   "execution_count": 18,
   "metadata": {},
   "outputs": [
    {
     "name": "stdout",
     "output_type": "stream",
     "text": [
      "Name: \n",
      "Type: Graph\n",
      "Number of nodes: 10000\n",
      "Number of edges: 49975\n",
      "Average degree:   9.9950\n"
     ]
    }
   ],
   "source": [
    "print(nx.info(AB))"
   ]
  },
  {
   "cell_type": "code",
   "execution_count": 19,
   "metadata": {},
   "outputs": [
    {
     "name": "stdout",
     "output_type": "stream",
     "text": [
      "270.7546\n"
     ]
    }
   ],
   "source": [
    "sum_k2=0\n",
    "for i in AB.nodes():\n",
    "    k=AB.degree(i)\n",
    "    sum_k2+=k*k\n",
    "avg_k2=sum_k2/N\n",
    "print(avg_k2)    "
   ]
  },
  {
   "cell_type": "code",
   "execution_count": 20,
   "metadata": {},
   "outputs": [
    {
     "name": "stdout",
     "output_type": "stream",
     "text": [
      "9.995\n"
     ]
    }
   ],
   "source": [
    "avg_deg=2*len(AB.edges)/N\n",
    "print(avg_deg)"
   ]
  },
  {
   "cell_type": "markdown",
   "metadata": {},
   "source": [
    "# The threshold can be approximated as $\\lambda_c \\sim \\mu \\frac{\\langle k \\rangle}{\\langle k^2 \\rangle - \\langle k \\rangle}$ "
   ]
  },
  {
   "cell_type": "code",
   "execution_count": 21,
   "metadata": {},
   "outputs": [
    {
     "name": "stdout",
     "output_type": "stream",
     "text": [
      "0.007666064835196863\n"
     ]
    }
   ],
   "source": [
    "lambda_c=mu*avg_deg/(avg_k2-avg_deg)\n",
    "print(lambda_c)"
   ]
  },
  {
   "cell_type": "code",
   "execution_count": 22,
   "metadata": {},
   "outputs": [
    {
     "data": {
      "text/plain": [
       "2.6020829927840188"
      ]
     },
     "execution_count": 22,
     "metadata": {},
     "output_type": "execute_result"
    }
   ],
   "source": [
    "lc/lambda_c"
   ]
  },
  {
   "cell_type": "markdown",
   "metadata": {},
   "source": [
    "## Simulations of an SIR process\n",
    "We simulate 100 realizations of a SIR model for increasing values of $\\lambda$"
   ]
  },
  {
   "cell_type": "code",
   "execution_count": 17,
   "metadata": {},
   "outputs": [],
   "source": [
    "final_size_AB=defaultdict(list)\n",
    "\n",
    "for lambd in np.geomspace(0.0001, 1.0, 20):\n",
    "    for r in range(0, 100):\n",
    "        \n",
    "        t, S, I, R = EoN.fast_SIR(AB, lambd, mu, rho=0.05)\n",
    "        \n",
    "        final_size_AB[lambd].append(R[-1]/N)"
   ]
  },
  {
   "cell_type": "code",
   "execution_count": 18,
   "metadata": {},
   "outputs": [],
   "source": [
    "sf_net_size=pd.DataFrame.from_dict(final_size_AB)"
   ]
  },
  {
   "cell_type": "code",
   "execution_count": 19,
   "metadata": {},
   "outputs": [
    {
     "data": {
      "text/html": [
       "<div>\n",
       "<style scoped>\n",
       "    .dataframe tbody tr th:only-of-type {\n",
       "        vertical-align: middle;\n",
       "    }\n",
       "\n",
       "    .dataframe tbody tr th {\n",
       "        vertical-align: top;\n",
       "    }\n",
       "\n",
       "    .dataframe thead th {\n",
       "        text-align: right;\n",
       "    }\n",
       "</style>\n",
       "<table border=\"1\" class=\"dataframe\">\n",
       "  <thead>\n",
       "    <tr style=\"text-align: right;\">\n",
       "      <th></th>\n",
       "      <th>0.0001</th>\n",
       "      <th>0.0001623776739188721</th>\n",
       "      <th>0.00026366508987303583</th>\n",
       "      <th>0.00042813323987193956</th>\n",
       "      <th>0.0006951927961775605</th>\n",
       "      <th>0.0011288378916846883</th>\n",
       "      <th>0.0018329807108324356</th>\n",
       "      <th>0.002976351441631319</th>\n",
       "      <th>0.004832930238571752</th>\n",
       "      <th>0.007847599703514606</th>\n",
       "      <th>0.012742749857031334</th>\n",
       "      <th>0.0206913808111479</th>\n",
       "      <th>0.03359818286283781</th>\n",
       "      <th>0.05455594781168514</th>\n",
       "      <th>0.08858667904100823</th>\n",
       "      <th>0.14384498882876628</th>\n",
       "      <th>0.23357214690901212</th>\n",
       "      <th>0.3792690190732246</th>\n",
       "      <th>0.615848211066026</th>\n",
       "      <th>1.0</th>\n",
       "    </tr>\n",
       "  </thead>\n",
       "  <tbody>\n",
       "    <tr>\n",
       "      <th>95</th>\n",
       "      <td>0.0502</td>\n",
       "      <td>0.0506</td>\n",
       "      <td>0.0507</td>\n",
       "      <td>0.0514</td>\n",
       "      <td>0.0524</td>\n",
       "      <td>0.0535</td>\n",
       "      <td>0.0556</td>\n",
       "      <td>0.0609</td>\n",
       "      <td>0.0658</td>\n",
       "      <td>0.1060</td>\n",
       "      <td>0.1816</td>\n",
       "      <td>0.3447</td>\n",
       "      <td>0.5652</td>\n",
       "      <td>0.7624</td>\n",
       "      <td>0.9068</td>\n",
       "      <td>0.9693</td>\n",
       "      <td>0.9912</td>\n",
       "      <td>0.9982</td>\n",
       "      <td>0.9996</td>\n",
       "      <td>1.0000</td>\n",
       "    </tr>\n",
       "    <tr>\n",
       "      <th>96</th>\n",
       "      <td>0.0502</td>\n",
       "      <td>0.0506</td>\n",
       "      <td>0.0505</td>\n",
       "      <td>0.0507</td>\n",
       "      <td>0.0523</td>\n",
       "      <td>0.0531</td>\n",
       "      <td>0.0565</td>\n",
       "      <td>0.0581</td>\n",
       "      <td>0.0680</td>\n",
       "      <td>0.0939</td>\n",
       "      <td>0.2026</td>\n",
       "      <td>0.3577</td>\n",
       "      <td>0.5897</td>\n",
       "      <td>0.7850</td>\n",
       "      <td>0.9041</td>\n",
       "      <td>0.9663</td>\n",
       "      <td>0.9923</td>\n",
       "      <td>0.9980</td>\n",
       "      <td>0.9996</td>\n",
       "      <td>0.9999</td>\n",
       "    </tr>\n",
       "    <tr>\n",
       "      <th>97</th>\n",
       "      <td>0.0501</td>\n",
       "      <td>0.0507</td>\n",
       "      <td>0.0508</td>\n",
       "      <td>0.0511</td>\n",
       "      <td>0.0521</td>\n",
       "      <td>0.0527</td>\n",
       "      <td>0.0545</td>\n",
       "      <td>0.0594</td>\n",
       "      <td>0.0686</td>\n",
       "      <td>0.1034</td>\n",
       "      <td>0.1966</td>\n",
       "      <td>0.3407</td>\n",
       "      <td>0.5720</td>\n",
       "      <td>0.7669</td>\n",
       "      <td>0.9037</td>\n",
       "      <td>0.9679</td>\n",
       "      <td>0.9920</td>\n",
       "      <td>0.9987</td>\n",
       "      <td>0.9996</td>\n",
       "      <td>1.0000</td>\n",
       "    </tr>\n",
       "    <tr>\n",
       "      <th>98</th>\n",
       "      <td>0.0505</td>\n",
       "      <td>0.0502</td>\n",
       "      <td>0.0506</td>\n",
       "      <td>0.0505</td>\n",
       "      <td>0.0531</td>\n",
       "      <td>0.0533</td>\n",
       "      <td>0.0554</td>\n",
       "      <td>0.0591</td>\n",
       "      <td>0.0679</td>\n",
       "      <td>0.0902</td>\n",
       "      <td>0.1592</td>\n",
       "      <td>0.3729</td>\n",
       "      <td>0.5796</td>\n",
       "      <td>0.7866</td>\n",
       "      <td>0.9087</td>\n",
       "      <td>0.9699</td>\n",
       "      <td>0.9893</td>\n",
       "      <td>0.9983</td>\n",
       "      <td>0.9995</td>\n",
       "      <td>0.9999</td>\n",
       "    </tr>\n",
       "    <tr>\n",
       "      <th>99</th>\n",
       "      <td>0.0503</td>\n",
       "      <td>0.0500</td>\n",
       "      <td>0.0508</td>\n",
       "      <td>0.0510</td>\n",
       "      <td>0.0517</td>\n",
       "      <td>0.0534</td>\n",
       "      <td>0.0552</td>\n",
       "      <td>0.0600</td>\n",
       "      <td>0.0734</td>\n",
       "      <td>0.1038</td>\n",
       "      <td>0.1726</td>\n",
       "      <td>0.3624</td>\n",
       "      <td>0.5774</td>\n",
       "      <td>0.7777</td>\n",
       "      <td>0.9068</td>\n",
       "      <td>0.9693</td>\n",
       "      <td>0.9916</td>\n",
       "      <td>0.9985</td>\n",
       "      <td>0.9998</td>\n",
       "      <td>1.0000</td>\n",
       "    </tr>\n",
       "  </tbody>\n",
       "</table>\n",
       "</div>"
      ],
      "text/plain": [
       "    0.000100  0.000162  0.000264  0.000428  0.000695  0.001129  0.001833  \\\n",
       "95    0.0502    0.0506    0.0507    0.0514    0.0524    0.0535    0.0556   \n",
       "96    0.0502    0.0506    0.0505    0.0507    0.0523    0.0531    0.0565   \n",
       "97    0.0501    0.0507    0.0508    0.0511    0.0521    0.0527    0.0545   \n",
       "98    0.0505    0.0502    0.0506    0.0505    0.0531    0.0533    0.0554   \n",
       "99    0.0503    0.0500    0.0508    0.0510    0.0517    0.0534    0.0552   \n",
       "\n",
       "    0.002976  0.004833  0.007848  0.012743  0.020691  0.033598  0.054556  \\\n",
       "95    0.0609    0.0658    0.1060    0.1816    0.3447    0.5652    0.7624   \n",
       "96    0.0581    0.0680    0.0939    0.2026    0.3577    0.5897    0.7850   \n",
       "97    0.0594    0.0686    0.1034    0.1966    0.3407    0.5720    0.7669   \n",
       "98    0.0591    0.0679    0.0902    0.1592    0.3729    0.5796    0.7866   \n",
       "99    0.0600    0.0734    0.1038    0.1726    0.3624    0.5774    0.7777   \n",
       "\n",
       "    0.088587  0.143845  0.233572  0.379269  0.615848  1.000000  \n",
       "95    0.9068    0.9693    0.9912    0.9982    0.9996    1.0000  \n",
       "96    0.9041    0.9663    0.9923    0.9980    0.9996    0.9999  \n",
       "97    0.9037    0.9679    0.9920    0.9987    0.9996    1.0000  \n",
       "98    0.9087    0.9699    0.9893    0.9983    0.9995    0.9999  \n",
       "99    0.9068    0.9693    0.9916    0.9985    0.9998    1.0000  "
      ]
     },
     "execution_count": 19,
     "metadata": {},
     "output_type": "execute_result"
    }
   ],
   "source": [
    "sf_net_size.tail()"
   ]
  },
  {
   "cell_type": "code",
   "execution_count": 44,
   "metadata": {},
   "outputs": [
    {
     "data": {
      "text/plain": [
       "Text(0.5,0,'$\\\\lambda$')"
      ]
     },
     "execution_count": 44,
     "metadata": {},
     "output_type": "execute_result"
    },
    {
     "data": {
      "image/png": "[encoded data removed]",
      "text/plain": [
       "<matplotlib.figure.Figure at 0x1a20e84b38>"
      ]
     },
     "metadata": {},
     "output_type": "display_data"
    }
   ],
   "source": [
    "plt.figure(figsize=(12,7))\n",
    "\n",
    "#homo_net_size.boxplot(positions=np.array(homo_net_size.columns), widths=np.array(homo_net_size.columns)/3 )\n",
    "\n",
    "plt.vlines(x=lambda_c, ymin=0.04, ymax=1.1)\n",
    "sf_net_size.boxplot(positions=np.array(sf_net_size.columns), widths=np.array(sf_net_size.columns)/3)\n",
    "\n",
    "plt.yscale('log')\n",
    "plt.xscale('log')\n",
    "plt.xlim(0.0001, 1.0)\n",
    "plt.ylim(0.045, 1.1)\n",
    "plt.xticks(fontsize=18)\n",
    "plt.yticks(fontsize=18)\n",
    "plt.ylabel('final epidemic size', fontsize=18)\n",
    "plt.xlabel('$\\lambda$', fontsize=18)"
   ]
  },
  {
   "cell_type": "markdown",
   "metadata": {},
   "source": [
    "# Configuration model network\n",
    "\n",
    "We can use the configuration model to generate a network with a given power-law degree distribution. By setting $\\gamma=2.1$, we expect to see more fluctuations in the degree distribution."
   ]
  },
  {
   "cell_type": "code",
   "execution_count": 23,
   "metadata": {},
   "outputs": [],
   "source": [
    "def get_activity(x0,x1,g):\n",
    "    y=random.uniform(0,1)\n",
    "    e=g+1.\n",
    "    a=((x1**e-x0**e)*y+x0**e)**(1./e)\n",
    "    return a"
   ]
  },
  {
   "cell_type": "code",
   "execution_count": 40,
   "metadata": {},
   "outputs": [],
   "source": [
    "N=10000\n",
    "kmin=2\n",
    "kmax=N-1\n",
    "a=[]\n",
    "for i in range(N):\n",
    "    #act=get_activity(2,int(sqrt(N)),-2.2)\n",
    "    act=get_activity(kmin,kmax,-2.1)\n",
    "    a.append(int(round(act)))\n",
    "\n",
    "if sum(a)%2==0:\n",
    "    G1=nx.configuration_model(a)\n",
    "else:\n",
    "    a[-1]+=1\n",
    "    G1=nx.configuration_model(a)"
   ]
  },
  {
   "cell_type": "code",
   "execution_count": 41,
   "metadata": {},
   "outputs": [
    {
     "data": {
      "text/plain": [
       "True"
      ]
     },
     "execution_count": 41,
     "metadata": {},
     "output_type": "execute_result"
    }
   ],
   "source": [
    "nx.is_connected(G1)"
   ]
  },
  {
   "cell_type": "code",
   "execution_count": 42,
   "metadata": {},
   "outputs": [
    {
     "name": "stdout",
     "output_type": "stream",
     "text": [
      "Name: \n",
      "Type: MultiGraph\n",
      "Number of nodes: 10000\n",
      "Number of edges: 60261\n",
      "Average degree:  12.0522\n"
     ]
    }
   ],
   "source": [
    "print(nx.info(G1))"
   ]
  },
  {
   "cell_type": "code",
   "execution_count": 43,
   "metadata": {},
   "outputs": [],
   "source": [
    "G1=nx.Graph(G1)"
   ]
  },
  {
   "cell_type": "code",
   "execution_count": 44,
   "metadata": {},
   "outputs": [],
   "source": [
    "G1.remove_edges_from(G1.selfloop_edges())"
   ]
  },
  {
   "cell_type": "code",
   "execution_count": 45,
   "metadata": {},
   "outputs": [
    {
     "name": "stdout",
     "output_type": "stream",
     "text": [
      "Name: \n",
      "Type: Graph\n",
      "Number of nodes: 10000\n",
      "Number of edges: 49756\n",
      "Average degree:   9.9512\n"
     ]
    }
   ],
   "source": [
    "print(nx.info(G1))"
   ]
  },
  {
   "cell_type": "code",
   "execution_count": 46,
   "metadata": {},
   "outputs": [
    {
     "data": {
      "text/plain": [
       "True"
      ]
     },
     "execution_count": 46,
     "metadata": {},
     "output_type": "execute_result"
    }
   ],
   "source": [
    "nx.is_connected(G1)"
   ]
  },
  {
   "cell_type": "code",
   "execution_count": 47,
   "metadata": {},
   "outputs": [
    {
     "name": "stdout",
     "output_type": "stream",
     "text": [
      "2443.3156\n"
     ]
    }
   ],
   "source": [
    "sum_k2=0\n",
    "for i in G1.nodes():\n",
    "    k=G1.degree(i)\n",
    "    sum_k2+=k*k\n",
    "avg_k2=sum_k2/N\n",
    "print(avg_k2)"
   ]
  },
  {
   "cell_type": "code",
   "execution_count": 51,
   "metadata": {},
   "outputs": [
    {
     "name": "stdout",
     "output_type": "stream",
     "text": [
      "9.9512\n"
     ]
    }
   ],
   "source": [
    "avg_deg=2*len(G1.edges)/N\n",
    "print(avg_deg)"
   ]
  },
  {
   "cell_type": "code",
   "execution_count": 52,
   "metadata": {},
   "outputs": [
    {
     "name": "stdout",
     "output_type": "stream",
     "text": [
      "0.0008178964071308021\n"
     ]
    }
   ],
   "source": [
    "lambda_c1=mu*avg_deg/(avg_k2-avg_deg)\n",
    "print(lambda_c1)"
   ]
  },
  {
   "cell_type": "code",
   "execution_count": 53,
   "metadata": {},
   "outputs": [
    {
     "data": {
      "text/plain": [
       "24.389075138772725"
      ]
     },
     "execution_count": 53,
     "metadata": {},
     "output_type": "execute_result"
    }
   ],
   "source": [
    "lc/lambda_c1"
   ]
  },
  {
   "cell_type": "markdown",
   "metadata": {},
   "source": [
    "## Simulations of an SIR process\n",
    "We simulate 100 realizations of a SIR model for increasing values of $\\lambda$"
   ]
  },
  {
   "cell_type": "code",
   "execution_count": 48,
   "metadata": {},
   "outputs": [],
   "source": [
    "final_size_conf=defaultdict(list)\n",
    "\n",
    "for lambd in np.geomspace(0.0001, 1.0, 20):\n",
    "    for r in range(0, 100):\n",
    "        \n",
    "        t, S, I, R = EoN.fast_SIR(G1, lambd, mu, rho=0.05)\n",
    "        \n",
    "        final_size_conf[lambd].append(R[-1]/N)"
   ]
  },
  {
   "cell_type": "code",
   "execution_count": 49,
   "metadata": {},
   "outputs": [],
   "source": [
    "conf_net_size=pd.DataFrame.from_dict(final_size_conf)"
   ]
  },
  {
   "cell_type": "code",
   "execution_count": 82,
   "metadata": {},
   "outputs": [
    {
     "data": {
      "text/plain": [
       "Text(0.5,0,'$\\\\lambda$')"
      ]
     },
     "execution_count": 82,
     "metadata": {},
     "output_type": "execute_result"
    },
    {
     "data": {
      "image/png": "[encoded data removed]",
      "text/plain": [
       "<matplotlib.figure.Figure at 0x1a2135b390>"
      ]
     },
     "metadata": {},
     "output_type": "display_data"
    }
   ],
   "source": [
    "plt.figure(figsize=(12,7))\n",
    "\n",
    "boxprops1 = dict(linestyle='-', linewidth=4, color='b')\n",
    "\n",
    "homo_net_size.boxplot(positions=np.array(homo_net_size.columns), widths=np.array(homo_net_size.columns)/3)\n",
    "\n",
    "conf_net_size.boxplot(positions=np.array(conf_net_size.columns), widths=np.array(conf_net_size.columns)/3, boxprops=boxprops1)\n",
    "\n",
    "plt.vlines(x=lambda_c1, ymin=0.04, ymax=1.1)\n",
    "plt.legend(['ER','CM'])\n",
    "plt.yscale('log')\n",
    "plt.xscale('log')\n",
    "plt.xlim(0.0001, 1.0)\n",
    "plt.ylim(0.045, 1.1)\n",
    "plt.xticks(fontsize=18)\n",
    "plt.yticks(fontsize=18)\n",
    "plt.ylabel('final epidemic size', fontsize=18)\n",
    "plt.xlabel('$\\lambda$', fontsize=18)"
   ]
  },
  {
   "cell_type": "code",
   "execution_count": null,
   "metadata": {},
   "outputs": [],
   "source": []
  }
 ],
 "metadata": {
  "kernelspec": {
   "display_name": "Python 3",
   "language": "python",
   "name": "python3"
  },
  "language_info": {
   "codemirror_mode": {
    "name": "ipython",
    "version": 3
   },
   "file_extension": ".py",
   "mimetype": "text/x-python",
   "name": "python",
   "nbconvert_exporter": "python",
   "pygments_lexer": "ipython3",
   "version": "3.6.4"
  }
 },
 "nbformat": 4,
 "nbformat_minor": 2
}
