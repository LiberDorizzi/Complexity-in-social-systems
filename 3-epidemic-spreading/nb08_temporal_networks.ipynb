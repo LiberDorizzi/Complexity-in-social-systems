{
 "cells": [
  {
   "cell_type": "markdown",
   "metadata": {},
   "source": [
    "<center>\n",
    "<hr>\n",
    "<h1>Complessità nei sistemi sociali</h1>\n",
    "<h2>Laurea Magistrale in Fisica Dei Sistemi Complessi</h2>\n",
    "<h2>A.A. 2019/20</h2>\n",
    "<h2>Daniela Paolotti & Michele Tizzoni</h2>\n",
    "<h3>Epidemic spreading on temporal networks</h3>\n",
    "<hr>\n",
    "</center>"
   ]
  },
  {
   "cell_type": "markdown",
   "metadata": {},
   "source": [
    "### The temporal dynamics of networks affect dynamical processes that take place on top of them"
   ]
  },
  {
   "cell_type": "markdown",
   "metadata": {},
   "source": [
    "In 2001, Liljeros and collaborators found that the network of human sexual contacts is \"scale-free\" concluding that STI can be hard to eradicate because of such property. \n",
    "\n",
    "See: https://www.nature.com/nature/journal/v411/n6840/full/411907a0.html"
   ]
  },
  {
   "cell_type": "markdown",
   "metadata": {},
   "source": [
    "However, their conclusions were only partially true because the network of human sexual contacts is a *dynamical network* and temporal fluctuations are very important when considering a dynamical processes that take place on top of it."
   ]
  },
  {
   "cell_type": "markdown",
   "metadata": {},
   "source": [
    "In 2011, Rocha and collaborators published a temporal dataset of sexual contacts in Brazil: http://journals.plos.org/ploscompbiol/article?id=10.1371/journal.pcbi.1001109.\n",
    "We use this dataset to simulate an epidemic process (SI) and compare results between the static aggregated network and the dynamic network."
   ]
  },
  {
   "cell_type": "code",
   "execution_count": 1,
   "metadata": {},
   "outputs": [],
   "source": [
    "import networkx as nx\n",
    "from collections import defaultdict"
   ]
  },
  {
   "cell_type": "code",
   "execution_count": 2,
   "metadata": {},
   "outputs": [
    {
     "name": "stderr",
     "output_type": "stream",
     "text": [
      "\n",
      "Bad key \"axes.titlelocation\" on line 298 in\n",
      "/Users/Michele/anaconda3/lib/python3.7/site-packages/matplotlib/mpl-data/matplotlibrc.\n",
      "You probably need to get an updated matplotlibrc file from\n",
      "https://github.com/matplotlib/matplotlib/blob/v3.1.3/matplotlibrc.template\n",
      "or from the matplotlib source distribution\n"
     ]
    },
    {
     "name": "stdout",
     "output_type": "stream",
     "text": [
      "Populating the interactive namespace from numpy and matplotlib\n"
     ]
    }
   ],
   "source": [
    "%pylab inline"
   ]
  },
  {
   "cell_type": "code",
   "execution_count": 3,
   "metadata": {},
   "outputs": [],
   "source": [
    "import seaborn as sns"
   ]
  },
  {
   "cell_type": "code",
   "execution_count": 4,
   "metadata": {},
   "outputs": [],
   "source": [
    "filepath='./../network_data/Dataset_sexual_network.csv'"
   ]
  },
  {
   "cell_type": "code",
   "execution_count": 5,
   "metadata": {},
   "outputs": [],
   "source": [
    "edgelist=defaultdict(list)"
   ]
  },
  {
   "cell_type": "code",
   "execution_count": 6,
   "metadata": {},
   "outputs": [],
   "source": [
    "finput=open(filepath,'r')\n",
    "for line in finput.readlines():\n",
    "    \n",
    "    if line[0]!='#':#not a comment\n",
    "        s=line.strip().split(';')\n",
    "        \n",
    "        day=int(s[2])\n",
    "        edge=(int(s[0]), int(s[1]))\n",
    "                \n",
    "        edgelist[day].append(edge)\n",
    "        \n",
    "finput.close()"
   ]
  },
  {
   "cell_type": "code",
   "execution_count": 7,
   "metadata": {},
   "outputs": [],
   "source": [
    "G_agg=nx.Graph()#aggregated graph\n",
    "G_agg.disease_status={}"
   ]
  },
  {
   "cell_type": "code",
   "execution_count": 8,
   "metadata": {},
   "outputs": [],
   "source": [
    "daystart=800#we skip the transient\n",
    "dayend=1800"
   ]
  },
  {
   "cell_type": "code",
   "execution_count": 9,
   "metadata": {},
   "outputs": [
    {
     "name": "stdout",
     "output_type": "stream",
     "text": [
      "The aggregated network has 11306 nodes\n",
      "The aggregated network has 23345 links\n"
     ]
    }
   ],
   "source": [
    "for d in edgelist:\n",
    "    if d>=daystart and d<=dayend:\n",
    "        links=edgelist[d]\n",
    "        G_agg.add_edges_from(links)#we add the link to the graph\n",
    "\n",
    "print(\"The aggregated network has\", len(G_agg.nodes()),\"nodes\")\n",
    "print(\"The aggregated network has\", len(G_agg.edges()),\"links\")"
   ]
  },
  {
   "cell_type": "code",
   "execution_count": 10,
   "metadata": {},
   "outputs": [
    {
     "data": {
      "text/plain": [
       "False"
      ]
     },
     "execution_count": 10,
     "metadata": {},
     "output_type": "execute_result"
    }
   ],
   "source": [
    "nx.is_connected(G_agg)"
   ]
  },
  {
   "cell_type": "code",
   "execution_count": 11,
   "metadata": {},
   "outputs": [
    {
     "data": {
      "text/plain": [
       "337"
      ]
     },
     "execution_count": 11,
     "metadata": {},
     "output_type": "execute_result"
    }
   ],
   "source": [
    "nx.number_connected_components(G_agg)"
   ]
  },
  {
   "cell_type": "code",
   "execution_count": 12,
   "metadata": {},
   "outputs": [
    {
     "name": "stdout",
     "output_type": "stream",
     "text": [
      "10566\n",
      "3\n",
      "2\n",
      "2\n",
      "2\n",
      "2\n",
      "2\n",
      "2\n",
      "2\n",
      "3\n",
      "2\n",
      "4\n",
      "2\n",
      "2\n",
      "3\n",
      "2\n",
      "3\n",
      "2\n",
      "3\n",
      "2\n",
      "3\n",
      "2\n",
      "2\n",
      "2\n",
      "2\n",
      "2\n",
      "2\n",
      "2\n",
      "2\n",
      "3\n",
      "2\n",
      "2\n",
      "2\n",
      "2\n",
      "2\n",
      "2\n",
      "2\n",
      "2\n",
      "2\n",
      "2\n",
      "2\n",
      "2\n",
      "2\n",
      "3\n",
      "4\n",
      "2\n",
      "2\n",
      "6\n",
      "2\n",
      "4\n",
      "2\n",
      "4\n",
      "2\n",
      "3\n",
      "2\n",
      "2\n",
      "2\n",
      "2\n",
      "2\n",
      "2\n",
      "2\n",
      "2\n",
      "2\n",
      "2\n",
      "2\n",
      "2\n",
      "2\n",
      "2\n",
      "2\n",
      "2\n",
      "2\n",
      "2\n",
      "2\n",
      "2\n",
      "2\n",
      "2\n",
      "2\n",
      "2\n",
      "2\n",
      "2\n",
      "2\n",
      "2\n",
      "2\n",
      "3\n",
      "2\n",
      "2\n",
      "2\n",
      "2\n",
      "2\n",
      "2\n",
      "2\n",
      "3\n",
      "2\n",
      "2\n",
      "2\n",
      "2\n",
      "3\n",
      "2\n",
      "2\n",
      "2\n",
      "2\n",
      "2\n",
      "2\n",
      "2\n",
      "2\n",
      "2\n",
      "2\n",
      "2\n",
      "2\n",
      "2\n",
      "2\n",
      "2\n",
      "2\n",
      "2\n",
      "2\n",
      "2\n",
      "2\n",
      "2\n",
      "2\n",
      "2\n",
      "2\n",
      "2\n",
      "2\n",
      "2\n",
      "2\n",
      "2\n",
      "2\n",
      "3\n",
      "2\n",
      "2\n",
      "2\n",
      "2\n",
      "2\n",
      "2\n",
      "2\n",
      "2\n",
      "2\n",
      "2\n",
      "2\n",
      "2\n",
      "2\n",
      "2\n",
      "2\n",
      "2\n",
      "2\n",
      "2\n",
      "2\n",
      "3\n",
      "2\n",
      "2\n",
      "2\n",
      "3\n",
      "2\n",
      "2\n",
      "2\n",
      "2\n",
      "2\n",
      "3\n",
      "2\n",
      "2\n",
      "2\n",
      "3\n",
      "2\n",
      "2\n",
      "2\n",
      "2\n",
      "2\n",
      "2\n",
      "2\n",
      "2\n",
      "2\n",
      "2\n",
      "2\n",
      "2\n",
      "2\n",
      "2\n",
      "2\n",
      "5\n",
      "2\n",
      "2\n",
      "3\n",
      "2\n",
      "2\n",
      "2\n",
      "2\n",
      "2\n",
      "3\n",
      "2\n",
      "2\n",
      "2\n",
      "8\n",
      "2\n",
      "5\n",
      "2\n",
      "3\n",
      "3\n",
      "2\n",
      "2\n",
      "2\n",
      "2\n",
      "4\n",
      "2\n",
      "2\n",
      "2\n",
      "2\n",
      "2\n",
      "3\n",
      "2\n",
      "2\n",
      "2\n",
      "2\n",
      "2\n",
      "2\n",
      "2\n",
      "2\n",
      "2\n",
      "2\n",
      "2\n",
      "3\n",
      "2\n",
      "2\n",
      "3\n",
      "2\n",
      "2\n",
      "2\n",
      "2\n",
      "2\n",
      "2\n",
      "2\n",
      "2\n",
      "2\n",
      "5\n",
      "3\n",
      "2\n",
      "2\n",
      "3\n",
      "2\n",
      "2\n",
      "2\n",
      "2\n",
      "2\n",
      "2\n",
      "2\n",
      "2\n",
      "2\n",
      "3\n",
      "2\n",
      "2\n",
      "2\n",
      "2\n",
      "2\n",
      "2\n",
      "3\n",
      "2\n",
      "2\n",
      "2\n",
      "2\n",
      "2\n",
      "2\n",
      "2\n",
      "2\n",
      "2\n",
      "3\n",
      "2\n",
      "3\n",
      "2\n",
      "2\n",
      "2\n",
      "2\n",
      "2\n",
      "2\n",
      "2\n",
      "2\n",
      "2\n",
      "2\n",
      "3\n",
      "2\n",
      "2\n",
      "2\n",
      "2\n",
      "2\n",
      "2\n",
      "2\n",
      "2\n",
      "2\n",
      "2\n",
      "3\n",
      "2\n",
      "2\n",
      "2\n",
      "2\n",
      "2\n",
      "2\n",
      "2\n",
      "2\n",
      "4\n",
      "2\n",
      "2\n",
      "2\n",
      "2\n",
      "2\n",
      "4\n",
      "2\n",
      "2\n",
      "2\n",
      "2\n",
      "2\n",
      "3\n",
      "2\n",
      "2\n",
      "2\n",
      "2\n",
      "2\n",
      "2\n",
      "3\n",
      "2\n",
      "2\n",
      "2\n",
      "2\n",
      "2\n",
      "2\n",
      "3\n",
      "2\n",
      "2\n",
      "2\n",
      "2\n",
      "2\n",
      "2\n",
      "2\n",
      "2\n",
      "2\n",
      "2\n",
      "2\n",
      "2\n",
      "2\n",
      "2\n",
      "2\n"
     ]
    }
   ],
   "source": [
    "for i in nx.connected_components(G_agg):\n",
    "    print(len(i))"
   ]
  },
  {
   "cell_type": "markdown",
   "metadata": {},
   "source": [
    "---\n",
    "# Simulations on the time-aggregated graph"
   ]
  },
  {
   "cell_type": "code",
   "execution_count": 13,
   "metadata": {},
   "outputs": [
    {
     "name": "stdout",
     "output_type": "stream",
     "text": [
      "12\n",
      "The degree of the seed is 54\n"
     ]
    }
   ],
   "source": [
    "#let's choose a random seed\n",
    "import random\n",
    "\n",
    "seed_links=edgelist[daystart]\n",
    "print(len(seed_links))\n",
    "\n",
    "random.shuffle(seed_links)\n",
    "seed=seed_links[0][0]\n",
    "\n",
    "print(\"The degree of the seed is\", G_agg.degree(seed))"
   ]
  },
  {
   "cell_type": "code",
   "execution_count": 14,
   "metadata": {},
   "outputs": [],
   "source": [
    "infected_nodes=[]\n",
    "infected_nodes.append(seed)\n",
    "\n",
    "for n in G_agg.nodes():\n",
    "    if n in infected_nodes:\n",
    "        G_agg.disease_status[n]=1\n",
    "        #infected\n",
    "    else:\n",
    "        G_agg.disease_status[n]=0\n",
    "        #susceptible"
   ]
  },
  {
   "cell_type": "code",
   "execution_count": 15,
   "metadata": {},
   "outputs": [
    {
     "name": "stdout",
     "output_type": "stream",
     "text": [
      "The final size of the epidemic is 0.9345480275959668\n"
     ]
    }
   ],
   "source": [
    "Itime_agg=[]\n",
    "\n",
    "#there are 1000 days of network activity but the network does not change!\n",
    "\n",
    "for t in range(0,1000):\n",
    "    \n",
    "    for i in infected_nodes:\n",
    "        for j in G_agg.neighbors(i):\n",
    "            if G_agg.disease_status[j]==0:\n",
    "                G_agg.disease_status[j]=1#the probability of infection is 1!!\n",
    "                \n",
    "    #ciclo per aggiornare l'elenco dei nodi infetti\n",
    "    infected_nodes=[]\n",
    "    for n in G_agg.nodes():\n",
    "        if G_agg.disease_status[n]==1:\n",
    "            infected_nodes.append(n)\n",
    " \n",
    "    Itime_agg.append(len(infected_nodes))\n",
    "\n",
    "print(\"The final size of the epidemic is\", float(len(infected_nodes))/len(G_agg.nodes()))"
   ]
  },
  {
   "cell_type": "code",
   "execution_count": 16,
   "metadata": {},
   "outputs": [
    {
     "data": {
      "text/plain": [
       "[0, 1000, -1, 10600]"
      ]
     },
     "execution_count": 16,
     "metadata": {},
     "output_type": "execute_result"
    },
    {
     "data": {
      "image/png": "[encoded data removed]",
      "text/plain": [
       "<Figure size 720x504 with 1 Axes>"
      ]
     },
     "metadata": {
      "needs_background": "light"
     },
     "output_type": "display_data"
    }
   ],
   "source": [
    "plt.figure(figsize=(10,7))\n",
    "plt.xlabel('Time', fontsize=18)\n",
    "plt.ylabel('Infected individuals', fontsize=18)\n",
    "plt.xticks(fontsize=14)\n",
    "plt.yticks(fontsize=14)\n",
    "plt.plot(range(0,len(Itime_agg)),Itime_agg)\n",
    "plt.axis([0,1000,-1,10600])"
   ]
  },
  {
   "cell_type": "markdown",
   "metadata": {},
   "source": [
    "---\n",
    "# Simulations on the full dynamic network"
   ]
  },
  {
   "cell_type": "code",
   "execution_count": 17,
   "metadata": {},
   "outputs": [],
   "source": [
    "G_dyn=nx.Graph()\n",
    "G_dyn.disease_status={}"
   ]
  },
  {
   "cell_type": "code",
   "execution_count": 18,
   "metadata": {},
   "outputs": [],
   "source": [
    "seed_links=edgelist[daystart]\n",
    "random.shuffle(seed_links)\n",
    "seed=seed_links[0][0]"
   ]
  },
  {
   "cell_type": "code",
   "execution_count": 19,
   "metadata": {},
   "outputs": [
    {
     "data": {
      "text/plain": [
       "1922"
      ]
     },
     "execution_count": 19,
     "metadata": {},
     "output_type": "execute_result"
    }
   ],
   "source": [
    "seed"
   ]
  },
  {
   "cell_type": "code",
   "execution_count": 20,
   "metadata": {},
   "outputs": [],
   "source": [
    "infected_nodes=[]\n",
    "infected_nodes.append(seed)\n",
    "\n",
    "G_dyn.add_edges_from(seed_links)#we consider only the links that are active on day 0\n",
    "\n",
    "for n in G_dyn.nodes():\n",
    "    if n in infected_nodes:\n",
    "        G_dyn.disease_status[n]=1\n",
    "        #infected\n",
    "    else:\n",
    "        G_dyn.disease_status[n]=0\n",
    "        #susceptible"
   ]
  },
  {
   "cell_type": "code",
   "execution_count": 21,
   "metadata": {},
   "outputs": [
    {
     "name": "stdout",
     "output_type": "stream",
     "text": [
      "The temporal network has 22 nodes on day 800\n",
      "The temporal network has 12 edges on day 800\n",
      "The degree of the seed is 2\n",
      "The final size of the epidemic is 0.7123651158676809\n"
     ]
    }
   ],
   "source": [
    "Itime_dyn=[]\n",
    "\n",
    "for t in range(daystart,dayend+1):\n",
    "\n",
    "    links=edgelist[t]#these are the links active on day t\n",
    "    \n",
    "    if t==daystart:\n",
    "        print(\"The temporal network has\", len(G_dyn.nodes()),\"nodes on day\", daystart)\n",
    "        print(\"The temporal network has\", len(G_dyn.edges()),\"edges on day\", daystart)\n",
    "        print(\"The degree of the seed is\", G_dyn.degree(seed))\n",
    "    else:\n",
    "        G_dyn.add_edges_from(links)\n",
    "        for e in links:\n",
    "            if e[0] not in G_dyn.disease_status:\n",
    "                G_dyn.disease_status[e[0]]=0\n",
    "            if e[1] not in G_dyn.disease_status:\n",
    "                G_dyn.disease_status[e[1]]=0\n",
    "\n",
    "    \n",
    "    #ciclo sui nodi infetti per la trasmissione\n",
    "    for i in infected_nodes:\n",
    "        for j in G_dyn.neighbors(i):\n",
    "            if G_dyn.disease_status[j]==0:\n",
    "                G_dyn.disease_status[j]=1\n",
    "                \n",
    "    #ciclo per aggiornare l'elenco dei nodi infetti\n",
    "    infected_nodes=[]\n",
    "    for n in G_dyn.nodes():\n",
    "        if G_dyn.disease_status[n]==1:\n",
    "            infected_nodes.append(n)\n",
    "    \n",
    "    Itime_dyn.append(len(infected_nodes))\n",
    "\n",
    "    #stampo il numero di nodi infetti a ogni time-step\n",
    "    G_dyn.remove_edges_from(links)\n",
    "\n",
    "print(\"The final size of the epidemic is\", float(len(infected_nodes))/len(G_dyn.nodes()))\n"
   ]
  },
  {
   "cell_type": "code",
   "execution_count": 22,
   "metadata": {},
   "outputs": [
    {
     "data": {
      "text/plain": [
       "[0, 1000, -1, 10600]"
      ]
     },
     "execution_count": 22,
     "metadata": {},
     "output_type": "execute_result"
    },
    {
     "data": {
      "image/png": "[encoded data removed]",
      "text/plain": [
       "<Figure size 720x504 with 1 Axes>"
      ]
     },
     "metadata": {
      "needs_background": "light"
     },
     "output_type": "display_data"
    }
   ],
   "source": [
    "plt.figure(figsize=(10,7))\n",
    "plt.xticks(fontsize=14)\n",
    "plt.yticks(fontsize=14)\n",
    "plt.xlabel('time', fontsize=18)\n",
    "plt.ylabel('infected individuals', fontsize=18)\n",
    "plt.plot(range(0,len(Itime_agg)),Itime_agg, label='static')\n",
    "plt.plot(range(0,len(Itime_dyn)),Itime_dyn, label='dynamic')\n",
    "plt.legend()\n",
    "plt.axis([0,1000,-1,10600])"
   ]
  },
  {
   "cell_type": "code",
   "execution_count": null,
   "metadata": {
    "collapsed": true,
    "jupyter": {
     "outputs_hidden": true
    }
   },
   "outputs": [],
   "source": []
  },
  {
   "cell_type": "code",
   "execution_count": null,
   "metadata": {},
   "outputs": [],
   "source": []
  }
 ],
 "metadata": {
  "kernelspec": {
   "display_name": "Python 3",
   "language": "python",
   "name": "python3"
  },
  "language_info": {
   "codemirror_mode": {
    "name": "ipython",
    "version": 3
   },
   "file_extension": ".py",
   "mimetype": "text/x-python",
   "name": "python",
   "nbconvert_exporter": "python",
   "pygments_lexer": "ipython3",
   "version": "3.7.1"
  }
 },
 "nbformat": 4,
 "nbformat_minor": 4
}
