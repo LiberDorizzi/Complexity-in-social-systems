{
 "cells": [
  {
   "cell_type": "markdown",
   "metadata": {},
   "source": [
    "<center>\n",
    "<hr>\n",
    "<h1>Complessità nei sistemi sociali</h1>\n",
    "<h2>Laurea Magistrale in Fisica Dei Sistemi Complessi</h2>\n",
    "<h2>A.A. 2019/20</h2>\n",
    "<h3>Daniela Paolotti & Michele Tizzoni</h3>\n",
    "<h3>Notebook 5 - Basic network analysis with NetworkX, assortativity, resilience to attacks</h3>\n",
    "<hr>\n",
    "</center>"
   ]
  },
  {
   "cell_type": "code",
   "execution_count": 1,
   "metadata": {},
   "outputs": [],
   "source": [
    "import networkx as nx\n",
    "import seaborn as sns"
   ]
  },
  {
   "cell_type": "code",
   "execution_count": 2,
   "metadata": {},
   "outputs": [
    {
     "name": "stdout",
     "output_type": "stream",
     "text": [
      "Populating the interactive namespace from numpy and matplotlib\n"
     ]
    }
   ],
   "source": [
    "%pylab inline"
   ]
  },
  {
   "cell_type": "markdown",
   "metadata": {},
   "source": [
    "## Connectivity and clustering of a graph\n",
    "\n",
    "We study the network of coauthorships of Astro-Ph, from the SNAP database."
   ]
  },
  {
   "cell_type": "code",
   "execution_count": 3,
   "metadata": {
    "collapsed": true,
    "jupyter": {
     "outputs_hidden": true
    }
   },
   "outputs": [],
   "source": [
    "filepath='./../network_data/ca-AstroPh.txt'"
   ]
  },
  {
   "cell_type": "code",
   "execution_count": 4,
   "metadata": {
    "collapsed": true,
    "jupyter": {
     "outputs_hidden": true
    }
   },
   "outputs": [],
   "source": [
    "G=nx.Graph()"
   ]
  },
  {
   "cell_type": "code",
   "execution_count": 5,
   "metadata": {
    "collapsed": true,
    "jupyter": {
     "outputs_hidden": true
    }
   },
   "outputs": [],
   "source": [
    "fh=open(filepath,'r')\n",
    "for line in fh.readlines():\n",
    "    s=line.strip().split()\n",
    "    if s[0]!='#':\n",
    "        origin=int(s[0])\n",
    "        dest=int(s[1])\n",
    "        G.add_edge(origin,dest)\n",
    "fh.close()"
   ]
  },
  {
   "cell_type": "code",
   "execution_count": 6,
   "metadata": {},
   "outputs": [
    {
     "name": "stdout",
     "output_type": "stream",
     "text": [
      "The graph has 18772 nodes and 198110 edges\n"
     ]
    }
   ],
   "source": [
    "print(\"The graph has\", len(G), \"nodes and\",len(G.edges()),\"edges\")"
   ]
  },
  {
   "cell_type": "code",
   "execution_count": 7,
   "metadata": {},
   "outputs": [
    {
     "name": "stdout",
     "output_type": "stream",
     "text": [
      "Is the graph simply connected? False\n"
     ]
    }
   ],
   "source": [
    "print(\"Is the graph simply connected?\", nx.is_connected(G))"
   ]
  },
  {
   "cell_type": "markdown",
   "metadata": {},
   "source": [
    "### Show the components of the graph"
   ]
  },
  {
   "cell_type": "code",
   "execution_count": 8,
   "metadata": {},
   "outputs": [
    {
     "name": "stdout",
     "output_type": "stream",
     "text": [
      "The graph has 290 connected components\n"
     ]
    }
   ],
   "source": [
    "print(\"The graph has\", nx.number_connected_components(G),\"connected components\")"
   ]
  },
  {
   "cell_type": "code",
   "execution_count": 9,
   "metadata": {},
   "outputs": [
    {
     "name": "stdout",
     "output_type": "stream",
     "text": [
      "17903\n",
      "2\n",
      "3\n",
      "4\n",
      "8\n",
      "2\n",
      "2\n",
      "4\n",
      "3\n",
      "5\n",
      "3\n",
      "3\n",
      "2\n",
      "2\n",
      "5\n",
      "5\n",
      "2\n",
      "7\n",
      "2\n",
      "3\n",
      "10\n",
      "3\n",
      "4\n",
      "4\n",
      "4\n",
      "2\n",
      "2\n",
      "3\n",
      "6\n",
      "4\n",
      "2\n",
      "4\n",
      "2\n",
      "3\n",
      "2\n",
      "2\n",
      "5\n",
      "4\n",
      "6\n",
      "2\n",
      "2\n",
      "5\n",
      "3\n",
      "2\n",
      "2\n",
      "2\n",
      "2\n",
      "4\n",
      "3\n",
      "2\n",
      "4\n",
      "2\n",
      "3\n",
      "3\n",
      "2\n",
      "3\n",
      "3\n",
      "2\n",
      "3\n",
      "3\n",
      "5\n",
      "3\n",
      "2\n",
      "3\n",
      "5\n",
      "3\n",
      "2\n",
      "3\n",
      "2\n",
      "2\n",
      "3\n",
      "2\n",
      "3\n",
      "4\n",
      "3\n",
      "3\n",
      "3\n",
      "3\n",
      "2\n",
      "5\n",
      "2\n",
      "4\n",
      "2\n",
      "4\n",
      "10\n",
      "2\n",
      "3\n",
      "3\n",
      "3\n",
      "4\n",
      "3\n",
      "2\n",
      "3\n",
      "2\n",
      "2\n",
      "3\n",
      "5\n",
      "2\n",
      "3\n",
      "2\n",
      "3\n",
      "2\n",
      "3\n",
      "2\n",
      "3\n",
      "9\n",
      "2\n",
      "3\n",
      "4\n",
      "3\n",
      "4\n",
      "3\n",
      "3\n",
      "5\n",
      "5\n",
      "2\n",
      "3\n",
      "2\n",
      "2\n",
      "2\n",
      "2\n",
      "2\n",
      "2\n",
      "2\n",
      "3\n",
      "4\n",
      "2\n",
      "2\n",
      "2\n",
      "2\n",
      "2\n",
      "3\n",
      "3\n",
      "2\n",
      "3\n",
      "2\n",
      "2\n",
      "4\n",
      "2\n",
      "2\n",
      "4\n",
      "4\n",
      "3\n",
      "3\n",
      "2\n",
      "2\n",
      "3\n",
      "3\n",
      "3\n",
      "2\n",
      "3\n",
      "2\n",
      "2\n",
      "2\n",
      "2\n",
      "4\n",
      "3\n",
      "2\n",
      "12\n",
      "2\n",
      "3\n",
      "8\n",
      "3\n",
      "2\n",
      "2\n",
      "7\n",
      "4\n",
      "3\n",
      "3\n",
      "2\n",
      "2\n",
      "2\n",
      "2\n",
      "3\n",
      "2\n",
      "3\n",
      "2\n",
      "2\n",
      "3\n",
      "2\n",
      "2\n",
      "3\n",
      "2\n",
      "4\n",
      "2\n",
      "2\n",
      "2\n",
      "2\n",
      "2\n",
      "2\n",
      "2\n",
      "3\n",
      "3\n",
      "2\n",
      "2\n",
      "2\n",
      "4\n",
      "2\n",
      "3\n",
      "2\n",
      "3\n",
      "2\n",
      "4\n",
      "2\n",
      "4\n",
      "2\n",
      "4\n",
      "4\n",
      "2\n",
      "5\n",
      "2\n",
      "2\n",
      "2\n",
      "3\n",
      "2\n",
      "4\n",
      "2\n",
      "2\n",
      "3\n",
      "3\n",
      "3\n",
      "3\n",
      "8\n",
      "2\n",
      "3\n",
      "2\n",
      "2\n",
      "3\n",
      "2\n",
      "2\n",
      "2\n",
      "2\n",
      "4\n",
      "1\n",
      "3\n",
      "2\n",
      "2\n",
      "2\n",
      "2\n",
      "3\n",
      "2\n",
      "2\n",
      "3\n",
      "2\n",
      "2\n",
      "2\n",
      "2\n",
      "3\n",
      "2\n",
      "2\n",
      "5\n",
      "2\n",
      "4\n",
      "2\n",
      "6\n",
      "18\n",
      "3\n",
      "2\n",
      "3\n",
      "3\n",
      "2\n",
      "2\n",
      "3\n",
      "4\n",
      "2\n",
      "2\n",
      "4\n",
      "3\n",
      "3\n",
      "4\n",
      "7\n",
      "5\n",
      "2\n",
      "3\n",
      "3\n",
      "2\n",
      "2\n",
      "4\n",
      "2\n",
      "4\n",
      "2\n",
      "2\n",
      "2\n",
      "2\n",
      "2\n",
      "2\n",
      "2\n",
      "3\n",
      "2\n",
      "2\n"
     ]
    }
   ],
   "source": [
    "for k in nx.connected_components(G):\n",
    "    print(len(k))"
   ]
  },
  {
   "cell_type": "markdown",
   "metadata": {},
   "source": [
    "### Extract the largest Connected Component as a subgraph"
   ]
  },
  {
   "cell_type": "code",
   "execution_count": 10,
   "metadata": {},
   "outputs": [
    {
     "data": {
      "text/plain": [
       "<generator object connected_component_subgraphs at 0x1a15168bf8>"
      ]
     },
     "execution_count": 10,
     "metadata": {},
     "output_type": "execute_result"
    }
   ],
   "source": [
    "nx.connected_component_subgraphs(G)"
   ]
  },
  {
   "cell_type": "code",
   "execution_count": 11,
   "metadata": {
    "collapsed": true,
    "jupyter": {
     "outputs_hidden": true
    }
   },
   "outputs": [],
   "source": [
    "graphs = list(nx.connected_component_subgraphs(G))"
   ]
  },
  {
   "cell_type": "code",
   "execution_count": 12,
   "metadata": {},
   "outputs": [
    {
     "data": {
      "text/plain": [
       "[<networkx.classes.graph.Graph at 0x1a15176400>,\n",
       " <networkx.classes.graph.Graph at 0x1a15176438>,\n",
       " <networkx.classes.graph.Graph at 0x1a151765c0>,\n",
       " <networkx.classes.graph.Graph at 0x1a15176588>,\n",
       " <networkx.classes.graph.Graph at 0x1a15176630>,\n",
       " <networkx.classes.graph.Graph at 0x1a15176668>,\n",
       " <networkx.classes.graph.Graph at 0x1a151766a0>,\n",
       " <networkx.classes.graph.Graph at 0x1a151766d8>,\n",
       " <networkx.classes.graph.Graph at 0x1a15176710>,\n",
       " <networkx.classes.graph.Graph at 0x1a151765f8>,\n",
       " <networkx.classes.graph.Graph at 0x1a15176748>,\n",
       " <networkx.classes.graph.Graph at 0x1a15176780>,\n",
       " <networkx.classes.graph.Graph at 0x1a151767b8>,\n",
       " <networkx.classes.graph.Graph at 0x1a15176828>,\n",
       " <networkx.classes.graph.Graph at 0x1a15176860>,\n",
       " <networkx.classes.graph.Graph at 0x1a151767f0>,\n",
       " <networkx.classes.graph.Graph at 0x1a15176470>,\n",
       " <networkx.classes.graph.Graph at 0x1a151764e0>,\n",
       " <networkx.classes.graph.Graph at 0x1a151764a8>,\n",
       " <networkx.classes.graph.Graph at 0x1a15176898>,\n",
       " <networkx.classes.graph.Graph at 0x1a15176518>,\n",
       " <networkx.classes.graph.Graph at 0x1a15176908>,\n",
       " <networkx.classes.graph.Graph at 0x1a151768d0>,\n",
       " <networkx.classes.graph.Graph at 0x1a15176978>,\n",
       " <networkx.classes.graph.Graph at 0x1a151769b0>,\n",
       " <networkx.classes.graph.Graph at 0x1a151769e8>,\n",
       " <networkx.classes.graph.Graph at 0x1a15176a20>,\n",
       " <networkx.classes.graph.Graph at 0x1a15176a58>,\n",
       " <networkx.classes.graph.Graph at 0x1a15176940>,\n",
       " <networkx.classes.graph.Graph at 0x1a15176ac8>,\n",
       " <networkx.classes.graph.Graph at 0x1a15176b00>,\n",
       " <networkx.classes.graph.Graph at 0x1a15176b38>,\n",
       " <networkx.classes.graph.Graph at 0x1a15176b70>,\n",
       " <networkx.classes.graph.Graph at 0x1a15176ba8>,\n",
       " <networkx.classes.graph.Graph at 0x1a15176a90>,\n",
       " <networkx.classes.graph.Graph at 0x1a15176c18>,\n",
       " <networkx.classes.graph.Graph at 0x1a15176c50>,\n",
       " <networkx.classes.graph.Graph at 0x1a15176be0>,\n",
       " <networkx.classes.graph.Graph at 0x1a15176cc0>,\n",
       " <networkx.classes.graph.Graph at 0x1a15176cf8>,\n",
       " <networkx.classes.graph.Graph at 0x1a15176d30>,\n",
       " <networkx.classes.graph.Graph at 0x1a15176d68>,\n",
       " <networkx.classes.graph.Graph at 0x1a15176c88>,\n",
       " <networkx.classes.graph.Graph at 0x1a15176da0>,\n",
       " <networkx.classes.graph.Graph at 0x1a15176e10>,\n",
       " <networkx.classes.graph.Graph at 0x1a15176e48>,\n",
       " <networkx.classes.graph.Graph at 0x1a15176e80>,\n",
       " <networkx.classes.graph.Graph at 0x1a15176eb8>,\n",
       " <networkx.classes.graph.Graph at 0x1a15176ef0>,\n",
       " <networkx.classes.graph.Graph at 0x1a15176dd8>,\n",
       " <networkx.classes.graph.Graph at 0x1a15176f60>,\n",
       " <networkx.classes.graph.Graph at 0x1a15176f98>,\n",
       " <networkx.classes.graph.Graph at 0x1a15176fd0>,\n",
       " <networkx.classes.graph.Graph at 0x1a15176f28>,\n",
       " <networkx.classes.graph.Graph at 0x1a151530b8>,\n",
       " <networkx.classes.graph.Graph at 0x1a1516bc18>,\n",
       " <networkx.classes.graph.Graph at 0x1a1516b5c0>,\n",
       " <networkx.classes.graph.Graph at 0x1a1516b6d8>,\n",
       " <networkx.classes.graph.Graph at 0x1a1516ba20>,\n",
       " <networkx.classes.graph.Graph at 0x1a1516bc88>,\n",
       " <networkx.classes.graph.Graph at 0x1a1516b5f8>,\n",
       " <networkx.classes.graph.Graph at 0x1a1516bcc0>,\n",
       " <networkx.classes.graph.Graph at 0x1a1516bba8>,\n",
       " <networkx.classes.graph.Graph at 0x1a1516be10>,\n",
       " <networkx.classes.graph.Graph at 0x1a1516bb38>,\n",
       " <networkx.classes.graph.Graph at 0x1a1516bd68>,\n",
       " <networkx.classes.graph.Graph at 0x1a1516bda0>,\n",
       " <networkx.classes.graph.Graph at 0x1a1516b940>,\n",
       " <networkx.classes.graph.Graph at 0x1a1516b7f0>,\n",
       " <networkx.classes.graph.Graph at 0x1a1516b8d0>,\n",
       " <networkx.classes.graph.Graph at 0x1a1516b908>,\n",
       " <networkx.classes.graph.Graph at 0x1a1516b828>,\n",
       " <networkx.classes.graph.Graph at 0x1a1516b588>,\n",
       " <networkx.classes.graph.Graph at 0x1a1516b860>,\n",
       " <networkx.classes.graph.Graph at 0x1a1516b7b8>,\n",
       " <networkx.classes.graph.Graph at 0x1a1516b780>,\n",
       " <networkx.classes.graph.Graph at 0x1a1516b898>,\n",
       " <networkx.classes.graph.Graph at 0x1a1516be80>,\n",
       " <networkx.classes.graph.Graph at 0x1a1516beb8>,\n",
       " <networkx.classes.graph.Graph at 0x1a1516bf28>,\n",
       " <networkx.classes.graph.Graph at 0x1a1516bef0>,\n",
       " <networkx.classes.graph.Graph at 0x1a1516bf60>,\n",
       " <networkx.classes.graph.Graph at 0x1a1516b518>,\n",
       " <networkx.classes.graph.Graph at 0x1a1516b978>,\n",
       " <networkx.classes.graph.Graph at 0x1a1516ba58>,\n",
       " <networkx.classes.graph.Graph at 0x1a1516bb00>,\n",
       " <networkx.classes.graph.Graph at 0x1a1516bac8>,\n",
       " <networkx.classes.graph.Graph at 0x1a1516bfd0>,\n",
       " <networkx.classes.graph.Graph at 0x1a1516b9e8>,\n",
       " <networkx.classes.graph.Graph at 0x1a1516bd30>,\n",
       " <networkx.classes.graph.Graph at 0x1a1516bdd8>,\n",
       " <networkx.classes.graph.Graph at 0x1a1516b550>,\n",
       " <networkx.classes.graph.Graph at 0x1a1516bb70>,\n",
       " <networkx.classes.graph.Graph at 0x1a1516b710>,\n",
       " <networkx.classes.graph.Graph at 0x1a1516b6a0>,\n",
       " <networkx.classes.graph.Graph at 0x1a1516b9b0>,\n",
       " <networkx.classes.graph.Graph at 0x1a1516b748>,\n",
       " <networkx.classes.graph.Graph at 0x1a1cddd048>,\n",
       " <networkx.classes.graph.Graph at 0x1a1cddd0b8>,\n",
       " <networkx.classes.graph.Graph at 0x1a1cddd080>,\n",
       " <networkx.classes.graph.Graph at 0x1a1cddd128>,\n",
       " <networkx.classes.graph.Graph at 0x1a1cddd0f0>,\n",
       " <networkx.classes.graph.Graph at 0x1a1cddd198>,\n",
       " <networkx.classes.graph.Graph at 0x1a1cddd160>,\n",
       " <networkx.classes.graph.Graph at 0x1a1cddd208>,\n",
       " <networkx.classes.graph.Graph at 0x1a1cddd1d0>,\n",
       " <networkx.classes.graph.Graph at 0x1a1cddd240>,\n",
       " <networkx.classes.graph.Graph at 0x1a1cddd2b0>,\n",
       " <networkx.classes.graph.Graph at 0x1a1cddd278>,\n",
       " <networkx.classes.graph.Graph at 0x1a1cddd320>,\n",
       " <networkx.classes.graph.Graph at 0x1a1cddd2e8>,\n",
       " <networkx.classes.graph.Graph at 0x1a1cddd390>,\n",
       " <networkx.classes.graph.Graph at 0x1a1cddd358>,\n",
       " <networkx.classes.graph.Graph at 0x1a1cddd3c8>,\n",
       " <networkx.classes.graph.Graph at 0x1a1cddd400>,\n",
       " <networkx.classes.graph.Graph at 0x1a1cddd438>,\n",
       " <networkx.classes.graph.Graph at 0x1a1cddd4a8>,\n",
       " <networkx.classes.graph.Graph at 0x1a1cddd470>,\n",
       " <networkx.classes.graph.Graph at 0x1a1cddd518>,\n",
       " <networkx.classes.graph.Graph at 0x1a1cddd550>,\n",
       " <networkx.classes.graph.Graph at 0x1a1cddd588>,\n",
       " <networkx.classes.graph.Graph at 0x1a1cddd5c0>,\n",
       " <networkx.classes.graph.Graph at 0x1a1cddd5f8>,\n",
       " <networkx.classes.graph.Graph at 0x1a1cddd630>,\n",
       " <networkx.classes.graph.Graph at 0x1a1cddd668>,\n",
       " <networkx.classes.graph.Graph at 0x1a1cddd4e0>,\n",
       " <networkx.classes.graph.Graph at 0x1a1cddd6d8>,\n",
       " <networkx.classes.graph.Graph at 0x1a1cddd710>,\n",
       " <networkx.classes.graph.Graph at 0x1a1cddd748>,\n",
       " <networkx.classes.graph.Graph at 0x1a1cddd780>,\n",
       " <networkx.classes.graph.Graph at 0x1a1cddd7b8>,\n",
       " <networkx.classes.graph.Graph at 0x1a1cddd7f0>,\n",
       " <networkx.classes.graph.Graph at 0x1a1cddd6a0>,\n",
       " <networkx.classes.graph.Graph at 0x1a1cddd828>,\n",
       " <networkx.classes.graph.Graph at 0x1a1cddd898>,\n",
       " <networkx.classes.graph.Graph at 0x1a1cddd860>,\n",
       " <networkx.classes.graph.Graph at 0x1a1cddd908>,\n",
       " <networkx.classes.graph.Graph at 0x1a1cddd940>,\n",
       " <networkx.classes.graph.Graph at 0x1a1cddd978>,\n",
       " <networkx.classes.graph.Graph at 0x1a1cddd9b0>,\n",
       " <networkx.classes.graph.Graph at 0x1a1cddd9e8>,\n",
       " <networkx.classes.graph.Graph at 0x1a1cddda20>,\n",
       " <networkx.classes.graph.Graph at 0x1a1cddda58>,\n",
       " <networkx.classes.graph.Graph at 0x1a1cddd8d0>,\n",
       " <networkx.classes.graph.Graph at 0x1a1cddda90>,\n",
       " <networkx.classes.graph.Graph at 0x1a1cdddb00>,\n",
       " <networkx.classes.graph.Graph at 0x1a1cdddb38>,\n",
       " <networkx.classes.graph.Graph at 0x1a1cdddac8>,\n",
       " <networkx.classes.graph.Graph at 0x1a1cdddb70>,\n",
       " <networkx.classes.graph.Graph at 0x1a1cdddba8>,\n",
       " <networkx.classes.graph.Graph at 0x1a1cdddc18>,\n",
       " <networkx.classes.graph.Graph at 0x1a1cdddbe0>,\n",
       " <networkx.classes.graph.Graph at 0x1a1cdddc88>,\n",
       " <networkx.classes.graph.Graph at 0x1a1cdddcc0>,\n",
       " <networkx.classes.graph.Graph at 0x1a1cdddcf8>,\n",
       " <networkx.classes.graph.Graph at 0x1a1cdddd30>,\n",
       " <networkx.classes.graph.Graph at 0x1a1cdddd68>,\n",
       " <networkx.classes.graph.Graph at 0x1a1cdddc50>,\n",
       " <networkx.classes.graph.Graph at 0x1a1cddddd8>,\n",
       " <networkx.classes.graph.Graph at 0x1a1cddde10>,\n",
       " <networkx.classes.graph.Graph at 0x1a1cddde48>,\n",
       " <networkx.classes.graph.Graph at 0x1a1cdddda0>,\n",
       " <networkx.classes.graph.Graph at 0x1a1cdddeb8>,\n",
       " <networkx.classes.graph.Graph at 0x1a1cddde80>,\n",
       " <networkx.classes.graph.Graph at 0x1a1cdddf28>,\n",
       " <networkx.classes.graph.Graph at 0x1a1cdddf60>,\n",
       " <networkx.classes.graph.Graph at 0x1a1cdddef0>,\n",
       " <networkx.classes.graph.Graph at 0x1a1cdddfd0>,\n",
       " <networkx.classes.graph.Graph at 0x1a1cdddf98>,\n",
       " <networkx.classes.graph.Graph at 0x1a1ce18048>,\n",
       " <networkx.classes.graph.Graph at 0x1a1ce180b8>,\n",
       " <networkx.classes.graph.Graph at 0x1a1ce180f0>,\n",
       " <networkx.classes.graph.Graph at 0x1a1ce18128>,\n",
       " <networkx.classes.graph.Graph at 0x1a1ce18160>,\n",
       " <networkx.classes.graph.Graph at 0x1a1ce18080>,\n",
       " <networkx.classes.graph.Graph at 0x1a1ce181d0>,\n",
       " <networkx.classes.graph.Graph at 0x1a1ce18198>,\n",
       " <networkx.classes.graph.Graph at 0x1a1ce18240>,\n",
       " <networkx.classes.graph.Graph at 0x1a1ce18278>,\n",
       " <networkx.classes.graph.Graph at 0x1a1ce18208>,\n",
       " <networkx.classes.graph.Graph at 0x1a1ce182e8>,\n",
       " <networkx.classes.graph.Graph at 0x1a1ce18320>,\n",
       " <networkx.classes.graph.Graph at 0x1a1ce182b0>,\n",
       " <networkx.classes.graph.Graph at 0x1a1ce18390>,\n",
       " <networkx.classes.graph.Graph at 0x1a1ce183c8>,\n",
       " <networkx.classes.graph.Graph at 0x1a1ce18400>,\n",
       " <networkx.classes.graph.Graph at 0x1a1ce18438>,\n",
       " <networkx.classes.graph.Graph at 0x1a1ce18470>,\n",
       " <networkx.classes.graph.Graph at 0x1a1ce184a8>,\n",
       " <networkx.classes.graph.Graph at 0x1a1ce184e0>,\n",
       " <networkx.classes.graph.Graph at 0x1a1ce18518>,\n",
       " <networkx.classes.graph.Graph at 0x1a1ce18550>,\n",
       " <networkx.classes.graph.Graph at 0x1a1ce18358>,\n",
       " <networkx.classes.graph.Graph at 0x1a1ce18588>,\n",
       " <networkx.classes.graph.Graph at 0x1a1ce185f8>,\n",
       " <networkx.classes.graph.Graph at 0x1a1ce18630>,\n",
       " <networkx.classes.graph.Graph at 0x1a1ce18668>,\n",
       " <networkx.classes.graph.Graph at 0x1a1ce186a0>,\n",
       " <networkx.classes.graph.Graph at 0x1a1ce186d8>,\n",
       " <networkx.classes.graph.Graph at 0x1a1ce185c0>,\n",
       " <networkx.classes.graph.Graph at 0x1a1ce18748>,\n",
       " <networkx.classes.graph.Graph at 0x1a1ce18710>,\n",
       " <networkx.classes.graph.Graph at 0x1a1ce187b8>,\n",
       " <networkx.classes.graph.Graph at 0x1a1ce187f0>,\n",
       " <networkx.classes.graph.Graph at 0x1a1ce18828>,\n",
       " <networkx.classes.graph.Graph at 0x1a1ce18860>,\n",
       " <networkx.classes.graph.Graph at 0x1a1ce18898>,\n",
       " <networkx.classes.graph.Graph at 0x1a1ce188d0>,\n",
       " <networkx.classes.graph.Graph at 0x1a1ce18908>,\n",
       " <networkx.classes.graph.Graph at 0x1a1ce18940>,\n",
       " <networkx.classes.graph.Graph at 0x1a1ce18780>,\n",
       " <networkx.classes.graph.Graph at 0x1a1ce189b0>,\n",
       " <networkx.classes.graph.Graph at 0x1a1ce189e8>,\n",
       " <networkx.classes.graph.Graph at 0x1a1ce18a20>,\n",
       " <networkx.classes.graph.Graph at 0x1a1ce18978>,\n",
       " <networkx.classes.graph.Graph at 0x1a1ce18a90>,\n",
       " <networkx.classes.graph.Graph at 0x1a1ce18ac8>,\n",
       " <networkx.classes.graph.Graph at 0x1a1ce18b00>,\n",
       " <networkx.classes.graph.Graph at 0x1a1ce18b38>,\n",
       " <networkx.classes.graph.Graph at 0x1a1ce18a58>,\n",
       " <networkx.classes.graph.Graph at 0x1a1ce18b70>,\n",
       " <networkx.classes.graph.Graph at 0x1a1ce18ba8>,\n",
       " <networkx.classes.graph.Graph at 0x1a1ce18be0>,\n",
       " <networkx.classes.graph.Graph at 0x1a1ce18c50>,\n",
       " <networkx.classes.graph.Graph at 0x1a1ce18c88>,\n",
       " <networkx.classes.graph.Graph at 0x1a1ce18c18>,\n",
       " <networkx.classes.graph.Graph at 0x1a1ce18cf8>,\n",
       " <networkx.classes.graph.Graph at 0x1a1ce18d30>,\n",
       " <networkx.classes.graph.Graph at 0x1a1ce18cc0>,\n",
       " <networkx.classes.graph.Graph at 0x1a1ce18da0>,\n",
       " <networkx.classes.graph.Graph at 0x1a1ce18dd8>,\n",
       " <networkx.classes.graph.Graph at 0x1a1ce18e10>,\n",
       " <networkx.classes.graph.Graph at 0x1a1ce18e48>,\n",
       " <networkx.classes.graph.Graph at 0x1a1ce18e80>,\n",
       " <networkx.classes.graph.Graph at 0x1a1ce18d68>,\n",
       " <networkx.classes.graph.Graph at 0x1a1ce18eb8>,\n",
       " <networkx.classes.graph.Graph at 0x1a1ce18f28>,\n",
       " <networkx.classes.graph.Graph at 0x1a1ce18f60>,\n",
       " <networkx.classes.graph.Graph at 0x1a1ce18f98>,\n",
       " <networkx.classes.graph.Graph at 0x1a1ce18fd0>,\n",
       " <networkx.classes.graph.Graph at 0x1a1ce18ef0>,\n",
       " <networkx.classes.graph.Graph at 0x1a1ce48080>,\n",
       " <networkx.classes.graph.Graph at 0x1a1ce480b8>,\n",
       " <networkx.classes.graph.Graph at 0x1a1ce48048>,\n",
       " <networkx.classes.graph.Graph at 0x1a1ce48128>,\n",
       " <networkx.classes.graph.Graph at 0x1a1ce48160>,\n",
       " <networkx.classes.graph.Graph at 0x1a1ce48198>,\n",
       " <networkx.classes.graph.Graph at 0x1a1ce481d0>,\n",
       " <networkx.classes.graph.Graph at 0x1a1ce480f0>,\n",
       " <networkx.classes.graph.Graph at 0x1a1ce48240>,\n",
       " <networkx.classes.graph.Graph at 0x1a1ce48278>,\n",
       " <networkx.classes.graph.Graph at 0x1a1ce48208>,\n",
       " <networkx.classes.graph.Graph at 0x1a1ce482e8>,\n",
       " <networkx.classes.graph.Graph at 0x1a1ce48320>,\n",
       " <networkx.classes.graph.Graph at 0x1a1ce48358>,\n",
       " <networkx.classes.graph.Graph at 0x1a1ce48390>,\n",
       " <networkx.classes.graph.Graph at 0x1a1ce483c8>,\n",
       " <networkx.classes.graph.Graph at 0x1a1ce482b0>,\n",
       " <networkx.classes.graph.Graph at 0x1a1ce48438>,\n",
       " <networkx.classes.graph.Graph at 0x1a1ce48400>,\n",
       " <networkx.classes.graph.Graph at 0x1a1ce48470>,\n",
       " <networkx.classes.graph.Graph at 0x1a1ce484e0>,\n",
       " <networkx.classes.graph.Graph at 0x1a1ce48518>,\n",
       " <networkx.classes.graph.Graph at 0x1a1ce484a8>,\n",
       " <networkx.classes.graph.Graph at 0x1a1ce48588>,\n",
       " <networkx.classes.graph.Graph at 0x1a1ce485c0>,\n",
       " <networkx.classes.graph.Graph at 0x1a1ce485f8>,\n",
       " <networkx.classes.graph.Graph at 0x1a1ce48630>,\n",
       " <networkx.classes.graph.Graph at 0x1a1ce48550>,\n",
       " <networkx.classes.graph.Graph at 0x1a1ce48668>,\n",
       " <networkx.classes.graph.Graph at 0x1a1ce486d8>,\n",
       " <networkx.classes.graph.Graph at 0x1a1ce486a0>,\n",
       " <networkx.classes.graph.Graph at 0x1a1ce48710>,\n",
       " <networkx.classes.graph.Graph at 0x1a1ce48780>,\n",
       " <networkx.classes.graph.Graph at 0x1a1ce48748>,\n",
       " <networkx.classes.graph.Graph at 0x1a1ce487b8>,\n",
       " <networkx.classes.graph.Graph at 0x1a1ce48828>,\n",
       " <networkx.classes.graph.Graph at 0x1a1ce48860>,\n",
       " <networkx.classes.graph.Graph at 0x1a1ce48898>,\n",
       " <networkx.classes.graph.Graph at 0x1a1ce488d0>,\n",
       " <networkx.classes.graph.Graph at 0x1a1ce48908>,\n",
       " <networkx.classes.graph.Graph at 0x1a1ce48940>,\n",
       " <networkx.classes.graph.Graph at 0x1a1ce48978>,\n",
       " <networkx.classes.graph.Graph at 0x1a1ce489b0>,\n",
       " <networkx.classes.graph.Graph at 0x1a1ce489e8>,\n",
       " <networkx.classes.graph.Graph at 0x1a1ce48a20>,\n",
       " <networkx.classes.graph.Graph at 0x1a1ce48a58>,\n",
       " <networkx.classes.graph.Graph at 0x1a1ce48a90>,\n",
       " <networkx.classes.graph.Graph at 0x1a1ce487f0>,\n",
       " <networkx.classes.graph.Graph at 0x1a1ce48b00>]"
      ]
     },
     "execution_count": 12,
     "metadata": {},
     "output_type": "execute_result"
    }
   ],
   "source": [
    "graphs"
   ]
  },
  {
   "cell_type": "code",
   "execution_count": 13,
   "metadata": {
    "collapsed": true,
    "jupyter": {
     "outputs_hidden": true
    }
   },
   "outputs": [],
   "source": [
    "H=graphs[0]"
   ]
  },
  {
   "cell_type": "code",
   "execution_count": 14,
   "metadata": {},
   "outputs": [
    {
     "data": {
      "text/plain": [
       "17903"
      ]
     },
     "execution_count": 14,
     "metadata": {},
     "output_type": "execute_result"
    }
   ],
   "source": [
    "len(H)"
   ]
  },
  {
   "cell_type": "code",
   "execution_count": 15,
   "metadata": {},
   "outputs": [
    {
     "name": "stdout",
     "output_type": "stream",
     "text": [
      "869\n"
     ]
    }
   ],
   "source": [
    "print(len(G)-len(H))"
   ]
  },
  {
   "cell_type": "code",
   "execution_count": 16,
   "metadata": {},
   "outputs": [
    {
     "name": "stdout",
     "output_type": "stream",
     "text": [
      "Check that the graph is now connected\n"
     ]
    },
    {
     "data": {
      "text/plain": [
       "1"
      ]
     },
     "execution_count": 16,
     "metadata": {},
     "output_type": "execute_result"
    }
   ],
   "source": [
    "print(\"Check that the graph is now connected\")\n",
    "nx.number_connected_components(H)"
   ]
  },
  {
   "cell_type": "markdown",
   "metadata": {},
   "source": [
    "## Global clustering coefficient"
   ]
  },
  {
   "cell_type": "markdown",
   "metadata": {},
   "source": [
    "The global clustering coefficient measures the number of triangles in the network and it's defined as: \n",
    "<center>\n",
    "$C_\\Delta = \\frac{3 \\times \\text{triangles}}{\\text{triplets}}$\n",
    "</center> "
   ]
  },
  {
   "cell_type": "code",
   "execution_count": 17,
   "metadata": {},
   "outputs": [
    {
     "data": {
      "text/plain": [
       "{3: 625,\n",
       " 4: 1,\n",
       " 65540: 12,\n",
       " 65541: 10,\n",
       " 32776: 60,\n",
       " 32777: 21,\n",
       " 65546: 119,\n",
       " 98315: 365,\n",
       " 32778: 1,\n",
       " 13: 16,\n",
       " 98318: 693,\n",
       " 98319: 3,\n",
       " 15: 0,\n",
       " 17: 0,\n",
       " 16: 1,\n",
       " 131091: 2837,\n",
       " 32787: 130,\n",
       " 98325: 92,\n",
       " 98326: 6,\n",
       " 32791: 580,\n",
       " 26: 12,\n",
       " 27: 0,\n",
       " 65564: 334,\n",
       " 32796: 7,\n",
       " 65566: 45,\n",
       " 30: 2357,\n",
       " 65568: 10,\n",
       " 65567: 45,\n",
       " 65569: 45,\n",
       " 65571: 21,\n",
       " 98340: 9,\n",
       " 32799: 3,\n",
       " 35: 3,\n",
       " 65570: 3,\n",
       " 98345: 317,\n",
       " 98346: 153,\n",
       " 43: 231,\n",
       " 41: 11,\n",
       " 98349: 55,\n",
       " 98348: 3,\n",
       " 131121: 2836,\n",
       " 98354: 13,\n",
       " 131122: 3,\n",
       " 98356: 3,\n",
       " 131123: 3,\n",
       " 98358: 5,\n",
       " 131126: 11,\n",
       " 131127: 6,\n",
       " 57: 114,\n",
       " 65595: 489,\n",
       " 131133: 1779,\n",
       " 65597: 1,\n",
       " 65599: 28,\n",
       " 32840: 469,\n",
       " 73: 3,\n",
       " 65610: 54,\n",
       " 65613: 335,\n",
       " 80: 2,\n",
       " 65620: 21,\n",
       " 84: 4,\n",
       " 86: 157,\n",
       " 88: 352,\n",
       " 65627: 28,\n",
       " 65628: 0,\n",
       " 65629: 406,\n",
       " 95: 5,\n",
       " 131167: 616,\n",
       " 65637: 32,\n",
       " 65638: 55,\n",
       " 102: 11,\n",
       " 65642: 1933,\n",
       " 65643: 45,\n",
       " 98412: 379,\n",
       " 106: 19,\n",
       " 131180: 97,\n",
       " 98417: 325,\n",
       " 114: 1545,\n",
       " 117: 915,\n",
       " 119: 94,\n",
       " 120: 6,\n",
       " 65657: 19,\n",
       " 124: 3,\n",
       " 98431: 21,\n",
       " 98432: 28,\n",
       " 131204: 1877,\n",
       " 98439: 348,\n",
       " 131209: 980,\n",
       " 98441: 21,\n",
       " 131211: 3,\n",
       " 65676: 874,\n",
       " 131212: 3,\n",
       " 131215: 2,\n",
       " 98449: 72,\n",
       " 131217: 3,\n",
       " 131221: 2488,\n",
       " 131222: 3,\n",
       " 98456: 29,\n",
       " 155: 74,\n",
       " 157: 19,\n",
       " 98463: 12,\n",
       " 131234: 940,\n",
       " 164: 506,\n",
       " 131237: 11,\n",
       " 98471: 61,\n",
       " 172: 23,\n",
       " 98477: 14,\n",
       " 65713: 2256,\n",
       " 178: 214,\n",
       " 179: 0,\n",
       " 65718: 111,\n",
       " 65719: 28,\n",
       " 184: 11,\n",
       " 65723: 41,\n",
       " 189: 42,\n",
       " 131263: 72,\n",
       " 131266: 439,\n",
       " 131272: 198,\n",
       " 131273: 6,\n",
       " 98506: 491,\n",
       " 131279: 338,\n",
       " 98511: 63,\n",
       " 98512: 10,\n",
       " 131281: 29,\n",
       " 65751: 107,\n",
       " 65753: 380,\n",
       " 131292: 448,\n",
       " 98529: 262,\n",
       " 65763: 53,\n",
       " 98532: 236,\n",
       " 229: 972,\n",
       " 131302: 14,\n",
       " 131303: 10,\n",
       " 98536: 4,\n",
       " 231: 0,\n",
       " 98540: 19,\n",
       " 131309: 42,\n",
       " 98541: 406,\n",
       " 98545: 378,\n",
       " 242: 3,\n",
       " 131315: 856,\n",
       " 131320: 489,\n",
       " 131322: 6,\n",
       " 131323: 1,\n",
       " 131324: 15,\n",
       " 131326: 3,\n",
       " 131329: 107,\n",
       " 65794: 20,\n",
       " 131330: 1,\n",
       " 65796: 6,\n",
       " 65795: 10,\n",
       " 65798: 6,\n",
       " 65799: 231,\n",
       " 65800: 3,\n",
       " 65801: 666,\n",
       " 98571: 956,\n",
       " 131342: 9,\n",
       " 33040: 2759,\n",
       " 131344: 3,\n",
       " 33042: 8,\n",
       " 276: 54,\n",
       " 277: 0,\n",
       " 278: 36,\n",
       " 65814: 133,\n",
       " 131352: 67,\n",
       " 65817: 11,\n",
       " 98586: 451,\n",
       " 283: 21,\n",
       " 284: 3,\n",
       " 33053: 2115,\n",
       " 98590: 136,\n",
       " 65822: 1727,\n",
       " 98589: 78,\n",
       " 98588: 0,\n",
       " 65818: 28,\n",
       " 291: 196,\n",
       " 289: 462,\n",
       " 293: 1035,\n",
       " 65829: 215,\n",
       " 131361: 50,\n",
       " 296: 45,\n",
       " 294: 3,\n",
       " 131370: 9,\n",
       " 131371: 1,\n",
       " 33068: 210,\n",
       " 295: 66,\n",
       " 65838: 11,\n",
       " 302: 10,\n",
       " 304: 136,\n",
       " 65841: 10,\n",
       " 131375: 3,\n",
       " 131376: 21,\n",
       " 131373: 6,\n",
       " 303: 0,\n",
       " 310: 10,\n",
       " 131385: 221,\n",
       " 98621: 822,\n",
       " 131389: 29,\n",
       " 131391: 1898,\n",
       " 319: 205,\n",
       " 321: 0,\n",
       " 320: 6,\n",
       " 131396: 277,\n",
       " 98629: 30,\n",
       " 131398: 21,\n",
       " 33095: 122,\n",
       " 98631: 924,\n",
       " 131400: 28,\n",
       " 131402: 3,\n",
       " 98635: 5,\n",
       " 98636: 66,\n",
       " 98637: 990,\n",
       " 334: 6,\n",
       " 98639: 215,\n",
       " 333: 18,\n",
       " 131409: 567,\n",
       " 33099: 10,\n",
       " 335: 0,\n",
       " 33108: 109,\n",
       " 33109: 55,\n",
       " 131414: 0,\n",
       " 98643: 12,\n",
       " 98645: 1,\n",
       " 98647: 168,\n",
       " 346: 21,\n",
       " 342: 14,\n",
       " 98651: 1,\n",
       " 349: 122,\n",
       " 98654: 4,\n",
       " 350: 1,\n",
       " 352: 48,\n",
       " 65889: 565,\n",
       " 353: 36,\n",
       " 357: 172,\n",
       " 33126: 151,\n",
       " 65895: 22,\n",
       " 33127: 45,\n",
       " 33131: 0,\n",
       " 33132: 3,\n",
       " 33135: 9,\n",
       " 33139: 1389,\n",
       " 33141: 14,\n",
       " 131451: 348,\n",
       " 384: 284,\n",
       " 33152: 4,\n",
       " 386: 1485,\n",
       " 385: 66,\n",
       " 65927: 391,\n",
       " 65928: 1,\n",
       " 98698: 427,\n",
       " 131468: 127,\n",
       " 131469: 10,\n",
       " 131470: 6,\n",
       " 131471: 66,\n",
       " 131472: 1,\n",
       " 65937: 184,\n",
       " 65938: 190,\n",
       " 65939: 120,\n",
       " 98709: 5,\n",
       " 98712: 32,\n",
       " 98714: 12,\n",
       " 411: 40,\n",
       " 65947: 26,\n",
       " 33181: 238,\n",
       " 65949: 143,\n",
       " 98721: 4,\n",
       " 418: 27,\n",
       " 131491: 83,\n",
       " 420: 299,\n",
       " 98725: 378,\n",
       " 33189: 104,\n",
       " 423: 6,\n",
       " 421: 1,\n",
       " 425: 3,\n",
       " 33190: 1,\n",
       " 98731: 30,\n",
       " 131493: 28,\n",
       " 98724: 12,\n",
       " 427: 3,\n",
       " 98735: 10,\n",
       " 98736: 1,\n",
       " 131496: 447,\n",
       " 33202: 57,\n",
       " 33203: 0,\n",
       " 98732: 15,\n",
       " 33205: 3,\n",
       " 65977: 188,\n",
       " 65978: 15,\n",
       " 65980: 6,\n",
       " 65982: 62,\n",
       " 131519: 77,\n",
       " 65983: 6,\n",
       " 65984: 21,\n",
       " 131520: 15,\n",
       " 65986: 10,\n",
       " 98756: 23,\n",
       " 65989: 256,\n",
       " 131525: 15,\n",
       " 98759: 115,\n",
       " 33224: 6,\n",
       " 98761: 54,\n",
       " 131527: 6,\n",
       " 131523: 15,\n",
       " 461: 2019,\n",
       " 98765: 162,\n",
       " 463: 861,\n",
       " 131534: 13,\n",
       " 465: 738,\n",
       " 98770: 40,\n",
       " 98771: 120,\n",
       " 131536: 6,\n",
       " 131541: 62,\n",
       " 66006: 540,\n",
       " 131542: 6,\n",
       " 98776: 31,\n",
       " 98777: 21,\n",
       " 66010: 169,\n",
       " 98772: 21,\n",
       " 98780: 22,\n",
       " 131544: 7,\n",
       " 66018: 226,\n",
       " 66022: 8,\n",
       " 66023: 21,\n",
       " 492: 418,\n",
       " 131565: 396,\n",
       " 494: 826,\n",
       " 496: 7,\n",
       " 66033: 5,\n",
       " 497: 1,\n",
       " 498: 0,\n",
       " 66036: 1078,\n",
       " 501: 0,\n",
       " 503: 804,\n",
       " 66039: 0,\n",
       " 131575: 378,\n",
       " 66040: 21,\n",
       " 507: 6,\n",
       " 508: 78,\n",
       " 506: 2,\n",
       " 131587: 23,\n",
       " 131588: 153,\n",
       " 131589: 21,\n",
       " 518: 21,\n",
       " 517: 44,\n",
       " 131592: 820,\n",
       " 131593: 66,\n",
       " 66058: 209,\n",
       " 131591: 1,\n",
       " 131596: 3,\n",
       " 66061: 0,\n",
       " 131594: 6,\n",
       " 66059: 1,\n",
       " 529: 1426,\n",
       " 530: 10,\n",
       " 33302: 369,\n",
       " 535: 1556,\n",
       " 66075: 9,\n",
       " 542: 364,\n",
       " 66079: 4,\n",
       " 543: 3,\n",
       " 66082: 99,\n",
       " 98853: 111,\n",
       " 66086: 7,\n",
       " 555: 440,\n",
       " 560: 3,\n",
       " 98865: 82,\n",
       " 66098: 15,\n",
       " 561: 1,\n",
       " 66100: 17,\n",
       " 566: 11,\n",
       " 98871: 49,\n",
       " 131639: 55,\n",
       " 98872: 6,\n",
       " 98873: 3,\n",
       " 569: 231,\n",
       " 572: 15,\n",
       " 573: 91,\n",
       " 568: 1,\n",
       " 131647: 133,\n",
       " 131649: 6,\n",
       " 131650: 3,\n",
       " 131651: 1,\n",
       " 577: 6,\n",
       " 131654: 158,\n",
       " 33351: 1806,\n",
       " 98896: 800,\n",
       " 33362: 971,\n",
       " 33364: 1128,\n",
       " 598: 370,\n",
       " 33367: 214,\n",
       " 599: 253,\n",
       " 603: 55,\n",
       " 604: 3,\n",
       " 33380: 12,\n",
       " 66157: 606,\n",
       " 98926: 71,\n",
       " 623: 39,\n",
       " 66158: 3,\n",
       " 66160: 3,\n",
       " 98933: 477,\n",
       " 131704: 1718,\n",
       " 33400: 60,\n",
       " 33401: 3,\n",
       " 635: 28,\n",
       " 98940: 31,\n",
       " 636: 0,\n",
       " 98941: 136,\n",
       " 33402: 91,\n",
       " 98944: 8,\n",
       " 640: 48,\n",
       " 131713: 24,\n",
       " 642: 153,\n",
       " 98948: 6,\n",
       " 645: 407,\n",
       " 98949: 91,\n",
       " 98951: 1035,\n",
       " 131717: 993,\n",
       " 646: 3,\n",
       " 98954: 8,\n",
       " 98947: 0,\n",
       " 98956: 9,\n",
       " 98952: 6,\n",
       " 654: 54,\n",
       " 655: 3,\n",
       " 98957: 3,\n",
       " 98961: 1,\n",
       " 98962: 406,\n",
       " 33428: 341,\n",
       " 33429: 15,\n",
       " 661: 5,\n",
       " 33431: 6,\n",
       " 66200: 73,\n",
       " 131737: 99,\n",
       " 98970: 177,\n",
       " 665: 8,\n",
       " 33430: 0,\n",
       " 131741: 4,\n",
       " 131742: 6,\n",
       " 66205: 1062,\n",
       " 98980: 194,\n",
       " 98981: 66,\n",
       " 98983: 4,\n",
       " 680: 21,\n",
       " 33448: 55,\n",
       " 66222: 180,\n",
       " 66232: 326,\n",
       " 66233: 3,\n",
       " 66234: 105,\n",
       " 66241: 4,\n",
       " 66245: 10,\n",
       " 99023: 1835,\n",
       " 99024: 10,\n",
       " 66256: 138,\n",
       " 722: 1238,\n",
       " 99028: 188,\n",
       " 99029: 78,\n",
       " 725: 0,\n",
       " 99031: 10,\n",
       " 728: 3,\n",
       " 729: 6,\n",
       " 730: 10,\n",
       " 66267: 28,\n",
       " 33500: 2584,\n",
       " 33504: 5,\n",
       " 66274: 44,\n",
       " 33507: 3,\n",
       " 131813: 3795,\n",
       " 131814: 1,\n",
       " 33509: 3,\n",
       " 33513: 3,\n",
       " 746: 2,\n",
       " 747: 45,\n",
       " 748: 0,\n",
       " 749: 630,\n",
       " 751: 1,\n",
       " 754: 10,\n",
       " 33526: 533,\n",
       " 762: 1,\n",
       " 131835: 113,\n",
       " 33532: 64,\n",
       " 66300: 52,\n",
       " 766: 141,\n",
       " 764: 1,\n",
       " 131840: 54,\n",
       " 768: 2,\n",
       " 131843: 130,\n",
       " 772: 12,\n",
       " 66309: 47,\n",
       " 773: 28,\n",
       " 66311: 465,\n",
       " 66310: 406,\n",
       " 131849: 114,\n",
       " 131850: 0,\n",
       " 99086: 1868,\n",
       " 782: 95,\n",
       " 784: 1378,\n",
       " 131856: 10,\n",
       " 131855: 3,\n",
       " 783: 3,\n",
       " 131860: 0,\n",
       " 131861: 0,\n",
       " 789: 53,\n",
       " 790: 10,\n",
       " 791: 3,\n",
       " 131857: 406,\n",
       " 131866: 2055,\n",
       " 131869: 13,\n",
       " 99104: 3003,\n",
       " 66336: 376,\n",
       " 99105: 15,\n",
       " 99107: 46,\n",
       " 811: 490,\n",
       " 812: 378,\n",
       " 813: 10,\n",
       " 66350: 33,\n",
       " 815: 122,\n",
       " 816: 45,\n",
       " 66351: 0,\n",
       " 66356: 3,\n",
       " 99126: 126,\n",
       " 822: 1403,\n",
       " 824: 439,\n",
       " 99129: 267,\n",
       " 33593: 343,\n",
       " 99131: 105,\n",
       " 66367: 814,\n",
       " 66368: 528,\n",
       " 66369: 10,\n",
       " 33604: 59,\n",
       " 837: 2379,\n",
       " 839: 180,\n",
       " 99144: 104,\n",
       " 33609: 3,\n",
       " 131914: 94,\n",
       " 843: 15,\n",
       " 33610: 1,\n",
       " 33615: 148,\n",
       " 66396: 744,\n",
       " 99165: 203,\n",
       " 66401: 1019,\n",
       " 99170: 9,\n",
       " 33635: 411,\n",
       " 867: 9,\n",
       " 131940: 130,\n",
       " 33636: 6,\n",
       " 871: 607,\n",
       " 872: 10,\n",
       " 99177: 6,\n",
       " 99178: 351,\n",
       " 874: 15,\n",
       " 99180: 0,\n",
       " 66413: 109,\n",
       " 99179: 1,\n",
       " 33641: 444,\n",
       " 33643: 6,\n",
       " 33650: 3,\n",
       " 884: 262,\n",
       " 887: 3,\n",
       " 99193: 297,\n",
       " 66426: 368,\n",
       " 889: 0,\n",
       " 33659: 36,\n",
       " 891: 6,\n",
       " 66430: 381,\n",
       " 895: 34,\n",
       " 66428: 319,\n",
       " 33657: 16,\n",
       " 131967: 16,\n",
       " 896: 6,\n",
       " 898: 15,\n",
       " 897: 0,\n",
       " 66438: 23,\n",
       " 131975: 76,\n",
       " 904: 11,\n",
       " 66439: 3,\n",
       " 99211: 323,\n",
       " 131980: 91,\n",
       " 131981: 10,\n",
       " 131982: 1,\n",
       " 131979: 253,\n",
       " 66448: 11,\n",
       " 131986: 162,\n",
       " 99219: 36,\n",
       " 916: 1493,\n",
       " 131988: 45,\n",
       " 66454: 19,\n",
       " 66451: 163,\n",
       " 66456: 7,\n",
       " 131993: 484,\n",
       " 131987: 153,\n",
       " 66459: 36,\n",
       " 33692: 25,\n",
       " 66461: 9,\n",
       " 99230: 8,\n",
       " 33686: 4,\n",
       " 66464: 21,\n",
       " 66465: 3,\n",
       " 66469: 45,\n",
       " 99239: 2134,\n",
       " 99240: 28,\n",
       " 99242: 2,\n",
       " 33709: 1613,\n",
       " 99251: 75,\n",
       " 132020: 491,\n",
       " 132021: 3,\n",
       " 99254: 1251,\n",
       " 132023: 1,\n",
       " 132024: 0,\n",
       " 99258: 6,\n",
       " 99259: 1,\n",
       " 99260: 3,\n",
       " 99263: 124,\n",
       " 66502: 1076,\n",
       " 132043: 32,\n",
       " 66511: 516,\n",
       " 66514: 1035,\n",
       " 66515: 6,\n",
       " 66518: 25,\n",
       " 33751: 23,\n",
       " 33752: 0,\n",
       " 33753: 10,\n",
       " 66522: 409,\n",
       " 33757: 28,\n",
       " 66526: 351,\n",
       " 66525: 712,\n",
       " 66527: 630,\n",
       " 33760: 15,\n",
       " 33759: 168,\n",
       " 33763: 293,\n",
       " 66535: 352,\n",
       " 66538: 12,\n",
       " 132075: 625,\n",
       " 66539: 0,\n",
       " 132076: 1,\n",
       " 132077: 3,\n",
       " 66544: 34,\n",
       " 33777: 13,\n",
       " 33778: 231,\n",
       " 33779: 351,\n",
       " 33781: 60,\n",
       " 66553: 933,\n",
       " 66555: 1,\n",
       " 99324: 1525,\n",
       " 99327: 56,\n",
       " 99332: 28,\n",
       " 33797: 64,\n",
       " 33798: 120,\n",
       " 132104: 57,\n",
       " 132105: 10,\n",
       " 132106: 0,\n",
       " 33805: 935,\n",
       " 99347: 2106,\n",
       " 99348: 820,\n",
       " 99349: 28,\n",
       " 132121: 35,\n",
       " 99359: 16,\n",
       " 99361: 1485,\n",
       " 33830: 370,\n",
       " 33832: 1,\n",
       " 33833: 55,\n",
       " 99370: 310,\n",
       " 66602: 13,\n",
       " 66605: 1,\n",
       " 99374: 2365,\n",
       " 66607: 23,\n",
       " 33840: 1371,\n",
       " 66608: 15,\n",
       " 99386: 8,\n",
       " 33851: 8,\n",
       " 1086: 3006,\n",
       " 33855: 10,\n",
       " 33854: 7,\n",
       " 1095: 4,\n",
       " 66632: 62,\n",
       " 66633: 1,\n",
       " 66634: 105,\n",
       " 1099: 6,\n",
       " 66636: 121,\n",
       " 132173: 375,\n",
       " 66638: 15,\n",
       " 1102: 15,\n",
       " 66637: 21,\n",
       " 1105: 6,\n",
       " 1112: 1,\n",
       " 132185: 115,\n",
       " 33883: 362,\n",
       " 1116: 12,\n",
       " 33885: 253,\n",
       " 33886: 10,\n",
       " 1119: 1,\n",
       " 1120: 0,\n",
       " 1121: 15,\n",
       " 33884: 3,\n",
       " 33887: 1,\n",
       " 1122: 6,\n",
       " 1123: 1,\n",
       " 99431: 862,\n",
       " 99432: 6,\n",
       " 1127: 5,\n",
       " 1128: 3,\n",
       " 132206: 646,\n",
       " 1134: 69,\n",
       " 33908: 876,\n",
       " 33909: 1,\n",
       " 99449: 328,\n",
       " 66682: 368,\n",
       " 66683: 15,\n",
       " 99450: 0,\n",
       " 132221: 55,\n",
       " 132217: 79,\n",
       " 99455: 465,\n",
       " 99456: 351,\n",
       " 66685: 105,\n",
       " 66690: 7,\n",
       " 1155: 2522,\n",
       " 99454: 146,\n",
       " 33925: 279,\n",
       " 99462: 23,\n",
       " 33926: 6,\n",
       " 132226: 1133,\n",
       " 33921: 48,\n",
       " 1158: 190,\n",
       " 66698: 281,\n",
       " 99466: 25,\n",
       " 99469: 78,\n",
       " 99467: 10,\n",
       " 33932: 80,\n",
       " 1163: 5,\n",
       " 99470: 28,\n",
       " 99472: 27,\n",
       " 99468: 0,\n",
       " 99474: 18,\n",
       " 66707: 199,\n",
       " 132244: 158,\n",
       " 66709: 3,\n",
       " 99476: 3,\n",
       " 66711: 15,\n",
       " 33941: 18,\n",
       " 99481: 30,\n",
       " 99482: 45,\n",
       " 1178: 192,\n",
       " 132247: 3,\n",
       " 33943: 11,\n",
       " 33945: 10,\n",
       " 33944: 1,\n",
       " 1186: 1043,\n",
       " 1187: 3,\n",
       " 66724: 457,\n",
       " 1188: 28,\n",
       " 66725: 0,\n",
       " 66727: 10,\n",
       " 66728: 630,\n",
       " 66726: 6,\n",
       " 66730: 45,\n",
       " 99499: 6,\n",
       " 99500: 10,\n",
       " 66733: 480,\n",
       " 66734: 21,\n",
       " 99504: 15,\n",
       " 99505: 28,\n",
       " 66740: 1842,\n",
       " 33973: 3383,\n",
       " 66741: 36,\n",
       " 132282: 122,\n",
       " 99514: 102,\n",
       " 132284: 21,\n",
       " 132285: 1,\n",
       " 66750: 81,\n",
       " 33983: 1798,\n",
       " 99520: 512,\n",
       " 132286: 435,\n",
       " 1217: 36,\n",
       " 1218: 3,\n",
       " 66756: 206,\n",
       " 66757: 1,\n",
       " 99521: 10,\n",
       " 132295: 112,\n",
       " 1216: 17,\n",
       " 66761: 1,\n",
       " 33985: 21,\n",
       " 66760: 2,\n",
       " 66766: 14,\n",
       " 1231: 559,\n",
       " 66768: 171,\n",
       " 66767: 78,\n",
       " 66769: 136,\n",
       " 99539: 1579,\n",
       " 1235: 257,\n",
       " 66770: 3,\n",
       " 1239: 3,\n",
       " 132312: 181,\n",
       " 34009: 677,\n",
       " 132313: 6,\n",
       " 1240: 15,\n",
       " 99548: 238,\n",
       " 34013: 10,\n",
       " 132316: 1,\n",
       " 34011: 637,\n",
       " 1250: 133,\n",
       " 34018: 5,\n",
       " 34021: 34,\n",
       " 66791: 208,\n",
       " 1255: 268,\n",
       " 34023: 20,\n",
       " 99562: 15,\n",
       " 99561: 49,\n",
       " 99566: 4,\n",
       " 99568: 70,\n",
       " 34033: 1,\n",
       " 34032: 12,\n",
       " 66803: 86,\n",
       " 1267: 2,\n",
       " 99570: 0,\n",
       " 132342: 63,\n",
       " 99575: 10,\n",
       " 99572: 0,\n",
       " 132347: 10,\n",
       " 34051: 39,\n",
       " 66826: 1406,\n",
       " 132364: 15,\n",
       " 132368: 41,\n",
       " 99601: 226,\n",
       " 34066: 1822,\n",
       " 132369: 6,\n",
       " 34067: 0,\n",
       " 132373: 4,\n",
       " 132374: 3,\n",
       " 132376: 210,\n",
       " 66840: 1660,\n",
       " 34072: 2,\n",
       " 132380: 1,\n",
       " 99613: 32,\n",
       " 99617: 6,\n",
       " 132387: 26,\n",
       " 34085: 84,\n",
       " 99621: 1,\n",
       " 132390: 16,\n",
       " 99622: 1,\n",
       " 34090: 623,\n",
       " 99627: 0,\n",
       " 1324: 3217,\n",
       " 34097: 285,\n",
       " 99634: 91,\n",
       " 34101: 2,\n",
       " 1334: 484,\n",
       " 66875: 91,\n",
       " 1339: 18,\n",
       " 1341: 31,\n",
       " 34110: 791,\n",
       " 34111: 3,\n",
       " 66880: 87,\n",
       " 34107: 17,\n",
       " 66882: 3,\n",
       " 66883: 3,\n",
       " 34114: 1,\n",
       " 1351: 124,\n",
       " 1356: 580,\n",
       " 34124: 8,\n",
       " 34127: 49,\n",
       " 1366: 77,\n",
       " 1367: 10,\n",
       " 1368: 15,\n",
       " 1369: 0,\n",
       " 1370: 45,\n",
       " 1372: 7,\n",
       " 132445: 1246,\n",
       " 1374: 6,\n",
       " 132447: 1,\n",
       " 99690: 458,\n",
       " 132469: 272,\n",
       " 1399: 648,\n",
       " 1400: 0,\n",
       " 66946: 380,\n",
       " 1411: 20,\n",
       " 66947: 91,\n",
       " 99717: 1034,\n",
       " 99718: 990,\n",
       " 1418: 6,\n",
       " 132492: 1480,\n",
       " 34200: 1028,\n",
       " 1436: 119,\n",
       " 99741: 372,\n",
       " 34206: 3,\n",
       " 34207: 6,\n",
       " 34205: 1,\n",
       " 1439: 6,\n",
       " 1444: 35,\n",
       " 1446: 1,\n",
       " 34218: 23,\n",
       " 99755: 96,\n",
       " 1451: 5,\n",
       " 132525: 389,\n",
       " 1453: 7,\n",
       " 132527: 7,\n",
       " 132528: 3,\n",
       " 1456: 15,\n",
       " 34226: 15,\n",
       " 66995: 1272,\n",
       " 66996: 0,\n",
       " 99765: 40,\n",
       " 1458: 3,\n",
       " 34231: 9,\n",
       " 132535: 20,\n",
       " 1461: 12,\n",
       " 1466: 1,\n",
       " 99774: 3,\n",
       " 1482: 265,\n",
       " 99793: 54,\n",
       " 99798: 18,\n",
       " 67032: 458,\n",
       " 34265: 1056,\n",
       " 34266: 171,\n",
       " 99801: 207,\n",
       " 1500: 212,\n",
       " 1501: 6,\n",
       " 67034: 28,\n",
       " 34270: 26,\n",
       " 132576: 53,\n",
       " 99802: 0,\n",
       " 34267: 3,\n",
       " 1507: 6,\n",
       " 298: 3,\n",
       " 1509: 0,\n",
       " 1510: 6,\n",
       " 1513: 28,\n",
       " 1516: 21,\n",
       " 132589: 119,\n",
       " 1518: 33,\n",
       " 1519: 136,\n",
       " 99825: 1804,\n",
       " 132594: 991,\n",
       " 67060: 327,\n",
       " 132599: 12,\n",
       " 67064: 6,\n",
       " 99833: 17,\n",
       " 67068: 0,\n",
       " 99841: 36,\n",
       " 132614: 172,\n",
       " 132615: 1,\n",
       " 132617: 3,\n",
       " 132619: 11,\n",
       " 132620: 0,\n",
       " 132621: 10,\n",
       " 132623: 35,\n",
       " 34319: 438,\n",
       " 67090: 1057,\n",
       " 1556: 191,\n",
       " 132629: 108,\n",
       " 132630: 231,\n",
       " 1558: 15,\n",
       " 1559: 1,\n",
       " 132633: 10,\n",
       " 132631: 21,\n",
       " 132632: 0,\n",
       " 34332: 51,\n",
       " 34333: 28,\n",
       " 99870: 1409,\n",
       " 99874: 7,\n",
       " 34340: 223,\n",
       " 67108: 82,\n",
       " 99877: 602,\n",
       " 67109: 1,\n",
       " 1575: 155,\n",
       " 99878: 3,\n",
       " 99882: 1,\n",
       " 99879: 28,\n",
       " 99883: 15,\n",
       " 1582: 95,\n",
       " 67122: 305,\n",
       " 67123: 6,\n",
       " 1589: 80,\n",
       " 67126: 11,\n",
       " 132663: 1207,\n",
       " 67127: 6,\n",
       " 99898: 22,\n",
       " 132669: 14,\n",
       " 67134: 47,\n",
       " 67135: 6,\n",
       " 67137: 1,\n",
       " 1602: 75,\n",
       " 67139: 153,\n",
       " 1604: 3,\n",
       " 99908: 114,\n",
       " 67141: 5,\n",
       " 132679: 1174,\n",
       " 67143: 0,\n",
       " 132680: 1,\n",
       " 67147: 150,\n",
       " 99916: 9,\n",
       " 67148: 10,\n",
       " 34387: 1622,\n",
       " 132692: 6,\n",
       " 67157: 98,\n",
       " 67158: 6,\n",
       " 34391: 9,\n",
       " 132693: 6,\n",
       " 1625: 482,\n",
       " 99930: 43,\n",
       " 67163: 42,\n",
       " 99923: 1,\n",
       " 132697: 6,\n",
       " ...}"
      ]
     },
     "execution_count": 17,
     "metadata": {},
     "output_type": "execute_result"
    }
   ],
   "source": [
    "nx.triangles(H)"
   ]
  },
  {
   "cell_type": "markdown",
   "metadata": {},
   "source": [
    "How many triangles are there in the whole network?"
   ]
  },
  {
   "cell_type": "code",
   "execution_count": 18,
   "metadata": {},
   "outputs": [],
   "source": [
    "tt=sum(list(nx.triangles(H).values()))"
   ]
  },
  {
   "cell_type": "code",
   "execution_count": 19,
   "metadata": {},
   "outputs": [
    {
     "data": {
      "text/plain": [
       "1350014.0"
      ]
     },
     "execution_count": 19,
     "metadata": {},
     "output_type": "execute_result"
    }
   ],
   "source": [
    "tt/3"
   ]
  },
  {
   "cell_type": "markdown",
   "metadata": {},
   "source": [
    "The transitivity is the fraction of all possible triangles in the network."
   ]
  },
  {
   "cell_type": "code",
   "execution_count": 20,
   "metadata": {},
   "outputs": [
    {
     "data": {
      "text/plain": [
       "0.31777791273391154"
      ]
     },
     "execution_count": 20,
     "metadata": {},
     "output_type": "execute_result"
    }
   ],
   "source": [
    "nx.transitivity(H)"
   ]
  },
  {
   "cell_type": "markdown",
   "metadata": {},
   "source": [
    "## Average clustering coefficient\n",
    "As an alternative to the global clustering coefficient, the overall level of clustering in a network is measured by Watts and Strogatz as the average of the local clustering coefficients of all the vertices $n$:\n",
    "\n",
    "<center>\n",
    "$\\bar{C} = \\frac{1}{n}\\sum_{i=1}^{n} C_i.$\n",
    "</center>\n",
    "\n",
    "It is worth noting that this metric places more weight on the low degree nodes, while the transitivity ratio places more weight on the high degree nodes. In fact, a weighted average where each local clustering score is weighted by $k_i(k_i-1)$ is identical to the global clustering coefficient."
   ]
  },
  {
   "cell_type": "code",
   "execution_count": 21,
   "metadata": {},
   "outputs": [
    {
     "name": "stdout",
     "output_type": "stream",
     "text": [
      "The average clustering coefficient of H is\n"
     ]
    },
    {
     "data": {
      "text/plain": [
       "0.6328232091518615"
      ]
     },
     "execution_count": 21,
     "metadata": {},
     "output_type": "execute_result"
    }
   ],
   "source": [
    "print(\"The average clustering coefficient of H is\")\n",
    "nx.average_clustering(H)"
   ]
  },
  {
   "cell_type": "markdown",
   "metadata": {},
   "source": [
    "## Average sorthest path length\n",
    "#### Warning! Calculating the shortest paths is intensive! "
   ]
  },
  {
   "cell_type": "markdown",
   "metadata": {},
   "source": [
    "The graph is small world."
   ]
  },
  {
   "cell_type": "code",
   "execution_count": 22,
   "metadata": {},
   "outputs": [
    {
     "data": {
      "text/plain": [
       "4.194011768617203"
      ]
     },
     "execution_count": 22,
     "metadata": {},
     "output_type": "execute_result"
    }
   ],
   "source": [
    "nx.average_shortest_path_length(H)"
   ]
  },
  {
   "cell_type": "code",
   "execution_count": 23,
   "metadata": {},
   "outputs": [
    {
     "data": {
      "text/plain": [
       "9.792723575551273"
      ]
     },
     "execution_count": 23,
     "metadata": {},
     "output_type": "execute_result"
    }
   ],
   "source": [
    "math.log(len(H))"
   ]
  },
  {
   "cell_type": "markdown",
   "metadata": {},
   "source": [
    "### Compare the results with a random ER network"
   ]
  },
  {
   "cell_type": "markdown",
   "metadata": {},
   "source": [
    "We generate a random Erdos-Renyi graph with same average connectivity of H, i.e. same number of nodes and edges."
   ]
  },
  {
   "cell_type": "code",
   "execution_count": 22,
   "metadata": {
    "collapsed": true,
    "jupyter": {
     "outputs_hidden": true
    }
   },
   "outputs": [],
   "source": [
    "nnodes=18000\n",
    "plink=0.00122\n",
    "\n",
    "ER=nx.fast_gnp_random_graph(nnodes, plink)"
   ]
  },
  {
   "cell_type": "code",
   "execution_count": 23,
   "metadata": {},
   "outputs": [
    {
     "data": {
      "text/plain": [
       "True"
      ]
     },
     "execution_count": 23,
     "metadata": {},
     "output_type": "execute_result"
    }
   ],
   "source": [
    "nx.is_connected(ER)"
   ]
  },
  {
   "cell_type": "code",
   "execution_count": 24,
   "metadata": {},
   "outputs": [
    {
     "name": "stdout",
     "output_type": "stream",
     "text": [
      "The ER graph has 18000 nodes\n",
      "and 197137 edges\n"
     ]
    }
   ],
   "source": [
    "print(\"The ER graph has\", len(ER), \"nodes\")\n",
    "print(\"and\",len(ER.edges()),\"edges\")"
   ]
  },
  {
   "cell_type": "code",
   "execution_count": 25,
   "metadata": {},
   "outputs": [
    {
     "name": "stdout",
     "output_type": "stream",
     "text": [
      "The average clustering coefficient of ER is\n"
     ]
    },
    {
     "data": {
      "text/plain": [
       "0.0012189808934050456"
      ]
     },
     "execution_count": 25,
     "metadata": {},
     "output_type": "execute_result"
    }
   ],
   "source": [
    "print(\"The average clustering coefficient of ER is\")\n",
    "nx.average_clustering(ER)"
   ]
  },
  {
   "cell_type": "code",
   "execution_count": 26,
   "metadata": {},
   "outputs": [
    {
     "name": "stdout",
     "output_type": "stream",
     "text": [
      "1755.0\n"
     ]
    }
   ],
   "source": [
    "print(sum(list(nx.triangles(ER).values()))/3)"
   ]
  },
  {
   "cell_type": "markdown",
   "metadata": {},
   "source": [
    "The ER graph is also small world!"
   ]
  },
  {
   "cell_type": "code",
   "execution_count": 29,
   "metadata": {},
   "outputs": [
    {
     "data": {
      "text/plain": [
       "3.5227083973801014"
      ]
     },
     "execution_count": 29,
     "metadata": {},
     "output_type": "execute_result"
    }
   ],
   "source": [
    "nx.average_shortest_path_length(ER)"
   ]
  },
  {
   "cell_type": "markdown",
   "metadata": {},
   "source": [
    "### Compare the results with a random AB network"
   ]
  },
  {
   "cell_type": "code",
   "execution_count": 27,
   "metadata": {
    "collapsed": true,
    "jupyter": {
     "outputs_hidden": true
    }
   },
   "outputs": [],
   "source": [
    "AB=nx.barabasi_albert_graph(18000,11)"
   ]
  },
  {
   "cell_type": "code",
   "execution_count": 28,
   "metadata": {},
   "outputs": [
    {
     "name": "stdout",
     "output_type": "stream",
     "text": [
      "The AB graph has 18000 nodes\n",
      "and 197879 edges\n"
     ]
    }
   ],
   "source": [
    "print(\"The AB graph has\", len(AB), \"nodes\")\n",
    "print(\"and\",len(AB.edges()),\"edges\")"
   ]
  },
  {
   "cell_type": "code",
   "execution_count": 29,
   "metadata": {
    "collapsed": true,
    "jupyter": {
     "outputs_hidden": true
    }
   },
   "outputs": [],
   "source": [
    "from collections import Counter \n",
    "degrees=dict(AB.degree()).values()\n",
    "c=Counter(degrees)"
   ]
  },
  {
   "cell_type": "code",
   "execution_count": 30,
   "metadata": {
    "collapsed": true,
    "jupyter": {
     "outputs_hidden": true
    }
   },
   "outputs": [],
   "source": [
    "import powerlaw as pwl"
   ]
  },
  {
   "cell_type": "code",
   "execution_count": 31,
   "metadata": {},
   "outputs": [
    {
     "data": {
      "image/png": "[encoded data removed]",
      "text/plain": [
       "<Figure size 720x504 with 1 Axes>"
      ]
     },
     "metadata": {},
     "output_type": "display_data"
    }
   ],
   "source": [
    "plt.figure(figsize=(10,7))\n",
    "x=[]\n",
    "y=[]\n",
    "for i in sorted(c):   \n",
    "    x.append(i)\n",
    "    y.append(float(c[i])/len(AB))\n",
    "\n",
    "    \n",
    "plt.plot(np.array(x),np.array(y))\n",
    "pwl.plot_pdf(list(degrees))\n",
    "\n",
    "plt.xlabel('$k$', fontsize=18)\n",
    "plt.ylabel('$P(k)$', fontsize=18)\n",
    "plt.xticks(fontsize=14)\n",
    "plt.yticks(fontsize=14)\n",
    "plt.yscale('log')\n",
    "plt.xscale('log')\n",
    "plt.axis([10,1000,0.0000001,1])\n",
    "plt.show()"
   ]
  },
  {
   "cell_type": "code",
   "execution_count": 32,
   "metadata": {
    "collapsed": true,
    "jupyter": {
     "outputs_hidden": true
    }
   },
   "outputs": [
    {
     "name": "stderr",
     "output_type": "stream",
     "text": [
      "/anaconda/envs/py36/lib/python3.6/site-packages/powerlaw.py:697: RuntimeWarning: invalid value encountered in true_divide\n",
      "  (Theoretical_CDF * (1 - Theoretical_CDF))\n"
     ]
    }
   ],
   "source": [
    "fit_function = pwl.Fit(list(degrees), xmin=11)"
   ]
  },
  {
   "cell_type": "code",
   "execution_count": 33,
   "metadata": {},
   "outputs": [
    {
     "name": "stderr",
     "output_type": "stream",
     "text": [
      "/anaconda/envs/py36/lib/python3.6/site-packages/powerlaw.py:697: RuntimeWarning: invalid value encountered in true_divide\n",
      "  (Theoretical_CDF * (1 - Theoretical_CDF))\n"
     ]
    },
    {
     "data": {
      "text/plain": [
       "3.0530240816774117"
      ]
     },
     "execution_count": 33,
     "metadata": {},
     "output_type": "execute_result"
    }
   ],
   "source": [
    "fit_function.power_law.alpha"
   ]
  },
  {
   "cell_type": "code",
   "execution_count": 34,
   "metadata": {},
   "outputs": [
    {
     "data": {
      "text/plain": [
       "0.015302338020249244"
      ]
     },
     "execution_count": 34,
     "metadata": {},
     "output_type": "execute_result"
    }
   ],
   "source": [
    "fit_function.power_law.sigma"
   ]
  },
  {
   "cell_type": "code",
   "execution_count": 35,
   "metadata": {},
   "outputs": [
    {
     "data": {
      "text/plain": [
       "11.0"
      ]
     },
     "execution_count": 35,
     "metadata": {},
     "output_type": "execute_result"
    }
   ],
   "source": [
    "fit_function.power_law.xmin"
   ]
  },
  {
   "cell_type": "code",
   "execution_count": 36,
   "metadata": {},
   "outputs": [
    {
     "name": "stdout",
     "output_type": "stream",
     "text": [
      "The average clustering coefficient of AB is\n"
     ]
    },
    {
     "data": {
      "text/plain": [
       "0.00745863180887948"
      ]
     },
     "execution_count": 36,
     "metadata": {},
     "output_type": "execute_result"
    }
   ],
   "source": [
    "print(\"The average clustering coefficient of AB is\")\n",
    "nx.average_clustering(AB)"
   ]
  },
  {
   "cell_type": "code",
   "execution_count": 37,
   "metadata": {},
   "outputs": [
    {
     "name": "stdout",
     "output_type": "stream",
     "text": [
      "The number of triangles is  22835.0\n"
     ]
    }
   ],
   "source": [
    "print(\"The number of triangles is \", sum(list(nx.triangles(AB).values()))/3)"
   ]
  },
  {
   "cell_type": "markdown",
   "metadata": {},
   "source": [
    "The AB network is also small-world."
   ]
  },
  {
   "cell_type": "code",
   "execution_count": 36,
   "metadata": {},
   "outputs": [
    {
     "data": {
      "text/plain": [
       "3.1344822304942865"
      ]
     },
     "execution_count": 36,
     "metadata": {},
     "output_type": "execute_result"
    }
   ],
   "source": [
    "nx.average_shortest_path_length(AB)"
   ]
  },
  {
   "cell_type": "markdown",
   "metadata": {},
   "source": [
    "### Compare the results with a random WS network"
   ]
  },
  {
   "cell_type": "code",
   "execution_count": 38,
   "metadata": {
    "collapsed": true,
    "jupyter": {
     "outputs_hidden": true
    }
   },
   "outputs": [],
   "source": [
    "WS=nx.connected_watts_strogatz_graph(18000,23,0.2,50)"
   ]
  },
  {
   "cell_type": "code",
   "execution_count": 39,
   "metadata": {},
   "outputs": [
    {
     "name": "stdout",
     "output_type": "stream",
     "text": [
      "The WS graph has 18000 nodes\n",
      "and 198000 edges\n"
     ]
    }
   ],
   "source": [
    "print(\"The WS graph has\", len(WS), \"nodes\")\n",
    "print(\"and\",len(WS.edges()),\"edges\")"
   ]
  },
  {
   "cell_type": "code",
   "execution_count": 40,
   "metadata": {},
   "outputs": [
    {
     "data": {
      "text/plain": [
       "True"
      ]
     },
     "execution_count": 40,
     "metadata": {},
     "output_type": "execute_result"
    }
   ],
   "source": [
    "nx.is_connected(WS)"
   ]
  },
  {
   "cell_type": "code",
   "execution_count": 41,
   "metadata": {
    "collapsed": true,
    "jupyter": {
     "outputs_hidden": true
    }
   },
   "outputs": [],
   "source": [
    "ws_degrees=(dict(WS.degree()).values())"
   ]
  },
  {
   "cell_type": "code",
   "execution_count": 42,
   "metadata": {},
   "outputs": [
    {
     "data": {
      "text/plain": [
       "(array([   0., 1000., 2000., 3000., 4000., 5000., 6000., 7000., 8000.]),\n",
       " <a list of 9 Text yticklabel objects>)"
      ]
     },
     "execution_count": 42,
     "metadata": {},
     "output_type": "execute_result"
    },
    {
     "data": {
      "image/png": "[encoded data removed]",
      "text/plain": [
       "<Figure size 720x504 with 1 Axes>"
      ]
     },
     "metadata": {},
     "output_type": "display_data"
    }
   ],
   "source": [
    "plt.figure(figsize=(10,7))\n",
    "plt.hist(ws_degrees, bins=10)\n",
    "plt.xlabel('$k$', fontsize=18)\n",
    "plt.ylabel('$Freq.$', fontsize=18)\n",
    "plt.xticks(fontsize=14)\n",
    "plt.yticks(fontsize=14)"
   ]
  },
  {
   "cell_type": "code",
   "execution_count": 43,
   "metadata": {},
   "outputs": [
    {
     "name": "stdout",
     "output_type": "stream",
     "text": [
      "The average clustering coefficient of WS is\n"
     ]
    },
    {
     "data": {
      "text/plain": [
       "0.3700084990825839"
      ]
     },
     "execution_count": 43,
     "metadata": {},
     "output_type": "execute_result"
    }
   ],
   "source": [
    "print(\"The average clustering coefficient of WS is\")\n",
    "nx.average_clustering(WS)"
   ]
  },
  {
   "cell_type": "markdown",
   "metadata": {},
   "source": [
    "The Watt-Strogatz network is still small-world but with high clustering."
   ]
  },
  {
   "cell_type": "code",
   "execution_count": 43,
   "metadata": {},
   "outputs": [
    {
     "data": {
      "text/plain": [
       "4.032931736948349"
      ]
     },
     "execution_count": 43,
     "metadata": {},
     "output_type": "execute_result"
    }
   ],
   "source": [
    "nx.average_shortest_path_length(WS)"
   ]
  },
  {
   "cell_type": "markdown",
   "metadata": {},
   "source": [
    "## Closeness Centrality"
   ]
  },
  {
   "cell_type": "markdown",
   "metadata": {},
   "source": [
    "In connected graphs there is a natural distance metric between all pairs of nodes, defined by the length of their shortest paths. \n",
    "The '''farness''' of a node ''x'' is defined as the sum of its distances from all other nodes, and its closeness was defined by Bavelas as the reciprocal of the farness that is:\n",
    "\n",
    "\n",
    "<center>\n",
    "$C(x)= \\frac{1}{\\sum_y d(y,x)}.$\n",
    "</center>\n",
    "\n",
    "\n",
    "Thus, the more central a node is the lower its total distance from all other nodes. Note that taking distances ''from'' or ''to'' all other nodes is irrelevant in undirected graphs, whereas in directed graphs distances ''to'' a node are considered a more meaningful measure of centrality, as in general (e.g., in, the web) a node has little control over its incoming links.\n"
   ]
  },
  {
   "cell_type": "markdown",
   "metadata": {},
   "source": [
    "#### Be careful! Computing all the distances between pair of nodes can be intensive."
   ]
  },
  {
   "cell_type": "code",
   "execution_count": 45,
   "metadata": {
    "collapsed": true,
    "jupyter": {
     "outputs_hidden": true
    }
   },
   "outputs": [],
   "source": [
    "close_centr=nx.closeness_centrality(H, 84424)"
   ]
  },
  {
   "cell_type": "code",
   "execution_count": 46,
   "metadata": {
    "collapsed": true,
    "jupyter": {
     "outputs_hidden": true
    }
   },
   "outputs": [
    {
     "name": "stdout",
     "output_type": "stream",
     "text": [
      "0.30557831489826576\n"
     ]
    }
   ],
   "source": [
    "print(close_centr)"
   ]
  },
  {
   "cell_type": "markdown",
   "metadata": {},
   "source": [
    "# Degree assortativity of a network"
   ]
  },
  {
   "cell_type": "markdown",
   "metadata": {},
   "source": [
    "Assortativity can be measured in different ways. A simple approach is measuring the average nearest neighbor degree to assess the level of degree-assortativity."
   ]
  },
  {
   "cell_type": "code",
   "execution_count": 47,
   "metadata": {
    "collapsed": true,
    "jupyter": {
     "outputs_hidden": true
    }
   },
   "outputs": [],
   "source": [
    "from collections import defaultdict"
   ]
  },
  {
   "cell_type": "code",
   "execution_count": 48,
   "metadata": {
    "collapsed": true,
    "jupyter": {
     "outputs_hidden": true
    }
   },
   "outputs": [],
   "source": [
    "x=[]\n",
    "y=[]\n",
    "\n",
    "avg_knn=defaultdict(list)\n",
    "\n",
    "for n in G.nodes():\n",
    "    k=G.degree(n)\n",
    "    \n",
    "    #nn=len(G.neighbors(n))\n",
    "    total=0\n",
    "    for j in G.neighbors(n):\n",
    "        total+=G.degree(j)\n",
    "    \n",
    "    avg_knn[k].append(float(total)/k)\n",
    "    \n",
    "    x.append(k)\n",
    "    y.append(float(total)/k)"
   ]
  },
  {
   "cell_type": "code",
   "execution_count": 49,
   "metadata": {},
   "outputs": [
    {
     "data": {
      "image/png": "[encoded data removed]",
      "text/plain": [
       "<Figure size 720x504 with 1 Axes>"
      ]
     },
     "metadata": {},
     "output_type": "display_data"
    }
   ],
   "source": [
    "plt.figure(figsize=(10,7))\n",
    "plt.scatter(x,y)\n",
    "\n",
    "plt.xlabel('$k_i$', fontsize=18)\n",
    "plt.ylabel('$k_{nn}$', fontsize=18)\n",
    "plt.xticks(fontsize=14)\n",
    "plt.yticks(fontsize=14)\n",
    "plt.yscale('log')\n",
    "plt.xscale('log')\n",
    "plt.axis([0.1,1000,1,1000])\n",
    "plt.show()"
   ]
  },
  {
   "cell_type": "code",
   "execution_count": 50,
   "metadata": {
    "collapsed": true,
    "jupyter": {
     "outputs_hidden": true
    }
   },
   "outputs": [],
   "source": [
    "z=[]\n",
    "for k in sorted(avg_knn.keys()):\n",
    "    knn=np.array(avg_knn[k])\n",
    "    z.append(np.average(knn))"
   ]
  },
  {
   "cell_type": "code",
   "execution_count": 51,
   "metadata": {},
   "outputs": [
    {
     "data": {
      "image/png": "[encoded data removed]",
      "text/plain": [
       "<Figure size 720x504 with 1 Axes>"
      ]
     },
     "metadata": {},
     "output_type": "display_data"
    }
   ],
   "source": [
    "plt.figure(figsize=(10,7))\n",
    "plt.scatter(x,y)\n",
    "plt.plot(sorted(avg_knn.keys()), z,'-r')\n",
    "\n",
    "plt.xlabel('$k_i$', fontsize=18)\n",
    "plt.ylabel('$k_{nn}$', fontsize=18)\n",
    "plt.xticks(fontsize=14)\n",
    "plt.yticks(fontsize=14)\n",
    "plt.yscale('log')\n",
    "plt.xscale('log')\n",
    "plt.axis([0.1,1000,1,1000])\n",
    "plt.show()"
   ]
  },
  {
   "cell_type": "code",
   "execution_count": 52,
   "metadata": {
    "collapsed": true,
    "jupyter": {
     "outputs_hidden": true
    }
   },
   "outputs": [],
   "source": [
    "r=nx.degree_assortativity_coefficient(G)"
   ]
  },
  {
   "cell_type": "code",
   "execution_count": 53,
   "metadata": {},
   "outputs": [
    {
     "name": "stdout",
     "output_type": "stream",
     "text": [
      "0.20512067898648875\n"
     ]
    }
   ],
   "source": [
    "print(r)"
   ]
  },
  {
   "cell_type": "markdown",
   "metadata": {},
   "source": [
    "The degree assortativity coefficient of a ER graph is zero. The ER graph has no correlations."
   ]
  },
  {
   "cell_type": "code",
   "execution_count": 54,
   "metadata": {
    "collapsed": true,
    "jupyter": {
     "outputs_hidden": true
    }
   },
   "outputs": [],
   "source": [
    "ERr=nx.degree_assortativity_coefficient(ER)"
   ]
  },
  {
   "cell_type": "code",
   "execution_count": 55,
   "metadata": {},
   "outputs": [
    {
     "data": {
      "text/plain": [
       "-0.003457912181657471"
      ]
     },
     "execution_count": 55,
     "metadata": {},
     "output_type": "execute_result"
    }
   ],
   "source": [
    "ERr"
   ]
  },
  {
   "cell_type": "markdown",
   "metadata": {},
   "source": [
    "NetworkX offers a number of functions to compute the same quantity."
   ]
  },
  {
   "cell_type": "code",
   "execution_count": 56,
   "metadata": {
    "collapsed": true,
    "jupyter": {
     "outputs_hidden": true
    }
   },
   "outputs": [],
   "source": [
    "knn_avg2=nx.average_degree_connectivity(G)"
   ]
  },
  {
   "cell_type": "code",
   "execution_count": 57,
   "metadata": {},
   "outputs": [
    {
     "name": "stdout",
     "output_type": "stream",
     "text": [
      "{75: 77.99882352941177, 31: 58.04037897586284, 43: 69.43556771545828, 2: 23.927865037812683, 90: 77.11203703703704, 42: 60.331389698736636, 118: 78.43502824858757, 30: 57.107625272331155, 113: 80.56814159292036, 3: 28.27523510971787, 28: 58.709793351302785, 8: 39.26327433628319, 158: 86.37341772151899, 13: 44.994888023369036, 77: 73.6357733175915, 36: 62.516007532956685, 257: 86.91439688715953, 12: 42.094705443698736, 134: 89.48258706467662, 55: 78.45880077369439, 171: 82.84210526315789, 86: 81.7296511627907, 15: 48.993356242840775, 274: 96.15328467153284, 47: 67.27006769825918, 91: 80.11648351648351, 22: 49.707849419303166, 150: 90.85555555555555, 14: 44.20594010800196, 6: 35.63912864775997, 52: 71.10063224446786, 67: 75.60914179104478, 108: 87.86516203703704, 27: 60.657407407407405, 142: 87.4906103286385, 62: 64.69180470793374, 7: 37.66788247213779, 61: 76.44262295081967, 49: 68.4408811143505, 132: 81.35950413223141, 41: 67.15829746532759, 5: 33.02613981762918, 32: 61.44760338345865, 20: 46.04779411764706, 50: 65.12612903225806, 56: 74.32245879120879, 18: 50.58738425925926, 44: 67.23400673400674, 81: 81.11552028218695, 9: 39.82104805392477, 84: 76.93650793650794, 123: 86.35040650406503, 120: 94.29166666666667, 82: 70.11293743372217, 59: 80.08916728076639, 10: 40.97029288702929, 109: 80.96238532110091, 21: 52.61680378957866, 72: 76.99714052287581, 33: 62.90030303030303, 103: 76.49393203883496, 93: 81.32453567937439, 19: 47.950607287449394, 60: 74.33186274509804, 48: 63.18070652173913, 222: 101.52477477477477, 40: 62.843686868686866, 154: 103.51298701298701, 66: 70.86293164200141, 220: 106.10909090909091, 24: 50.449945887445885, 152: 91.66973684210527, 323: 97.31424148606811, 115: 81.92028985507247, 34: 62.29171668667467, 271: 96.6309963099631, 53: 73.98842767295598, 4: 28.074249605055293, 336: 98.73214285714286, 297: 89.98653198653199, 1: 26.308352849336455, 89: 69.29775280898876, 25: 54.5074358974359, 175: 98.65904761904761, 162: 88.1358024691358, 16: 46.23848684210526, 99: 72.37373737373737, 46: 69.40893719806763, 73: 73.25939019001326, 68: 76.09684361549498, 39: 64.08641975308642, 292: 91.95547945205479, 138: 73.68478260869566, 26: 55.29113601630158, 63: 79.52910052910053, 169: 93.17455621301775, 333: 105.03603603603604, 143: 82.3076923076923, 100: 79.43166666666667, 29: 53.666815942678014, 11: 43.09002861545235, 88: 74.02093301435407, 128: 73.29427083333333, 178: 74.9119850187266, 57: 81.13241436925648, 156: 97.37606837606837, 76: 87.00952813067151, 105: 84.74502164502165, 58: 76.20862068965518, 136: 75.375, 104: 76.21016483516483, 85: 68.66252100840336, 97: 79.32371134020619, 45: 64.81346153846154, 111: 84.53153153153153, 38: 68.21468144044321, 185: 84.52162162162162, 362: 67.93646408839778, 174: 101.43218390804597, 17: 47.41758682995383, 51: 62.1376858435682, 121: 105.99380165289256, 117: 93.53525641025641, 54: 69.85, 74: 72.97406866325785, 65: 70.1940170940171, 80: 83.67164634146341, 112: 88.08516483516483, 369: 90.9810298102981, 188: 96.26595744680851, 166: 87.96626506024096, 64: 81.19609375, 71: 71.77288732394366, 427: 80.43091334894613, 98: 79.70222634508349, 420: 94.3, 213: 94.11854460093896, 163: 93.4877300613497, 107: 83.84687275341481, 102: 90.34531590413944, 173: 93.39306358381504, 139: 81.76169064748201, 95: 77.54331983805668, 23: 50.715701734624915, 70: 73.13809523809523, 281: 77.79715302491103, 504: 85.43253968253968, 126: 87.87301587301587, 149: 85.1241610738255, 140: 93.74642857142857, 153: 79.52178649237473, 96: 75.64518229166667, 133: 95.18233082706767, 83: 86.41949616648412, 35: 60.71684088269454, 155: 81.51935483870967, 144: 99.8013888888889, 92: 86.64208074534162, 122: 81.81762295081967, 229: 93.7292576419214, 87: 76.35249042145594, 151: 72.03311258278146, 125: 88.24177777777778, 141: 96.60141843971631, 235: 99.10212765957446, 135: 86.92407407407407, 69: 73.65309898242369, 37: 64.36090636090636, 129: 83.13510520487264, 110: 85.44415584415584, 79: 79.24367088607595, 78: 79.1693657219973, 119: 63.44897959183673, 147: 64.16780045351474, 114: 87.43771929824561, 116: 81.01970443349754, 157: 87.2823779193206, 176: 84.30113636363636, 124: 85.1568100358423, 269: 88.635687732342, 189: 83.88888888888889, 214: 91.26168224299066, 202: 79.53960396039604, 350: 90.66571428571429, 224: 81.52901785714286, 106: 87.84551886792453, 258: 82.6046511627907, 148: 105.83671171171171, 200: 96.535, 165: 69.9030303030303, 180: 76.67222222222222, 131: 79.16603053435115, 145: 92.95517241379311, 230: 79.82608695652173, 161: 66.29606625258799, 137: 91.67591240875912, 385: 94.33766233766234, 195: 98.8974358974359, 159: 95.35849056603773, 196: 72.54336734693878, 211: 100.37440758293839, 236: 76.05932203389831, 330: 73.30909090909091, 168: 88.16666666666667, 94: 81.00911854103343, 146: 84.51712328767124, 127: 65.42913385826772, 192: 85.25868055555556, 252: 87.78571428571429, 212: 92.3254716981132, 233: 96.50214592274678, 194: 82.03865979381443, 101: 77.85258525852585, 130: 78.21846153846154, 208: 92.1875, 172: 89.63953488372093, 190: 94.71578947368421, 197: 96.2741116751269, 351: 100.97150997150997, 387: 104.0, 181: 108.2707182320442, 329: 93.57142857142857, 313: 90.72843450479233, 249: 98.39759036144578, 418: 90.69377990430623, 270: 108.4962962962963, 219: 93.46575342465754, 256: 105.453125, 182: 121.41208791208791, 193: 90.60621761658031, 210: 71.16666666666667, 216: 102.31944444444444, 254: 62.42125984251968, 234: 89.0982905982906}\n"
     ]
    }
   ],
   "source": [
    "print(knn_avg2)"
   ]
  },
  {
   "cell_type": "code",
   "execution_count": 58,
   "metadata": {
    "collapsed": true,
    "jupyter": {
     "outputs_hidden": true
    }
   },
   "outputs": [],
   "source": [
    "knn_avg3=nx.k_nearest_neighbors(G)"
   ]
  },
  {
   "cell_type": "code",
   "execution_count": 59,
   "metadata": {},
   "outputs": [
    {
     "name": "stdout",
     "output_type": "stream",
     "text": [
      "{75: 77.99882352941177, 31: 58.04037897586284, 43: 69.43556771545828, 2: 23.927865037812683, 90: 77.11203703703704, 42: 60.331389698736636, 118: 78.43502824858757, 30: 57.107625272331155, 113: 80.56814159292036, 3: 28.27523510971787, 28: 58.709793351302785, 8: 39.26327433628319, 158: 86.37341772151899, 13: 44.994888023369036, 77: 73.6357733175915, 36: 62.516007532956685, 257: 86.91439688715953, 12: 42.094705443698736, 134: 89.48258706467662, 55: 78.45880077369439, 171: 82.84210526315789, 86: 81.7296511627907, 15: 48.993356242840775, 274: 96.15328467153284, 47: 67.27006769825918, 91: 80.11648351648351, 22: 49.707849419303166, 150: 90.85555555555555, 14: 44.20594010800196, 6: 35.63912864775997, 52: 71.10063224446786, 67: 75.60914179104478, 108: 87.86516203703704, 27: 60.657407407407405, 142: 87.4906103286385, 62: 64.69180470793374, 7: 37.66788247213779, 61: 76.44262295081967, 49: 68.4408811143505, 132: 81.35950413223141, 41: 67.15829746532759, 5: 33.02613981762918, 32: 61.44760338345865, 20: 46.04779411764706, 50: 65.12612903225806, 56: 74.32245879120879, 18: 50.58738425925926, 44: 67.23400673400674, 81: 81.11552028218695, 9: 39.82104805392477, 84: 76.93650793650794, 123: 86.35040650406503, 120: 94.29166666666667, 82: 70.11293743372217, 59: 80.08916728076639, 10: 40.97029288702929, 109: 80.96238532110091, 21: 52.61680378957866, 72: 76.99714052287581, 33: 62.90030303030303, 103: 76.49393203883496, 93: 81.32453567937439, 19: 47.950607287449394, 60: 74.33186274509804, 48: 63.18070652173913, 222: 101.52477477477477, 40: 62.843686868686866, 154: 103.51298701298701, 66: 70.86293164200141, 220: 106.10909090909091, 24: 50.449945887445885, 152: 91.66973684210527, 323: 97.31424148606811, 115: 81.92028985507247, 34: 62.29171668667467, 271: 96.6309963099631, 53: 73.98842767295598, 4: 28.074249605055293, 336: 98.73214285714286, 297: 89.98653198653199, 1: 26.308352849336455, 89: 69.29775280898876, 25: 54.5074358974359, 175: 98.65904761904761, 162: 88.1358024691358, 16: 46.23848684210526, 99: 72.37373737373737, 46: 69.40893719806763, 73: 73.25939019001326, 68: 76.09684361549498, 39: 64.08641975308642, 292: 91.95547945205479, 138: 73.68478260869566, 26: 55.29113601630158, 63: 79.52910052910053, 169: 93.17455621301775, 333: 105.03603603603604, 143: 82.3076923076923, 100: 79.43166666666667, 29: 53.666815942678014, 11: 43.09002861545235, 88: 74.02093301435407, 128: 73.29427083333333, 178: 74.9119850187266, 57: 81.13241436925648, 156: 97.37606837606837, 76: 87.00952813067151, 105: 84.74502164502165, 58: 76.20862068965518, 136: 75.375, 104: 76.21016483516483, 85: 68.66252100840336, 97: 79.32371134020619, 45: 64.81346153846154, 111: 84.53153153153153, 38: 68.21468144044321, 185: 84.52162162162162, 362: 67.93646408839778, 174: 101.43218390804597, 17: 47.41758682995383, 51: 62.1376858435682, 121: 105.99380165289256, 117: 93.53525641025641, 54: 69.85, 74: 72.97406866325785, 65: 70.1940170940171, 80: 83.67164634146341, 112: 88.08516483516483, 369: 90.9810298102981, 188: 96.26595744680851, 166: 87.96626506024096, 64: 81.19609375, 71: 71.77288732394366, 427: 80.43091334894613, 98: 79.70222634508349, 420: 94.3, 213: 94.11854460093896, 163: 93.4877300613497, 107: 83.84687275341481, 102: 90.34531590413944, 173: 93.39306358381504, 139: 81.76169064748201, 95: 77.54331983805668, 23: 50.715701734624915, 70: 73.13809523809523, 281: 77.79715302491103, 504: 85.43253968253968, 126: 87.87301587301587, 149: 85.1241610738255, 140: 93.74642857142857, 153: 79.52178649237473, 96: 75.64518229166667, 133: 95.18233082706767, 83: 86.41949616648412, 35: 60.71684088269454, 155: 81.51935483870967, 144: 99.8013888888889, 92: 86.64208074534162, 122: 81.81762295081967, 229: 93.7292576419214, 87: 76.35249042145594, 151: 72.03311258278146, 125: 88.24177777777778, 141: 96.60141843971631, 235: 99.10212765957446, 135: 86.92407407407407, 69: 73.65309898242369, 37: 64.36090636090636, 129: 83.13510520487264, 110: 85.44415584415584, 79: 79.24367088607595, 78: 79.1693657219973, 119: 63.44897959183673, 147: 64.16780045351474, 114: 87.43771929824561, 116: 81.01970443349754, 157: 87.2823779193206, 176: 84.30113636363636, 124: 85.1568100358423, 269: 88.635687732342, 189: 83.88888888888889, 214: 91.26168224299066, 202: 79.53960396039604, 350: 90.66571428571429, 224: 81.52901785714286, 106: 87.84551886792453, 258: 82.6046511627907, 148: 105.83671171171171, 200: 96.535, 165: 69.9030303030303, 180: 76.67222222222222, 131: 79.16603053435115, 145: 92.95517241379311, 230: 79.82608695652173, 161: 66.29606625258799, 137: 91.67591240875912, 385: 94.33766233766234, 195: 98.8974358974359, 159: 95.35849056603773, 196: 72.54336734693878, 211: 100.37440758293839, 236: 76.05932203389831, 330: 73.30909090909091, 168: 88.16666666666667, 94: 81.00911854103343, 146: 84.51712328767124, 127: 65.42913385826772, 192: 85.25868055555556, 252: 87.78571428571429, 212: 92.3254716981132, 233: 96.50214592274678, 194: 82.03865979381443, 101: 77.85258525852585, 130: 78.21846153846154, 208: 92.1875, 172: 89.63953488372093, 190: 94.71578947368421, 197: 96.2741116751269, 351: 100.97150997150997, 387: 104.0, 181: 108.2707182320442, 329: 93.57142857142857, 313: 90.72843450479233, 249: 98.39759036144578, 418: 90.69377990430623, 270: 108.4962962962963, 219: 93.46575342465754, 256: 105.453125, 182: 121.41208791208791, 193: 90.60621761658031, 210: 71.16666666666667, 216: 102.31944444444444, 254: 62.42125984251968, 234: 89.0982905982906}\n"
     ]
    }
   ],
   "source": [
    "print(knn_avg3)"
   ]
  },
  {
   "cell_type": "code",
   "execution_count": 60,
   "metadata": {},
   "outputs": [
    {
     "name": "stdout",
     "output_type": "stream",
     "text": [
      "0.20512067898648864\n"
     ]
    }
   ],
   "source": [
    "r2=nx.degree_pearson_correlation_coefficient(G)\n",
    "print(r2)"
   ]
  },
  {
   "cell_type": "markdown",
   "metadata": {},
   "source": [
    "---\n",
    "# Simulating random and targeted attacks to a network"
   ]
  },
  {
   "cell_type": "markdown",
   "metadata": {},
   "source": [
    "Resilience is the ability to provide and maintain an acceptable level of service in the face of faults and challenges to normal operation. Threats and challenges for services can range from simple misconfiguration over large scale natural disasters to targeted attacks."
   ]
  },
  {
   "cell_type": "markdown",
   "metadata": {},
   "source": [
    "We define a function that performs a random or targeted attack to a network according to a given strategy (random, degree based, betweenness based, etc. )"
   ]
  },
  {
   "cell_type": "code",
   "execution_count": 61,
   "metadata": {
    "collapsed": true,
    "jupyter": {
     "outputs_hidden": true
    }
   },
   "outputs": [],
   "source": [
    "def net_attack(graph, ranked_nodes):\n",
    "    \n",
    "    fraction_removed=[]#here we store the tuples: (%removed nodes, size of gcc)\n",
    "    \n",
    "    graph1=graph.copy()\n",
    "    nnodes=len(ranked_nodes)\n",
    "    n=0    \n",
    "    \n",
    "    gcc=list(nx.connected_components(graph1))[0]\n",
    "    \n",
    "    gcc_size=float(len(gcc))/nnodes\n",
    "    \n",
    "    fraction_removed.append( (float(n)/nnodes, gcc_size) )\n",
    "    \n",
    "    while gcc_size>0.01:\n",
    "        \n",
    "        #we start from the end of the list!\n",
    "        graph1.remove_node(ranked_nodes.pop())\n",
    "\n",
    "        gcc=list(nx.connected_components(graph1))[0]\n",
    "        gcc_size=float(len(gcc))/nnodes\n",
    "        n+=1\n",
    "        fraction_removed.append( (float(n)/nnodes, gcc_size) )\n",
    "    \n",
    "    return fraction_removed"
   ]
  },
  {
   "cell_type": "markdown",
   "metadata": {},
   "source": [
    "# Robustness of the US airport network\n",
    "## Random attack"
   ]
  },
  {
   "cell_type": "code",
   "execution_count": 62,
   "metadata": {},
   "outputs": [],
   "source": [
    "filepath_air='./../network_data/USairport_2010.txt'"
   ]
  },
  {
   "cell_type": "code",
   "execution_count": 63,
   "metadata": {
    "collapsed": true,
    "jupyter": {
     "outputs_hidden": true
    }
   },
   "outputs": [],
   "source": [
    "G=nx.Graph()\n",
    "fh=open(filepath_air,'r')\n",
    "for line in fh.readlines():\n",
    "    s=line.strip().split()\n",
    "    G.add_edge(int(s[0]),int(s[1]))\n",
    "fh.close()    "
   ]
  },
  {
   "cell_type": "code",
   "execution_count": 64,
   "metadata": {
    "collapsed": true,
    "jupyter": {
     "outputs_hidden": true
    }
   },
   "outputs": [],
   "source": [
    "airport_nodes=list(G.nodes())"
   ]
  },
  {
   "cell_type": "code",
   "execution_count": 65,
   "metadata": {},
   "outputs": [],
   "source": [
    "resilience_random=net_attack(G, airport_nodes)"
   ]
  },
  {
   "cell_type": "markdown",
   "metadata": {},
   "source": [
    "## Betweenness based attack"
   ]
  },
  {
   "cell_type": "code",
   "execution_count": 66,
   "metadata": {
    "collapsed": true,
    "jupyter": {
     "outputs_hidden": true
    }
   },
   "outputs": [],
   "source": [
    "from operator import itemgetter"
   ]
  },
  {
   "cell_type": "code",
   "execution_count": 67,
   "metadata": {
    "collapsed": true,
    "jupyter": {
     "outputs_hidden": true
    }
   },
   "outputs": [],
   "source": [
    "airport_nodes_betw=[]\n",
    "\n",
    "betw=nx.betweenness_centrality(G)\n",
    "for i in sorted(betw.items(), key=itemgetter(1)):\n",
    "    airport_nodes_betw.append(i[0])\n",
    "\n",
    "\n",
    "resilience_betw=net_attack(G, airport_nodes_betw)"
   ]
  },
  {
   "cell_type": "markdown",
   "metadata": {},
   "source": [
    "## Degree based attack"
   ]
  },
  {
   "cell_type": "code",
   "execution_count": 68,
   "metadata": {
    "collapsed": true,
    "jupyter": {
     "outputs_hidden": true
    }
   },
   "outputs": [],
   "source": [
    "airport_nodes_degree=[]\n",
    "\n",
    "deg=dict(G.degree())\n",
    "for i in sorted(deg.items(), key=itemgetter(1)):\n",
    "    airport_nodes_degree.append(i[0])\n",
    "\n",
    "\n",
    "resilience_deg=net_attack(G, list(airport_nodes_degree))"
   ]
  },
  {
   "cell_type": "markdown",
   "metadata": {},
   "source": [
    "Let's compare the results."
   ]
  },
  {
   "cell_type": "code",
   "execution_count": 70,
   "metadata": {},
   "outputs": [
    {
     "data": {
      "text/plain": [
       "<matplotlib.legend.Legend at 0x1a219906d8>"
      ]
     },
     "execution_count": 70,
     "metadata": {},
     "output_type": "execute_result"
    },
    {
     "data": {
      "image/png": "[encoded data removed]",
      "text/plain": [
       "<Figure size 720x504 with 1 Axes>"
      ]
     },
     "metadata": {},
     "output_type": "display_data"
    }
   ],
   "source": [
    "x=[k[0] for k in resilience_random]\n",
    "y=[k[1] for k in resilience_random]\n",
    "\n",
    "x1=[k[0] for k in resilience_deg]\n",
    "y1=[k[1] for k in resilience_deg]\n",
    "\n",
    "x2=[k[0] for k in resilience_betw]\n",
    "y2=[k[1] for k in resilience_betw]\n",
    "\n",
    "plt.figure(figsize=(10,7))\n",
    "\n",
    "plt.plot(x,y, label='random attack')\n",
    "plt.plot(x1,y1, label='degree based')\n",
    "plt.plot(x2,y2, label='betw based')\n",
    "\n",
    "plt.xlabel('$f_{c}$', fontsize=22)\n",
    "plt.ylabel('$LCC$', fontsize=22)\n",
    "plt.xticks(fontsize=20)\n",
    "plt.yticks(fontsize=22)\n",
    "\n",
    "plt.legend(loc='upper right', fontsize=20)"
   ]
  },
  {
   "cell_type": "markdown",
   "metadata": {},
   "source": [
    "Real networks such as the air transport network are vulnerable to targeted attacks."
   ]
  },
  {
   "cell_type": "markdown",
   "metadata": {},
   "source": [
    "# Robustness of the Erdos-Renyi random network"
   ]
  },
  {
   "cell_type": "code",
   "execution_count": 84,
   "metadata": {
    "collapsed": true,
    "jupyter": {
     "outputs_hidden": true
    }
   },
   "outputs": [],
   "source": [
    "ER=nx.fast_gnp_random_graph(2000,0.012)\n",
    "ER_nodes=list(ER.nodes())"
   ]
  },
  {
   "cell_type": "code",
   "execution_count": 85,
   "metadata": {
    "collapsed": true,
    "jupyter": {
     "outputs_hidden": true
    }
   },
   "outputs": [],
   "source": [
    "#we rank the nodes by degree\n",
    "ER_nodes_deg=[i for i,d in sorted(dict(ER.degree()).items(), key=itemgetter(1))]"
   ]
  },
  {
   "cell_type": "code",
   "execution_count": 86,
   "metadata": {},
   "outputs": [],
   "source": [
    "ER_betw=nx.betweenness_centrality(ER)"
   ]
  },
  {
   "cell_type": "code",
   "execution_count": 87,
   "metadata": {},
   "outputs": [],
   "source": [
    "ER_nodes_betw=[i for i,b in sorted(dict(ER_betw).items(), key=itemgetter(1))]"
   ]
  },
  {
   "cell_type": "code",
   "execution_count": 88,
   "metadata": {
    "collapsed": true,
    "jupyter": {
     "outputs_hidden": true
    }
   },
   "outputs": [],
   "source": [
    "resilience_random=net_attack(ER, ER_nodes)\n",
    "resilience_deg=net_attack(ER, ER_nodes_deg)\n",
    "resilience_betw=net_attack(ER, ER_nodes_betw)"
   ]
  },
  {
   "cell_type": "code",
   "execution_count": 90,
   "metadata": {},
   "outputs": [
    {
     "data": {
      "text/plain": [
       "<matplotlib.legend.Legend at 0x1a1d72c4a8>"
      ]
     },
     "execution_count": 90,
     "metadata": {},
     "output_type": "execute_result"
    },
    {
     "data": {
      "image/png": "[encoded data removed]",
      "text/plain": [
       "<Figure size 720x504 with 1 Axes>"
      ]
     },
     "metadata": {},
     "output_type": "display_data"
    }
   ],
   "source": [
    "x=[k[0] for k in resilience_random]\n",
    "y=[k[1] for k in resilience_random]\n",
    "\n",
    "x1=[k[0] for k in resilience_deg]\n",
    "y1=[k[1] for k in resilience_deg]\n",
    "\n",
    "x2=[k[0] for k in resilience_betw]\n",
    "y2=[k[1] for k in resilience_betw]\n",
    "\n",
    "plt.figure(figsize=(10,7))\n",
    "\n",
    "plt.plot(x,y, label='random attack')\n",
    "plt.plot(x1,y1, label='degree based')\n",
    "plt.plot(x2,y2, label='betw based')\n",
    "\n",
    "plt.xlabel('$f_{c}$', fontsize=22)\n",
    "plt.ylabel('$LCC$', fontsize=22)\n",
    "plt.xticks(fontsize=20)\n",
    "plt.yticks(fontsize=20)\n",
    "\n",
    "plt.legend(loc='upper right', fontsize=22)"
   ]
  },
  {
   "cell_type": "markdown",
   "metadata": {},
   "source": [
    "Random networks such as the E-R network are not vulnerable to targeted attacks."
   ]
  },
  {
   "cell_type": "code",
   "execution_count": null,
   "metadata": {},
   "outputs": [],
   "source": []
  }
 ],
 "metadata": {
  "kernelspec": {
   "display_name": "Python 3",
   "language": "python",
   "name": "python3"
  },
  "language_info": {
   "codemirror_mode": {
    "name": "ipython",
    "version": 3
   },
   "file_extension": ".py",
   "mimetype": "text/x-python",
   "name": "python",
   "nbconvert_exporter": "python",
   "pygments_lexer": "ipython3",
   "version": "3.7.1"
  }
 },
 "nbformat": 4,
 "nbformat_minor": 4
}
