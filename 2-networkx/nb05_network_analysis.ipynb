{
 "cells": [
  {
   "cell_type": "markdown",
   "metadata": {},
   "source": [
    "<center>\n",
    "<hr>\n",
    "<h1>Complessità nei sistemi sociali</h1>\n",
    "<h2>Laurea Magistrale in Fisica Dei Sistemi Complessi</h2>\n",
    "<h2>A.A. 2018/19</h2>\n",
    "<h3>Daniela Paolotti & Michele Tizzoni</h3>\n",
    "<h3>Notebook 5 - Basic network analysis with NetworkX, assortativity, resilience to attacks</h3>\n",
    "<hr>\n",
    "</center>"
   ]
  },
  {
   "cell_type": "code",
   "execution_count": null,
   "metadata": {},
   "outputs": [],
   "source": [
    "import networkx as nx\n",
    "import seaborn as sns"
   ]
  },
  {
   "cell_type": "code",
   "execution_count": null,
   "metadata": {},
   "outputs": [],
   "source": [
    "%pylab inline"
   ]
  },
  {
   "cell_type": "markdown",
   "metadata": {},
   "source": [
    "## Connectivity and clustering of a graph\n",
    "\n",
    "We study the network of coauthorships of Astro-Ph, from the SNAP database."
   ]
  },
  {
   "cell_type": "code",
   "execution_count": null,
   "metadata": {
    "collapsed": true
   },
   "outputs": [],
   "source": [
    "filepath='./../network_data/ca-AstroPh.txt'"
   ]
  },
  {
   "cell_type": "code",
   "execution_count": null,
   "metadata": {
    "collapsed": true
   },
   "outputs": [],
   "source": [
    "G=nx.Graph()"
   ]
  },
  {
   "cell_type": "code",
   "execution_count": null,
   "metadata": {
    "collapsed": true
   },
   "outputs": [],
   "source": [
    "fh=open(filepath,'r')\n",
    "for line in fh.readlines():\n",
    "    s=line.strip().split()\n",
    "    if s[0]!='#':\n",
    "        origin=int(s[0])\n",
    "        dest=int(s[1])\n",
    "        G.add_edge(origin,dest)\n",
    "fh.close()"
   ]
  },
  {
   "cell_type": "code",
   "execution_count": null,
   "metadata": {},
   "outputs": [],
   "source": [
    "print(\"The graph has\", len(G), \"nodes and\",len(G.edges()),\"edges\")"
   ]
  },
  {
   "cell_type": "code",
   "execution_count": null,
   "metadata": {},
   "outputs": [],
   "source": [
    "print(\"Is the graph simply connected?\", nx.is_connected(G))"
   ]
  },
  {
   "cell_type": "markdown",
   "metadata": {},
   "source": [
    "### Show the components of the graph"
   ]
  },
  {
   "cell_type": "code",
   "execution_count": null,
   "metadata": {},
   "outputs": [],
   "source": [
    "print(\"The graph has\", nx.number_connected_components(G),\"connected components\")"
   ]
  },
  {
   "cell_type": "code",
   "execution_count": null,
   "metadata": {},
   "outputs": [],
   "source": [
    "for k in nx.connected_components(G):\n",
    "    print(len(k))"
   ]
  },
  {
   "cell_type": "markdown",
   "metadata": {},
   "source": [
    "### Extract the largest Connected Component as a subgraph"
   ]
  },
  {
   "cell_type": "code",
   "execution_count": null,
   "metadata": {},
   "outputs": [],
   "source": [
    "nx.connected_component_subgraphs(G)"
   ]
  },
  {
   "cell_type": "code",
   "execution_count": null,
   "metadata": {
    "collapsed": true
   },
   "outputs": [],
   "source": [
    "graphs = list(nx.connected_component_subgraphs(G))"
   ]
  },
  {
   "cell_type": "code",
   "execution_count": null,
   "metadata": {},
   "outputs": [],
   "source": [
    "graphs"
   ]
  },
  {
   "cell_type": "code",
   "execution_count": null,
   "metadata": {
    "collapsed": true
   },
   "outputs": [],
   "source": [
    "H=graphs[0]"
   ]
  },
  {
   "cell_type": "code",
   "execution_count": null,
   "metadata": {},
   "outputs": [],
   "source": [
    "len(H)"
   ]
  },
  {
   "cell_type": "code",
   "execution_count": null,
   "metadata": {},
   "outputs": [],
   "source": [
    "print(len(G)-len(H))"
   ]
  },
  {
   "cell_type": "code",
   "execution_count": null,
   "metadata": {},
   "outputs": [],
   "source": [
    "print(\"Check that the graph is now connected\")\n",
    "nx.number_connected_components(H)"
   ]
  },
  {
   "cell_type": "markdown",
   "metadata": {},
   "source": [
    "## Global clustering coefficient"
   ]
  },
  {
   "cell_type": "markdown",
   "metadata": {},
   "source": [
    "The global clustering coefficient measures the number of triangles in the network and it's defined as: \n",
    "<center>\n",
    "$C_\\Delta = \\frac{3 \\times \\text{triangles}}{\\text{triplets}}$\n",
    "</center> "
   ]
  },
  {
   "cell_type": "code",
   "execution_count": null,
   "metadata": {},
   "outputs": [],
   "source": [
    "nx.triangles(H)"
   ]
  },
  {
   "cell_type": "markdown",
   "metadata": {},
   "source": [
    "How many triangles are there in the whole network?"
   ]
  },
  {
   "cell_type": "code",
   "execution_count": null,
   "metadata": {},
   "outputs": [],
   "source": [
    "tt=sum(list(nx.triangles(H).values()))"
   ]
  },
  {
   "cell_type": "code",
   "execution_count": null,
   "metadata": {},
   "outputs": [],
   "source": [
    "tt/3"
   ]
  },
  {
   "cell_type": "markdown",
   "metadata": {},
   "source": [
    "The transitivity is the fraction of all possible triangles in the network."
   ]
  },
  {
   "cell_type": "code",
   "execution_count": null,
   "metadata": {},
   "outputs": [],
   "source": [
    "nx.transitivity(H)"
   ]
  },
  {
   "cell_type": "markdown",
   "metadata": {},
   "source": [
    "## Average clustering coefficient\n",
    "As an alternative to the global clustering coefficient, the overall level of clustering in a network is measured by Watts and Strogatz as the average of the local clustering coefficients of all the vertices $n$:\n",
    "\n",
    "<center>\n",
    "$\\bar{C} = \\frac{1}{n}\\sum_{i=1}^{n} C_i.$\n",
    "</center>\n",
    "\n",
    "It is worth noting that this metric places more weight on the low degree nodes, while the transitivity ratio places more weight on the high degree nodes. In fact, a weighted average where each local clustering score is weighted by $k_i(k_i-1)$ is identical to the global clustering coefficient."
   ]
  },
  {
   "cell_type": "code",
   "execution_count": null,
   "metadata": {},
   "outputs": [],
   "source": [
    "print(\"The average clustering coefficient of H is\")\n",
    "nx.average_clustering(H)"
   ]
  },
  {
   "cell_type": "markdown",
   "metadata": {},
   "source": [
    "## Average sorthest path length\n",
    "#### Warning! Calculating the shortest paths is intensive! "
   ]
  },
  {
   "cell_type": "markdown",
   "metadata": {},
   "source": [
    "The graph is small world."
   ]
  },
  {
   "cell_type": "code",
   "execution_count": null,
   "metadata": {},
   "outputs": [],
   "source": [
    "nx.average_shortest_path_length(H)"
   ]
  },
  {
   "cell_type": "code",
   "execution_count": null,
   "metadata": {},
   "outputs": [],
   "source": [
    "math.log(len(H))"
   ]
  },
  {
   "cell_type": "markdown",
   "metadata": {},
   "source": [
    "### Compare the results with a random ER network"
   ]
  },
  {
   "cell_type": "markdown",
   "metadata": {},
   "source": [
    "We generate a random Erdos-Renyi graph with same average connectivity of H, i.e. same number of nodes and edges."
   ]
  },
  {
   "cell_type": "code",
   "execution_count": null,
   "metadata": {
    "collapsed": true
   },
   "outputs": [],
   "source": [
    "nnodes=18000\n",
    "plink=0.00122\n",
    "\n",
    "ER=nx.fast_gnp_random_graph(nnodes, plink)"
   ]
  },
  {
   "cell_type": "code",
   "execution_count": null,
   "metadata": {},
   "outputs": [],
   "source": [
    "nx.is_connected(ER)"
   ]
  },
  {
   "cell_type": "code",
   "execution_count": null,
   "metadata": {},
   "outputs": [],
   "source": [
    "print(\"The ER graph has\", len(ER), \"nodes\")\n",
    "print(\"and\",len(ER.edges()),\"edges\")"
   ]
  },
  {
   "cell_type": "code",
   "execution_count": null,
   "metadata": {},
   "outputs": [],
   "source": [
    "print(\"The average clustering coefficient of ER is\")\n",
    "nx.average_clustering(ER)"
   ]
  },
  {
   "cell_type": "code",
   "execution_count": null,
   "metadata": {},
   "outputs": [],
   "source": [
    "print(sum(list(nx.triangles(ER).values()))/3)"
   ]
  },
  {
   "cell_type": "markdown",
   "metadata": {},
   "source": [
    "The ER graph is also small world!"
   ]
  },
  {
   "cell_type": "code",
   "execution_count": null,
   "metadata": {},
   "outputs": [],
   "source": [
    "nx.average_shortest_path_length(ER)"
   ]
  },
  {
   "cell_type": "markdown",
   "metadata": {},
   "source": [
    "### Compare the results with a random AB network"
   ]
  },
  {
   "cell_type": "code",
   "execution_count": null,
   "metadata": {
    "collapsed": true
   },
   "outputs": [],
   "source": [
    "AB=nx.barabasi_albert_graph(18000,11)"
   ]
  },
  {
   "cell_type": "code",
   "execution_count": null,
   "metadata": {},
   "outputs": [],
   "source": [
    "print(\"The AB graph has\", len(AB), \"nodes\")\n",
    "print(\"and\",len(AB.edges()),\"edges\")"
   ]
  },
  {
   "cell_type": "code",
   "execution_count": null,
   "metadata": {
    "collapsed": true
   },
   "outputs": [],
   "source": [
    "from collections import Counter \n",
    "degrees=dict(AB.degree()).values()\n",
    "c=Counter(degrees)"
   ]
  },
  {
   "cell_type": "code",
   "execution_count": null,
   "metadata": {
    "collapsed": true
   },
   "outputs": [],
   "source": [
    "import powerlaw as pwl"
   ]
  },
  {
   "cell_type": "code",
   "execution_count": null,
   "metadata": {},
   "outputs": [],
   "source": [
    "plt.figure(figsize=(10,7))\n",
    "x=[]\n",
    "y=[]\n",
    "for i in sorted(c):   \n",
    "    x.append(i)\n",
    "    y.append(float(c[i])/len(AB))\n",
    "\n",
    "    \n",
    "plt.plot(np.array(x),np.array(y))\n",
    "pwl.plot_pdf(list(degrees))\n",
    "\n",
    "plt.xlabel('$k$', fontsize=18)\n",
    "plt.ylabel('$P(k)$', fontsize=18)\n",
    "plt.xticks(fontsize=14)\n",
    "plt.yticks(fontsize=14)\n",
    "plt.yscale('log')\n",
    "plt.xscale('log')\n",
    "plt.axis([10,1000,0.0000001,1])\n",
    "plt.show()"
   ]
  },
  {
   "cell_type": "code",
   "execution_count": null,
   "metadata": {
    "collapsed": true
   },
   "outputs": [],
   "source": [
    "fit_function = pwl.Fit(list(degrees), xmin=11)"
   ]
  },
  {
   "cell_type": "code",
   "execution_count": null,
   "metadata": {},
   "outputs": [],
   "source": [
    "fit_function.power_law.alpha"
   ]
  },
  {
   "cell_type": "code",
   "execution_count": null,
   "metadata": {},
   "outputs": [],
   "source": [
    "fit_function.power_law.sigma"
   ]
  },
  {
   "cell_type": "code",
   "execution_count": null,
   "metadata": {},
   "outputs": [],
   "source": [
    "fit_function.power_law.xmin"
   ]
  },
  {
   "cell_type": "code",
   "execution_count": null,
   "metadata": {},
   "outputs": [],
   "source": [
    "print(\"The average clustering coefficient of AB is\")\n",
    "nx.average_clustering(AB)"
   ]
  },
  {
   "cell_type": "code",
   "execution_count": null,
   "metadata": {},
   "outputs": [],
   "source": [
    "print(\"The number of triangles is \", sum(list(nx.triangles(AB).values()))/3)"
   ]
  },
  {
   "cell_type": "markdown",
   "metadata": {},
   "source": [
    "The AB network is also small-world."
   ]
  },
  {
   "cell_type": "code",
   "execution_count": null,
   "metadata": {},
   "outputs": [],
   "source": [
    "nx.average_shortest_path_length(AB)"
   ]
  },
  {
   "cell_type": "markdown",
   "metadata": {},
   "source": [
    "### Compare the results with a random WS network"
   ]
  },
  {
   "cell_type": "code",
   "execution_count": null,
   "metadata": {
    "collapsed": true
   },
   "outputs": [],
   "source": [
    "WS=nx.connected_watts_strogatz_graph(18000,23,0.2,50)"
   ]
  },
  {
   "cell_type": "code",
   "execution_count": null,
   "metadata": {},
   "outputs": [],
   "source": [
    "print(\"The WS graph has\", len(WS), \"nodes\")\n",
    "print(\"and\",len(WS.edges()),\"edges\")"
   ]
  },
  {
   "cell_type": "code",
   "execution_count": null,
   "metadata": {},
   "outputs": [],
   "source": [
    "nx.is_connected(WS)"
   ]
  },
  {
   "cell_type": "code",
   "execution_count": null,
   "metadata": {
    "collapsed": true
   },
   "outputs": [],
   "source": [
    "ws_degrees=(dict(WS.degree()).values())"
   ]
  },
  {
   "cell_type": "code",
   "execution_count": null,
   "metadata": {},
   "outputs": [],
   "source": [
    "plt.figure(figsize=(10,7))\n",
    "plt.hist(ws_degrees, bins=10)\n",
    "plt.xlabel('$k$', fontsize=18)\n",
    "plt.ylabel('$Freq.$', fontsize=18)\n",
    "plt.xticks(fontsize=14)\n",
    "plt.yticks(fontsize=14)"
   ]
  },
  {
   "cell_type": "code",
   "execution_count": null,
   "metadata": {},
   "outputs": [],
   "source": [
    "print(\"The average clustering coefficient of WS is\")\n",
    "nx.average_clustering(WS)"
   ]
  },
  {
   "cell_type": "markdown",
   "metadata": {},
   "source": [
    "The Watt-Strogatz network is still small-world but with high clustering."
   ]
  },
  {
   "cell_type": "code",
   "execution_count": null,
   "metadata": {},
   "outputs": [],
   "source": [
    "nx.average_shortest_path_length(WS)"
   ]
  },
  {
   "cell_type": "markdown",
   "metadata": {},
   "source": [
    "## Closeness Centrality"
   ]
  },
  {
   "cell_type": "markdown",
   "metadata": {},
   "source": [
    "In connected graphs there is a natural distance metric between all pairs of nodes, defined by the length of their shortest paths. \n",
    "The '''farness''' of a node ''x'' is defined as the sum of its distances from all other nodes, and its closeness was defined by Bavelas as the reciprocal of the farness that is:\n",
    "\n",
    "\n",
    "<center>\n",
    "$C(x)= \\frac{1}{\\sum_y d(y,x)}.$\n",
    "</center>\n",
    "\n",
    "\n",
    "Thus, the more central a node is the lower its total distance from all other nodes. Note that taking distances ''from'' or ''to'' all other nodes is irrelevant in undirected graphs, whereas in directed graphs distances ''to'' a node are considered a more meaningful measure of centrality, as in general (e.g., in, the web) a node has little control over its incoming links.\n"
   ]
  },
  {
   "cell_type": "markdown",
   "metadata": {},
   "source": [
    "#### Be careful! Computing all the distances between pair of nodes can be intensive."
   ]
  },
  {
   "cell_type": "code",
   "execution_count": null,
   "metadata": {
    "collapsed": true
   },
   "outputs": [],
   "source": [
    "close_centr=nx.closeness_centrality(H)"
   ]
  },
  {
   "cell_type": "code",
   "execution_count": null,
   "metadata": {
    "collapsed": true
   },
   "outputs": [],
   "source": [
    "print(close_centr)"
   ]
  },
  {
   "cell_type": "markdown",
   "metadata": {},
   "source": [
    "# Degree assortativity of a network"
   ]
  },
  {
   "cell_type": "markdown",
   "metadata": {},
   "source": [
    "Assortativity can be measured in different ways. A simple approach is measuring the average nearest neighbor degree to assess the level of degree-assortativity."
   ]
  },
  {
   "cell_type": "code",
   "execution_count": null,
   "metadata": {
    "collapsed": true
   },
   "outputs": [],
   "source": [
    "from collections import defaultdict"
   ]
  },
  {
   "cell_type": "code",
   "execution_count": null,
   "metadata": {
    "collapsed": true
   },
   "outputs": [],
   "source": [
    "x=[]\n",
    "y=[]\n",
    "\n",
    "avg_knn=defaultdict(list)\n",
    "\n",
    "for n in G.nodes():\n",
    "    k=G.degree(n)\n",
    "    \n",
    "    #nn=len(G.neighbors(n))\n",
    "    total=0\n",
    "    for j in G.neighbors(n):\n",
    "        total+=G.degree(j)\n",
    "    \n",
    "    avg_knn[k].append(float(total)/k)\n",
    "    \n",
    "    x.append(k)\n",
    "    y.append(float(total)/k)"
   ]
  },
  {
   "cell_type": "code",
   "execution_count": null,
   "metadata": {},
   "outputs": [],
   "source": [
    "plt.figure(figsize=(10,7))\n",
    "plt.scatter(x,y)\n",
    "\n",
    "plt.xlabel('$k_i$', fontsize=18)\n",
    "plt.ylabel('$k_{nn}$', fontsize=18)\n",
    "plt.xticks(fontsize=14)\n",
    "plt.yticks(fontsize=14)\n",
    "plt.yscale('log')\n",
    "plt.xscale('log')\n",
    "plt.axis([0.1,1000,1,1000])\n",
    "plt.show()"
   ]
  },
  {
   "cell_type": "code",
   "execution_count": null,
   "metadata": {
    "collapsed": true
   },
   "outputs": [],
   "source": [
    "z=[]\n",
    "for k in sorted(avg_knn.keys()):\n",
    "    knn=np.array(avg_knn[k])\n",
    "    z.append(np.average(knn))"
   ]
  },
  {
   "cell_type": "code",
   "execution_count": null,
   "metadata": {},
   "outputs": [],
   "source": [
    "plt.figure(figsize=(10,7))\n",
    "plt.scatter(x,y)\n",
    "plt.plot(sorted(avg_knn.keys()), z,'-r')\n",
    "\n",
    "plt.xlabel('$k_i$', fontsize=18)\n",
    "plt.ylabel('$k_{nn}$', fontsize=18)\n",
    "plt.xticks(fontsize=14)\n",
    "plt.yticks(fontsize=14)\n",
    "plt.yscale('log')\n",
    "plt.xscale('log')\n",
    "plt.axis([0.1,1000,1,1000])\n",
    "plt.show()"
   ]
  },
  {
   "cell_type": "code",
   "execution_count": null,
   "metadata": {
    "collapsed": true
   },
   "outputs": [],
   "source": [
    "r=nx.degree_assortativity_coefficient(G)"
   ]
  },
  {
   "cell_type": "code",
   "execution_count": null,
   "metadata": {},
   "outputs": [],
   "source": [
    "print(r)"
   ]
  },
  {
   "cell_type": "markdown",
   "metadata": {},
   "source": [
    "The degree assortativity coefficient of a ER graph is zero. The ER graph has no correlations."
   ]
  },
  {
   "cell_type": "code",
   "execution_count": null,
   "metadata": {
    "collapsed": true
   },
   "outputs": [],
   "source": [
    "ERr=nx.degree_assortativity_coefficient(ER)"
   ]
  },
  {
   "cell_type": "code",
   "execution_count": null,
   "metadata": {},
   "outputs": [],
   "source": [
    "ERr"
   ]
  },
  {
   "cell_type": "markdown",
   "metadata": {},
   "source": [
    "NetworkX offers a number of functions to compute the same quantity."
   ]
  },
  {
   "cell_type": "code",
   "execution_count": null,
   "metadata": {
    "collapsed": true
   },
   "outputs": [],
   "source": [
    "knn_avg2=nx.average_degree_connectivity(G)"
   ]
  },
  {
   "cell_type": "code",
   "execution_count": null,
   "metadata": {},
   "outputs": [],
   "source": [
    "print(knn_avg2)"
   ]
  },
  {
   "cell_type": "code",
   "execution_count": null,
   "metadata": {
    "collapsed": true
   },
   "outputs": [],
   "source": [
    "knn_avg3=nx.k_nearest_neighbors(G)"
   ]
  },
  {
   "cell_type": "code",
   "execution_count": null,
   "metadata": {},
   "outputs": [],
   "source": [
    "print(knn_avg3)"
   ]
  },
  {
   "cell_type": "code",
   "execution_count": null,
   "metadata": {},
   "outputs": [],
   "source": [
    "r2=nx.degree_pearson_correlation_coefficient(G)\n",
    "print(r2)"
   ]
  },
  {
   "cell_type": "markdown",
   "metadata": {},
   "source": [
    "---\n",
    "# Simulating random and targeted attacks to a network"
   ]
  },
  {
   "cell_type": "markdown",
   "metadata": {},
   "source": [
    "Resilience is the ability to provide and maintain an acceptable level of service in the face of faults and challenges to normal operation. Threats and challenges for services can range from simple misconfiguration over large scale natural disasters to targeted attacks."
   ]
  },
  {
   "cell_type": "markdown",
   "metadata": {},
   "source": [
    "We define a function that performs a random or targeted attack to a network according to a given strategy (random, degree based, betweenness based, etc. )"
   ]
  },
  {
   "cell_type": "code",
   "execution_count": null,
   "metadata": {
    "collapsed": true
   },
   "outputs": [],
   "source": [
    "def net_attack(graph, ranked_nodes):\n",
    "    \n",
    "    fraction_removed=[]#here we store the tuples: (%removed nodes, size of gcc)\n",
    "    \n",
    "    graph1=graph.copy()\n",
    "    nnodes=len(ranked_nodes)\n",
    "    n=0    \n",
    "    \n",
    "    gcc=list(nx.connected_components(graph1))[0]\n",
    "    \n",
    "    gcc_size=float(len(gcc))/nnodes\n",
    "    \n",
    "    fraction_removed.append( (float(n)/nnodes, gcc_size) )\n",
    "    \n",
    "    while gcc_size>0.01:\n",
    "        \n",
    "        #we start from the end of the list!\n",
    "        graph1.remove_node(ranked_nodes.pop())\n",
    "\n",
    "        gcc=list(nx.connected_components(graph1))[0]\n",
    "        gcc_size=float(len(gcc))/nnodes\n",
    "        n+=1\n",
    "        fraction_removed.append( (float(n)/nnodes, gcc_size) )\n",
    "    \n",
    "    return fraction_removed"
   ]
  },
  {
   "cell_type": "markdown",
   "metadata": {},
   "source": [
    "# Robustness of the US airport network\n",
    "## Random attack"
   ]
  },
  {
   "cell_type": "code",
   "execution_count": null,
   "metadata": {},
   "outputs": [],
   "source": [
    "filepath_air='./../network_data/USairport_2010.txt'"
   ]
  },
  {
   "cell_type": "code",
   "execution_count": null,
   "metadata": {
    "collapsed": true
   },
   "outputs": [],
   "source": [
    "G=nx.Graph()\n",
    "fh=open(filepath_air,'r')\n",
    "for line in fh.readlines():\n",
    "    s=line.strip().split()\n",
    "    G.add_edge(int(s[0]),int(s[1]))\n",
    "fh.close()    "
   ]
  },
  {
   "cell_type": "code",
   "execution_count": null,
   "metadata": {
    "collapsed": true
   },
   "outputs": [],
   "source": [
    "airport_nodes=list(G.nodes())"
   ]
  },
  {
   "cell_type": "code",
   "execution_count": null,
   "metadata": {},
   "outputs": [],
   "source": [
    "resilience_random=net_attack(G, airport_nodes)"
   ]
  },
  {
   "cell_type": "markdown",
   "metadata": {},
   "source": [
    "## Betweenness based attack"
   ]
  },
  {
   "cell_type": "code",
   "execution_count": null,
   "metadata": {
    "collapsed": true
   },
   "outputs": [],
   "source": [
    "from operator import itemgetter"
   ]
  },
  {
   "cell_type": "code",
   "execution_count": null,
   "metadata": {
    "collapsed": true
   },
   "outputs": [],
   "source": [
    "airport_nodes_betw=[]\n",
    "\n",
    "betw=nx.betweenness_centrality(G)\n",
    "for i in sorted(betw.items(), key=itemgetter(1)):\n",
    "    airport_nodes_betw.append(i[0])\n",
    "\n",
    "\n",
    "resilience_betw=net_attack(G, airport_nodes_betw)"
   ]
  },
  {
   "cell_type": "markdown",
   "metadata": {},
   "source": [
    "## Degree based attack"
   ]
  },
  {
   "cell_type": "code",
   "execution_count": null,
   "metadata": {
    "collapsed": true
   },
   "outputs": [],
   "source": [
    "airport_nodes_degree=[]\n",
    "\n",
    "deg=dict(G.degree())\n",
    "for i in sorted(deg.items(), key=itemgetter(1)):\n",
    "    airport_nodes_degree.append(i[0])\n",
    "\n",
    "\n",
    "resilience_deg=net_attack(G, list(airport_nodes_degree))"
   ]
  },
  {
   "cell_type": "markdown",
   "metadata": {},
   "source": [
    "Let's compare the results."
   ]
  },
  {
   "cell_type": "code",
   "execution_count": null,
   "metadata": {},
   "outputs": [],
   "source": [
    "x=[k[0] for k in resilience_random]\n",
    "y=[k[1] for k in resilience_random]\n",
    "\n",
    "x1=[k[0] for k in resilience_deg]\n",
    "y1=[k[1] for k in resilience_deg]\n",
    "\n",
    "x2=[k[0] for k in resilience_betw]\n",
    "y2=[k[1] for k in resilience_betw]\n",
    "\n",
    "plt.figure(figsize=(10,7))\n",
    "\n",
    "plt.plot(x,y, label='random attack')\n",
    "plt.plot(x1,y1, label='degree based')\n",
    "plt.plot(x2,y2, label='betw based')\n",
    "\n",
    "plt.xlabel('$f_{c}$', fontsize=18)\n",
    "plt.ylabel('$LCC$', fontsize=18)\n",
    "plt.xticks(fontsize=14)\n",
    "plt.yticks(fontsize=14)\n",
    "\n",
    "plt.legend(loc='upper right')"
   ]
  },
  {
   "cell_type": "markdown",
   "metadata": {},
   "source": [
    "# Robustness of the Erdos-Renyi random network"
   ]
  },
  {
   "cell_type": "code",
   "execution_count": null,
   "metadata": {
    "collapsed": true
   },
   "outputs": [],
   "source": [
    "ER=nx.fast_gnp_random_graph(2000,0.012)"
   ]
  },
  {
   "cell_type": "code",
   "execution_count": null,
   "metadata": {
    "collapsed": true
   },
   "outputs": [],
   "source": [
    "ER_nodes=list(ER.nodes())\n",
    "\n",
    "ER_nodes_deg=[i for i,d in sorted(dict(ER.degree()).items(), key=itemgetter(1))]\n",
    "\n",
    "ER_betw=nx.betweenness_centrality(ER)\n",
    "ER_nodes_betw=[i for i,b in sorted(dict(ER.ER_betw()).items(), key=itemgetter(1))"
   ]
  },
  {
   "cell_type": "code",
   "execution_count": null,
   "metadata": {
    "collapsed": true
   },
   "outputs": [],
   "source": [
    "resilience_random=net_attack(ER, ER_nodes)\n",
    "resilience_deg=net_attack(ER, ER_nodes_deg)\n",
    "resilience_betw=net_attack(ER, ER_nodes_betw)"
   ]
  },
  {
   "cell_type": "code",
   "execution_count": null,
   "metadata": {},
   "outputs": [],
   "source": [
    "x=[k[0] for k in resilience_random]\n",
    "y=[k[1] for k in resilience_random]\n",
    "\n",
    "x1=[k[0] for k in resilience_deg]\n",
    "y1=[k[1] for k in resilience_deg]\n",
    "\n",
    "x2=[k[0] for k in resilience_betw]\n",
    "y2=[k[1] for k in resilience_betw]\n",
    "\n",
    "plt.figure(figsize=(10,7))\n",
    "\n",
    "plt.plot(x,y, label='random attack')\n",
    "plt.plot(x1,y1, label='degree based')\n",
    "plt.plot(x2,y2, label='betw based')\n",
    "\n",
    "plt.xlabel('$f_{c}$', fontsize=18)\n",
    "plt.ylabel('$LCC$', fontsize=18)\n",
    "plt.xticks(fontsize=14)\n",
    "plt.yticks(fontsize=14)\n",
    "\n",
    "plt.legend(loc='upper right')"
   ]
  },
  {
   "cell_type": "code",
   "execution_count": null,
   "metadata": {
    "collapsed": true
   },
   "outputs": [],
   "source": []
  }
 ],
 "metadata": {
  "kernelspec": {
   "display_name": "Python 3",
   "language": "python",
   "name": "python3"
  },
  "language_info": {
   "codemirror_mode": {
    "name": "ipython",
    "version": 3
   },
   "file_extension": ".py",
   "mimetype": "text/x-python",
   "name": "python",
   "nbconvert_exporter": "python",
   "pygments_lexer": "ipython3",
   "version": "3.6.4"
  }
 },
 "nbformat": 4,
 "nbformat_minor": 2
}
